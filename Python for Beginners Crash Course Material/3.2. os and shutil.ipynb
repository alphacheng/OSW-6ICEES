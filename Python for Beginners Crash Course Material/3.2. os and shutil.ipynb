{
 "cells": [
  {
   "cell_type": "markdown",
   "metadata": {},
   "source": [
    "<a id='back_to_top'></a>"
   ]
  },
  {
   "cell_type": "markdown",
   "metadata": {},
   "source": [
    "<img src='img/logo.png' alt='Drawing' style='width:2000px;'/>\n",
    "<img src='img/_logo.JPG' alt='Drawing' style='width:2000px;'/>"
   ]
  },
  {
   "cell_type": "markdown",
   "metadata": {},
   "source": [
    "# <font color=blue>3. Libraries</font>\n",
    "## <font color=blue>3.6. os and shutil</font>\n",
    "| | | |\n",
    "|-|-|-|\n",
    "| | | |\n",
    "| <img src='https://encrypted-tbn0.gstatic.com/images?q=tbn:ANd9GcSCwBNpoY16HxMT_5CXy7kGlx1VY-WrzcKGwOE4yLbYAUb1o2mSuw' alt='Drawing' style='width:100px;'/> | <img src='https://image.freepik.com/free-icon/addition-thick-symbol_318-36715.jpg' alt='Drawing' style='width:50px;'/> | <img src='https://d2rhekw5qr4gcj.cloudfront.net/img/400sqf/from/uploads/course_photos/2786926000140821210808.jpg' alt='Drawing' style='width:100px;'/> |\n",
    "| | | | |\n",
    "The `os` package (module) is a very useful tool that provides a portable way of using operating system dependent functionality (e.g. read or write a file, manipulate paths). For more high-level file and directoty handling, the `shutil` mdoule is the way to go.\n",
    "### <font color=blue>3.6.1. os</font>\n",
    "To use `os` you need to import the module, using for example:"
   ]
  },
  {
   "cell_type": "code",
   "execution_count": null,
   "metadata": {},
   "outputs": [],
   "source": [
    "import os"
   ]
  },
  {
   "cell_type": "markdown",
   "metadata": {},
   "source": [
    "<font color=red><div style=\"text-align: right\"> **Documentation for**  \n",
    "[**`os`**](https://docs.python.org/2/library/os.html)</div></font>"
   ]
  },
  {
   "cell_type": "markdown",
   "metadata": {},
   "source": [
    "#### <font color=blue>3.6.1.1. Get the current working directory</font>\n",
    "Oftentimes, there is a need to consult the current working directory, in order to operate on the subfolders and/or files currently there. To do it, the `getcwd` function can be used:"
   ]
  },
  {
   "cell_type": "code",
   "execution_count": null,
   "metadata": {},
   "outputs": [],
   "source": [
    "cwd = os.getcwd()\n",
    "print(cwd)"
   ]
  },
  {
   "cell_type": "markdown",
   "metadata": {},
   "source": [
    "#### <font color=blue>3.6.1.2. List of the entries in a directory</font>\n",
    "`os` also offers an important function to list the folder and files in a given directory, with `listdir`:"
   ]
  },
  {
   "cell_type": "code",
   "execution_count": null,
   "metadata": {},
   "outputs": [],
   "source": [
    "entries = os.listdir(cwd) \n",
    "for i in entries:\n",
    "    print(i)"
   ]
  },
  {
   "cell_type": "markdown",
   "metadata": {},
   "source": [
    "#### <font color=blue>3.6.1.3. Filter entries of directory search </font>\n",
    "You can also filter the entries provided by `listdir`, to, for example, specific file names/extensions or only folders. If you want filter by file extension, for example, you can make use of the `endswith()` internal Python string method:"
   ]
  },
  {
   "cell_type": "code",
   "execution_count": null,
   "metadata": {},
   "outputs": [],
   "source": [
    "entries = os.listdir(cwd) \n",
    "for i in entries:\n",
    "    if i.endswith('.ipynb'):\n",
    "        print(i)"
   ]
  },
  {
   "cell_type": "markdown",
   "metadata": {},
   "source": [
    "Or, if your filtering criteria consistis on some aspect related to the beginning of the file/folder names, you can use the `startswith()` method:"
   ]
  },
  {
   "cell_type": "code",
   "execution_count": null,
   "metadata": {},
   "outputs": [],
   "source": [
    "entries = os.listdir(cwd) \n",
    "for i in entries:\n",
    "    if i.startswith('2'):\n",
    "        print(i)"
   ]
  },
  {
   "cell_type": "code",
   "execution_count": null,
   "metadata": {},
   "outputs": [],
   "source": [
    "entries = os.listdir(cwd) \n",
    "for i in entries:\n",
    "    if 'and' in i:\n",
    "        print(i)"
   ]
  },
  {
   "cell_type": "markdown",
   "metadata": {},
   "source": [
    "It is also possible to filter the entries by subdirectories only (i.e. consider only the subfolders in the directory, ignoring the files), using the `path.isdir` method of `os`:"
   ]
  },
  {
   "cell_type": "code",
   "execution_count": null,
   "metadata": {},
   "outputs": [],
   "source": [
    "entries = os.listdir(cwd) \n",
    "for i in entries:\n",
    "    if os.path.isdir(i) == True:\n",
    "        print(i)"
   ]
  },
  {
   "cell_type": "markdown",
   "metadata": {},
   "source": [
    "#### <font color=blue>3.6.1.4. Create subpath strings</font>\n",
    "Now, to access subpaths, all you have to do is to join the entrie you want (i.e. subfolder name) with the current working directory. For example, let's read all the entries inside the 'tools' folder: "
   ]
  },
  {
   "cell_type": "code",
   "execution_count": null,
   "metadata": {},
   "outputs": [],
   "source": [
    "print(cwd)"
   ]
  },
  {
   "cell_type": "code",
   "execution_count": null,
   "metadata": {},
   "outputs": [],
   "source": [
    "entries = os.listdir(cwd) \n",
    "for i in entries:\n",
    "    if os.path.isdir(i) == True:\n",
    "        if i == 'tools':\n",
    "            cwd_mod = cwd + '\\\\' + i\n",
    "            print(cwd_mod)\n",
    "            for j in os.listdir(cwd_mod):\n",
    "                print(j)"
   ]
  },
  {
   "cell_type": "markdown",
   "metadata": {},
   "source": [
    "The procedure above also applies if you want to get the full path of the files inside folder/subfolders that you might want to process. Just make sure the addition of sublevels and subfiles to the working directory os made with `\\\\`:"
   ]
  },
  {
   "cell_type": "code",
   "execution_count": null,
   "metadata": {},
   "outputs": [],
   "source": [
    "entries = os.listdir(cwd) \n",
    "for i in entries:\n",
    "    if os.path.isdir(i) == True:\n",
    "        if i == 'tools':\n",
    "            cwd_mod = cwd + '\\\\' + i\n",
    "            for j in os.listdir(cwd_mod):\n",
    "                file_path = cwd_mod + '\\\\' + j\n",
    "                print(file_path)"
   ]
  },
  {
   "cell_type": "markdown",
   "metadata": {},
   "source": [
    "#### <font color=blue>3.6.1.5. Create a folder</font>\n",
    "`os` also allows you to create folders at will with `mkdir`. However, to avoid any errors, get used to checking first if the folder exists, with `path.exists`, and if not, create it:"
   ]
  },
  {
   "cell_type": "code",
   "execution_count": null,
   "metadata": {},
   "outputs": [],
   "source": [
    "folder_create_name = 'test'\n",
    "folder_create_path = cwd + '\\\\' + folder_create_name\n",
    "if not os.path.exists(folder_create_path):\n",
    "    os.mkdir(folder_create_path)"
   ]
  },
  {
   "cell_type": "markdown",
   "metadata": {},
   "source": [
    "#### <font color=blue>3.6.1.6. Rename file or folder</font>\n",
    "To rename a file or folder, the `rename` method can be used:"
   ]
  },
  {
   "cell_type": "code",
   "execution_count": null,
   "metadata": {},
   "outputs": [],
   "source": [
    "# old path (includes old name), new path (includes new name)\n",
    "new_path = folder_create_path + '2'\n",
    "if os.path.exists(folder_create_path):\n",
    "    os.rename(folder_create_path, new_path)"
   ]
  },
  {
   "cell_type": "markdown",
   "metadata": {},
   "source": [
    "#### <font color=blue>3.6.1.7. Delete files, directories</font>\n",
    "`os` also includes methods to delete files and directories, with `os.remove` and `os.rmdirs`. However, the `shutil` package is a more appropriate option for such cases. "
   ]
  },
  {
   "cell_type": "markdown",
   "metadata": {},
   "source": [
    "### <font color=blue>3.6.2. shutil</font>\n",
    "For more high-level directory handling, the `os` has some limitations, which propmt the use of `shutil` instead. To use the package, you can import it as:"
   ]
  },
  {
   "cell_type": "code",
   "execution_count": null,
   "metadata": {},
   "outputs": [],
   "source": [
    "import shutil"
   ]
  },
  {
   "cell_type": "markdown",
   "metadata": {},
   "source": [
    "<font color=red><div style=\"text-align: right\"> **Documentation for**  \n",
    "[**`shutil`**](https://docs.python.org/2/library/shutil.html)</div></font>"
   ]
  },
  {
   "cell_type": "markdown",
   "metadata": {},
   "source": [
    "#### <font color=blue>3.6.2.1. Copy files</font>"
   ]
  },
  {
   "cell_type": "code",
   "execution_count": null,
   "metadata": {},
   "outputs": [],
   "source": [
    "# This is just to get the current directory again\n",
    "import os\n",
    "cwd = os.getcwd()"
   ]
  },
  {
   "cell_type": "markdown",
   "metadata": {},
   "source": [
    "Let's copy a file into a folder with a given name of owr choice. Beware that if you keep copying, the file just gets replaced again and again:"
   ]
  },
  {
   "cell_type": "code",
   "execution_count": null,
   "metadata": {},
   "outputs": [],
   "source": [
    "file_to_copy = cwd + '\\\\' + '3.2. os and shutil.ipynb'\n",
    "destination = cwd + '\\\\' + 'test2'\n",
    "shutil.copy(file_to_copy, destination)"
   ]
  },
  {
   "cell_type": "markdown",
   "metadata": {},
   "source": [
    "#### <font color=blue>3.6.2.2. Copy folders (including contents)</font>"
   ]
  },
  {
   "cell_type": "markdown",
   "metadata": {},
   "source": [
    "Now, lets copy an entire folder instead of just one file. If you try to do this copy more than once, it will tell you that it cannot copy again die to lack of permission:"
   ]
  },
  {
   "cell_type": "code",
   "execution_count": null,
   "metadata": {},
   "outputs": [],
   "source": [
    "folder_to_copy = cwd + '\\\\' + 'test2'\n",
    "destination = cwd + '\\\\' + 'test3'\n",
    "shutil.copytree(folder_to_copy, destination)"
   ]
  },
  {
   "cell_type": "markdown",
   "metadata": {},
   "source": [
    "#### <font color=blue>3.6.2.3. Rename and moving files</font>"
   ]
  },
  {
   "cell_type": "markdown",
   "metadata": {},
   "source": [
    "Let's now rename the file inside the 'test2' folder, and move it to the 'test3' folder. Again, if you try to do it more than once, Python will raine an error, since the file was moved and no longer can the old file be recognized in the old path."
   ]
  },
  {
   "cell_type": "code",
   "execution_count": null,
   "metadata": {},
   "outputs": [],
   "source": [
    "old_path = cwd + '\\\\test2\\\\3.2. os and shutil.ipynb'\n",
    "new_path = cwd + '\\\\test3\\\\i have a new name now.ipynb'\n",
    "shutil.move(old_path, new_path)"
   ]
  },
  {
   "cell_type": "markdown",
   "metadata": {},
   "source": [
    "#### <font color=blue>3.6.2.4. Deleting folders (including contents)</font>"
   ]
  },
  {
   "cell_type": "markdown",
   "metadata": {},
   "source": [
    "Whereas `os` can only delete folders that are completely empty, `shutil` allows you to permanently delete entire directory trees (i.e. folders and contents). So, let's delete the 'test2' and 'test3' folders, knowing that the former should now empty, whilst the latter contains some files. To try to do it more than once will raise an error, since the folders no longer exist after the first iteration:"
   ]
  },
  {
   "cell_type": "code",
   "execution_count": null,
   "metadata": {
    "scrolled": false
   },
   "outputs": [],
   "source": [
    "for folder_path in [cwd + '\\\\test2', cwd + '\\\\test3']:\n",
    "    shutil.rmtree(folder_path)"
   ]
  },
  {
   "cell_type": "markdown",
   "metadata": {},
   "source": [
    "[Back to top](#back_to_top)"
   ]
  }
 ],
 "metadata": {
  "kernelspec": {
   "display_name": "Python 3 (ipykernel)",
   "language": "python",
   "name": "python3"
  },
  "language_info": {
   "codemirror_mode": {
    "name": "ipython",
    "version": 3
   },
   "file_extension": ".py",
   "mimetype": "text/x-python",
   "name": "python",
   "nbconvert_exporter": "python",
   "pygments_lexer": "ipython3",
   "version": "3.8.10"
  }
 },
 "nbformat": 4,
 "nbformat_minor": 2
}
