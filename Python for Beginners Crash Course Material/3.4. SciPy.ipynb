{
 "cells": [
  {
   "cell_type": "markdown",
   "metadata": {},
   "source": [
    "<a id='back_to_top'></a>"
   ]
  },
  {
   "cell_type": "markdown",
   "metadata": {},
   "source": [
    "<img src='img/_logo.JPG' alt='Drawing' style='width:2000px;'/>"
   ]
  },
  {
   "cell_type": "markdown",
   "metadata": {},
   "source": [
    "# <font color=blue>3. Libraries</font>\n",
    "## <font color=blue>3.2. SciPy</font>\n",
    "| | |\n",
    "|-|-|\n",
    "| | |\n",
    "| <img src='https://www.nixp.ru/uploads/news/fullsize_image/8eef272e9391957a9f14b9a9974e51b8333d6e41.png' alt='Drawing' style='height:100px;'/> |\n",
    "| | | |\n",
    "The `scipy` framework builds on top of the low-level `numpy` framework for multidimensional arrays, and provides a large number of higher-level scientific algorithms. Some of the topics that `scipy` covers are:\n",
    "\n",
    "- [Integration](http://docs.scipy.org/doc/scipy/reference/integrate.html)\n",
    "- [Interpolation](http://docs.scipy.org/doc/scipy/reference/interpolate.html)\n",
    "- [Optimization](http://docs.scipy.org/doc/scipy/reference/optimize.html)\n",
    "- [Statistics](http://docs.scipy.org/doc/scipy/reference/stats.html)\n",
    "\n",
    "Each of these submodules provides a number of functions and classes that can be used to solve problems in their respective topics. In this notebook only a limited number of these subpackages will be covered.\n",
    "\n",
    "To use `scipy` you need to import the module, using for example:"
   ]
  },
  {
   "cell_type": "code",
   "execution_count": null,
   "metadata": {},
   "outputs": [],
   "source": [
    "import scipy"
   ]
  },
  {
   "cell_type": "markdown",
   "metadata": {},
   "source": [
    "<font color=red><div style=\"text-align: right\"> **Documentation for**  \n",
    "[**`scipy`**](https://docs.scipy.org/doc/scipy/reference/)</div></font>"
   ]
  },
  {
   "cell_type": "markdown",
   "metadata": {},
   "source": [
    "### <font color=blue>3.2.1. Integration</font>\n",
    "#### <font color=blue>3.2.1.1. Numerical integration: quadrature</font> \n",
    "Numerical evaluation of a function of the type $\\displaystyle \\int_a^b f(x) dx$\n",
    " is called *numerical quadrature*, or simply *quadature*. `scipy` provides a series of functions for different kind of quadrature, for example the `quad`, `dblquad` and `tplquad` for single, double and triple integrals, respectively. Focusing on the `quad` function:"
   ]
  },
  {
   "cell_type": "code",
   "execution_count": null,
   "metadata": {},
   "outputs": [],
   "source": [
    "from scipy.integrate import quad"
   ]
  },
  {
   "cell_type": "markdown",
   "metadata": {},
   "source": [
    "The `quad` function takes a large number of optional arguments, which can be used to fine-tune the behaviour of the function. The basic usage is as follows:"
   ]
  },
  {
   "cell_type": "code",
   "execution_count": null,
   "metadata": {},
   "outputs": [],
   "source": [
    "# define a simple function for the integrand\n",
    "def f(x):\n",
    "    return x**2\n",
    "\n",
    "x_lower = 2 # the lower limit of x\n",
    "x_upper = 6 # the upper limit of x\n",
    "val = quad(f, x_lower, x_upper)\n",
    "print('Integral value = ', val)\n",
    "\n",
    "# This plots both the function and the integral for you to see\n",
    "# This plotting framework will be discussed in detail in the next module\n",
    "import numpy as np\n",
    "import matplotlib.pyplot as plt\n",
    "x = np.arange(0, 10 + 0.1, 0.1)\n",
    "y = f(x)\n",
    "plt.plot(x, \n",
    "         y, \n",
    "         'b', \n",
    "         label = 'Continuous function')\n",
    "plt.xlim(0, 10)\n",
    "plt.ylim(0, 100)\n",
    "x_int = x[np.where((x_lower <= x) * (x <= x_upper))]\n",
    "plt.fill_between(x_int, \n",
    "                 f(x_int), \n",
    "                 color = 'r', \n",
    "                 label = 'Integral')\n",
    "plt.legend(frameon = False)\n",
    "plt.grid()\n",
    "plt.show()"
   ]
  },
  {
   "cell_type": "markdown",
   "metadata": {},
   "source": [
    "<font color=red><div style=\"text-align: right\"> **Documentation for**  \n",
    "[**`scipy.integrate.quad`**](https://docs.scipy.org/doc/scipy-0.19.1/reference/generated/scipy.integrate.quad.html)</div></font>"
   ]
  },
  {
   "cell_type": "markdown",
   "metadata": {},
   "source": [
    "#### <font color=blue>3.2.1.2. Trapezoidal-rule integration</font>  "
   ]
  },
  {
   "cell_type": "markdown",
   "metadata": {},
   "source": [
    "For cases in which the function is discretely defined, `scipy` offers at least one alternative with the `trapz` function:"
   ]
  },
  {
   "cell_type": "code",
   "execution_count": null,
   "metadata": {},
   "outputs": [],
   "source": [
    "from scipy.integrate import trapz"
   ]
  },
  {
   "cell_type": "markdown",
   "metadata": {},
   "source": [
    "This method integrates the discrete function along the given axis using the composite trapezoidal rule. In its syntax, the method takes an array of y-axis locations, and, optionally, an array of the corresponding x-axis locations (if not provided, spacing between points is assumed as 1).\n",
    "\n",
    "Example:"
   ]
  },
  {
   "cell_type": "code",
   "execution_count": null,
   "metadata": {},
   "outputs": [],
   "source": [
    "import numpy as np\n",
    "x = np.arange(0, 5 + 0.5, 0.5)\n",
    "y = [8, 18, 9, 10, 13, 7, 7, 15, 6, 6, 5]\n",
    "\n",
    "x_lower = 1 # the lower limit of x\n",
    "x_upper = 4 # the upper limit of x\n",
    "x_int = x[np.where((x_lower <= x) * (x <= x_upper))]\n",
    "y_int = np.array(y)[np.where((x_lower <= x) * (x <= x_upper))]\n",
    "val = trapz(y_int, x_int)\n",
    "print('Integral value = ', val)\n",
    "\n",
    "# This plots both the function and the integral for you to see\n",
    "# This plotting framework will be discussed in detail in the next module\n",
    "import matplotlib.pyplot as plt\n",
    "plt.plot(x, \n",
    "         y, \n",
    "         color = 'b', \n",
    "         ls = '--',\n",
    "         marker = 'o',  \n",
    "         label = 'Discrete function')\n",
    "plt.xlim(0, 5)\n",
    "plt.ylim(0, 20)\n",
    "plt.fill_between(x_int, \n",
    "                 y_int, \n",
    "                 color = 'r',\n",
    "                 label = 'Integral')\n",
    "plt.legend(frameon = False)\n",
    "plt.grid()\n",
    "plt.show()"
   ]
  },
  {
   "cell_type": "markdown",
   "metadata": {},
   "source": [
    "<font color=red><div style=\"text-align: right\"> **Documentation for**  \n",
    "[**`scipy.integrate.trapz`**](https://docs.scipy.org/doc/scipy-0.19.1/reference/generated/scipy.integrate.trapz.html)</div></font>"
   ]
  },
  {
   "cell_type": "markdown",
   "metadata": {},
   "source": [
    "### <font color=blue>3.2.2. Interpolation</font> \n",
    "Interpolation is simple and convenient in `scipy` (sometimes refered to as splines), and it's packed within the `scipy.interpolate` module:"
   ]
  },
  {
   "cell_type": "code",
   "execution_count": null,
   "metadata": {},
   "outputs": [],
   "source": [
    "from scipy.interpolate import *"
   ]
  },
  {
   "cell_type": "markdown",
   "metadata": {},
   "source": [
    "A number of interpolation schemes are available, ranging in levels of complexity (e.g. linear, cubic, Akima), all functions that, when given arrays describing X and Y data, return an object that behaves like a function that can be called for an arbitrary value of x (in the range covered by X), and it returns the corresponding interpolated y value. Note that the X array, used to compute a virtual function for y = f(x), must be provided in an ascending order of values, otherwise an error will be raised.\n",
    "\n",
    "Example:"
   ]
  },
  {
   "cell_type": "code",
   "execution_count": null,
   "metadata": {},
   "outputs": [],
   "source": [
    "import numpy as np\n",
    "x = np.linspace(-1, 1, 9)\n",
    "y = np.array([0, 0.5, 0.7, 3, 1, 0.9, 0.75, 0.5, 0])\n",
    "\n",
    "linear_interpolation = interp1d(x, y)\n",
    "cubic_interpolation = interp1d(x, y, kind = 'cubic')\n",
    "akima_interpolation = Akima1DInterpolator(x, y)\n",
    "x_int = -0.9\n",
    "val_li = linear_interpolation(x_int)\n",
    "val_cubic = cubic_interpolation(x_int)\n",
    "val_ak = akima_interpolation(x_int)\n",
    "print('Value at x = -0.9 for linear spline: ',  val_li, '(basic interpolation, limited at times)')\n",
    "print('Value at x = -0.9 for cubic spline: ',  val_cubic, '(notice how it does not compute well with data outliers)')\n",
    "print('Value at x = -0.9 for Akima spline: ',  val_ak, '(very good interpolation scheme, even with data outliers)')\n",
    "\n",
    "# This plots both the original data and the interpolation functions for you to see\n",
    "# This plotting framework will be discussed in detail in the next module\n",
    "import matplotlib.pyplot as plt\n",
    "plt.scatter(x, \n",
    "            y, \n",
    "            color = 'b',\n",
    "            marker = 'D',\n",
    "            label = 'Original',)\n",
    "x_plot_int = np.linspace(-1, 1, 100)\n",
    "y_plot_int_li = linear_interpolation(x_plot_int)\n",
    "plt.plot(x_plot_int, \n",
    "         y_plot_int_li, \n",
    "         color = 'k',\n",
    "         label = 'Linear',)\n",
    "y_plot_int_cubic = cubic_interpolation(x_plot_int)\n",
    "plt.plot(x_plot_int, \n",
    "         y_plot_int_cubic, \n",
    "         color = 'g',\n",
    "         label = 'Cubic',)\n",
    "y_plot_int_ak = akima_interpolation(x_plot_int)\n",
    "plt.plot(x_plot_int, \n",
    "         y_plot_int_ak, \n",
    "         color = 'r',\n",
    "         label = 'Akima',)\n",
    "plt.xlim(-1.5, 1.5)\n",
    "plt.ylim(-0.5, 3.5)\n",
    "plt.legend(frameon = False)\n",
    "plt.grid()\n",
    "plt.show()"
   ]
  },
  {
   "cell_type": "markdown",
   "metadata": {},
   "source": [
    "Notice that the interpolation functions were defined between a range of x between -1 and 1. Trying to compute the value of y for a given x outside this range will raise an error (or result in a `NaN` - Not a Number - value in the case of the Akima interpolator):"
   ]
  },
  {
   "cell_type": "code",
   "execution_count": null,
   "metadata": {},
   "outputs": [],
   "source": [
    "akima_interpolation(10)"
   ]
  },
  {
   "cell_type": "code",
   "execution_count": null,
   "metadata": {},
   "outputs": [],
   "source": [
    "linear_interpolation(10)"
   ]
  },
  {
   "cell_type": "markdown",
   "metadata": {},
   "source": [
    "<font color=red><div style=\"text-align: right\"> **Documentation for**  \n",
    "[**`scipy.integrate.interp1d`**](https://docs.scipy.org/doc/scipy-0.19.1/reference/generated/scipy.interpolate.interp1d.html)  \n",
    "[**`scipy.interpolate.Akima1DInterpolator`**](https://docs.scipy.org/doc/scipy-0.14.0/reference/generated/scipy.interpolate.Akima1DInterpolator.html)</div></font>"
   ]
  },
  {
   "cell_type": "markdown",
   "metadata": {},
   "source": [
    "### <font color=blue>3.2.3. Optimization</font>  \n",
    "Optimization in `scipy` is packed within the `scipy.optimize` module:"
   ]
  },
  {
   "cell_type": "code",
   "execution_count": null,
   "metadata": {},
   "outputs": [],
   "source": [
    "from scipy.optimize import *"
   ]
  },
  {
   "cell_type": "markdown",
   "metadata": {},
   "source": [
    "Several functionalities for optimization procedures are available in `scipy.optimize`. They cover a wide range of applications (e.g. unconstrained and constrained minimization of multivariate scalar functions, brute-force optimization schemes, least-squares minimization and curve fitting).\n",
    "#### <font color=blue>3.2.3.1. Minimization</font>   \n",
    "The `minimize` module entails the minimization of scalar functions of one or more variables. It takes severeal arguments, one of which relates to the type of solver you want to use. In general, the optimization problems are of the form:\n",
    "\n",
    "$\\displaystyle minimize\\{f(x)\\},\\ where\\ g_i(x)\\leq 0\\ and\\ h_j(x)= 0$.\n",
    "\n",
    "It can be applied to simple problems, such has finding the minimum of a well-defined mathematical function.\n",
    "\n",
    "Example:\n",
    "\n",
    "Function: $\\displaystyle f(x) = (x_1 - 1)^2 + (x_2 - 2.5)^2$"
   ]
  },
  {
   "cell_type": "code",
   "execution_count": null,
   "metadata": {},
   "outputs": [],
   "source": [
    "fun = lambda x: (x[0] - 1)**2 + (x[1] - 2.5)**2"
   ]
  },
  {
   "cell_type": "markdown",
   "metadata": {
    "collapsed": true
   },
   "source": [
    "The function looks like this:"
   ]
  },
  {
   "cell_type": "code",
   "execution_count": null,
   "metadata": {},
   "outputs": [],
   "source": [
    "from mpl_toolkits.mplot3d import Axes3D\n",
    "import matplotlib.pyplot as plt\n",
    "from matplotlib import cm\n",
    "from matplotlib.ticker import LinearLocator, FormatStrFormatter\n",
    "import numpy as np\n",
    "fig = plt.figure(figsize = (4, 4), dpi = 100)\n",
    "ax = Axes3D(fig)\n",
    "X = np.linspace(-6, 6, 100)\n",
    "Y = np.linspace(-6, 6, 100)\n",
    "X, Y = np.meshgrid(X, Y)\n",
    "Z = fun(x = [X, Y])\n",
    "ax.plot_surface(X, Y, Z, color = 'r', antialiased = False)\n",
    "ax.set_xlim(-8, 8)\n",
    "ax.set_xticks(np.arange(-8, 8 + 2, 2))\n",
    "ax.set_ylim(-8, 8)\n",
    "ax.set_yticks(np.arange(-8, 8 + 2, 2))\n",
    "ax.set_zlim(0, 150)\n",
    "ax.set_zticks(np.arange(0, 150 + 25, 25))\n",
    "ax.set_xlabel(r'$\\mathrm{x_1}$')\n",
    "ax.set_ylabel(r'$\\mathrm{x_2}$')\n",
    "ax.set_zlabel(r'$\\mathrm{f(x)}$')\n",
    "plt.show()"
   ]
  },
  {
   "cell_type": "markdown",
   "metadata": {
    "collapsed": true
   },
   "source": [
    "To apply `minimize`, an initial guess is needed, which then allows for both the minimum and the variable values that lead to the minimum to be calculated, need to be computed."
   ]
  },
  {
   "cell_type": "code",
   "execution_count": null,
   "metadata": {},
   "outputs": [],
   "source": [
    "fun = lambda x: (x[0] - 1)**2 + (x[1] - 2.5)**2  # The function to minimize\n",
    "initial_guess = [0, 0]                           # x = [x[0], x[1]] = [x1, x2]\n",
    "res = minimize(fun, x0 = initial_guess)          # This runs the optimization, taking (mandatory) an initial guess\n",
    "x1_x2_minimum = res['x']                         # These are the obtained values of x1 and x2 for the minimum\n",
    "f_minimum = res['fun']                           # These is the obtained f(x1, x2) at the minimum\n",
    "print(x1_x2_minimum, f_minimum)"
   ]
  },
  {
   "cell_type": "markdown",
   "metadata": {
    "collapsed": true
   },
   "source": [
    "The location of the minimum looks like this:"
   ]
  },
  {
   "cell_type": "code",
   "execution_count": null,
   "metadata": {},
   "outputs": [],
   "source": [
    "from mpl_toolkits.mplot3d import Axes3D\n",
    "import matplotlib.pyplot as plt\n",
    "from matplotlib import cm\n",
    "from matplotlib.ticker import LinearLocator, FormatStrFormatter\n",
    "import numpy as np\n",
    "fig = plt.figure(figsize = (4, 4), dpi = 100)\n",
    "ax = Axes3D(fig)\n",
    "X = np.linspace(-6, 6, 100)\n",
    "Y = np.linspace(-6, 6, 100)\n",
    "X, Y = np.meshgrid(X, Y)\n",
    "Z = fun(x = [X, Y])\n",
    "ax.plot_surface(X, Y, Z, color = 'r', antialiased = False)\n",
    "ax.set_xlim(-8, 8)\n",
    "ax.set_xticks(np.arange(-8, 8 + 2, 2))\n",
    "ax.set_ylim(-8, 8)\n",
    "ax.set_yticks(np.arange(-8, 8 + 2, 2))\n",
    "ax.set_zlim(0, 150)\n",
    "ax.set_zticks(np.arange(0, 150 + 25, 25))\n",
    "ax.set_xlabel(r'$\\mathrm{x_1}$')\n",
    "ax.set_ylabel(r'$\\mathrm{x_2}$')\n",
    "ax.set_zlabel(r'$\\mathrm{f(x)}$')\n",
    "ax.plot([x1_x2_minimum[0], x1_x2_minimum[0]], [-8, 8], [0, 0], color = 'b', alpha = 0.25)\n",
    "ax.plot([-8, 8], [x1_x2_minimum[1], x1_x2_minimum[1]], [0, 0], color = 'b', alpha = 0.25)\n",
    "ax.plot([x1_x2_minimum[0], x1_x2_minimum[0]], [x1_x2_minimum[1], x1_x2_minimum[1]], [0, 150], color = 'b', alpha = 0.25)\n",
    "plt.show()"
   ]
  },
  {
   "cell_type": "markdown",
   "metadata": {},
   "source": [
    "Constraints can also be considered with `minimize`, by passing the `constraints` argument, which modifies the objective function itself (i.e. no longer os the global minimum found, but the minimum than obeys the constraints provided). When providing the constraints, the type ('eq' for equality, 'ineq' for inequality) must be provided. Also, the variables themselves can also be bounded (acts as a constraint, but can be used directly with the `bonds` argument of `minimize`. \n",
    "\n",
    "Example:\n",
    "\n",
    "Function: $\\displaystyle f(x) = (x_1 - 1)^2 + (x_2 - 2.5)^2$\n",
    "\n",
    "Constraints: $\\displaystyle x_1 - 2*x_2 + 2 \\geq 0$ and $\\displaystyle x_1 - 2*x_2 + 6 \\geq 0$ and $\\displaystyle -x_1 + 2*x_2 + 2 \\geq 0$\n",
    "\n",
    "Bounds: $\\displaystyle x_1 \\geq 0$ and $\\displaystyle x_2 \\geq 0$"
   ]
  },
  {
   "cell_type": "code",
   "execution_count": null,
   "metadata": {},
   "outputs": [],
   "source": [
    "import numpy as np\n",
    "pos_infinite = np.inf\n",
    "fun = lambda x: (x[0] - 1)**2 + (x[1] - 2.5)**2\n",
    "initial_guess = [0, 0]\n",
    "cons = ({'type': 'ineq', 'fun': lambda x:  x[0] - 2 * x[1] + 2},\n",
    "        {'type': 'ineq', 'fun': lambda x: -x[0] - 2 * x[1] + 6},\n",
    "        {'type': 'ineq', 'fun': lambda x: -x[0] + 2 * x[1] + 2})\n",
    "bnds = ((0, pos_infinite), (0, pos_infinite))\n",
    "res = minimize(fun, x0 = initial_guess, bounds = bnds, constraints = cons)\n",
    "x1_x2_minimum = res['x']\n",
    "f_minimum = res['fun']\n",
    "print(x1_x2_minimum, f_minimum)"
   ]
  },
  {
   "cell_type": "markdown",
   "metadata": {
    "collapsed": true
   },
   "source": [
    "The location of the new minimum looks like this:"
   ]
  },
  {
   "cell_type": "code",
   "execution_count": null,
   "metadata": {},
   "outputs": [],
   "source": [
    "from mpl_toolkits.mplot3d import Axes3D\n",
    "import matplotlib.pyplot as plt\n",
    "from matplotlib import cm\n",
    "from matplotlib.ticker import LinearLocator, FormatStrFormatter\n",
    "import numpy as np\n",
    "fig = plt.figure(figsize = (4, 4), dpi = 100)\n",
    "ax = Axes3D(fig)\n",
    "X = np.linspace(-6, 6, 100)\n",
    "Y = np.linspace(-6, 6, 100)\n",
    "X, Y = np.meshgrid(X, Y)\n",
    "Z = fun(x = [X, Y])\n",
    "ax.plot_surface(X, Y, Z, color = 'r', antialiased = False)\n",
    "ax.set_xlim(-8, 8)\n",
    "ax.set_xticks(np.arange(-8, 8 + 2, 2))\n",
    "ax.set_ylim(-8, 8)\n",
    "ax.set_yticks(np.arange(-8, 8 + 2, 2))\n",
    "ax.set_zlim(0, 150)\n",
    "ax.set_zticks(np.arange(0, 150 + 25, 25))\n",
    "ax.set_xlabel(r'$\\mathrm{x_1}$')\n",
    "ax.set_ylabel(r'$\\mathrm{x_2}$')\n",
    "ax.set_zlabel(r'$\\mathrm{f(x)}$')\n",
    "ax.plot([x1_x2_minimum[0], x1_x2_minimum[0]], [-8, 8], [0, 0], color = 'b', alpha = 0.25)\n",
    "ax.plot([-8, 8], [x1_x2_minimum[1], x1_x2_minimum[1]], [0, 0], color = 'b', alpha = 0.25)\n",
    "ax.plot([x1_x2_minimum[0], x1_x2_minimum[0]], [x1_x2_minimum[1], x1_x2_minimum[1]], [0, 150], color = 'b', alpha = 0.25)\n",
    "plt.show()"
   ]
  },
  {
   "cell_type": "markdown",
   "metadata": {},
   "source": [
    "The `minimize` also allows for the definition of the optimization scheme (solver) intended by the user, from within a set of implemented methods (if the user defines nothing, the default one is used)."
   ]
  },
  {
   "cell_type": "markdown",
   "metadata": {},
   "source": [
    "<font color=red><div style=\"text-align: right\"> **Documentation for**  \n",
    "[**`scipy.optimize.minimize`**](https://docs.scipy.org/doc/scipy/reference/generated/scipy.optimize.minimize.html#scipy.optimize.minimize)  \n",
    "</div></font>"
   ]
  },
  {
   "cell_type": "markdown",
   "metadata": {},
   "source": [
    "#### <font color=blue>3.2.3.2. Brute force and particle swarm optimization (some general notes)</font> \n",
    "For optimization problems with functions that deviate from a closed-form function definition (e.g. complex structural design problems), the `minimize` approach might not suffice. In these cases, a `brute` function can be used instead, provided that dimension of the searchspace involved is reasonable, this being up to the criterion of the user. Also, in cases in which the variables are intended to be within a specific range of possibilities (e.g. one variable can only be an integer number between 1 and 10), `brute` might come in handy."
   ]
  },
  {
   "cell_type": "markdown",
   "metadata": {},
   "source": [
    "By definition, brute-force search is a very general problem-solving technique that consists of systematically checking every possible scenario and choosing the best place to go. Hence, trying to tackle, for example, optimization of 40 variables, with each of them possibly varying between any possible number, would be highly computationally demanding (and also extremely inefficient). This is because the searchspace might be close to an infinite grid. For such cases, using particle swarm optimization is the way to go: thousands of possible solutions are generated, and the algorithm takes care of finding the optimum one, without actually having to test every single scenario. Here is a representation example of this optimum value search process with particle swarm algorithms:\n",
    "<img src='https://i.makeagif.com/media/11-29-2015/3fnpZV.gif' alt='Drawing' style='width:200px;'/>\n",
    "If you're tackling a problem that fits this close-to-infinite searchspace, have a look at the super powerful package\n",
    "[`SwarmPackagePy`](https://github.com/SISDevelop/SwarmPackagePy)."
   ]
  },
  {
   "cell_type": "markdown",
   "metadata": {},
   "source": [
    "<font color=red><div style=\"text-align: right\"> **Documentation for**  \n",
    "[**`scipy.optimize.brute`**](https://docs.scipy.org/doc/scipy/reference/generated/scipy.optimize.brute.html#scipy.optimize.brute)  \n",
    "</div></font>"
   ]
  },
  {
   "cell_type": "markdown",
   "metadata": {},
   "source": [
    "#### <font color=blue>3.2.3.3. Curve fitting</font>\n",
    "`scipy` also allows for fitting of functions to data, with the `curve_fit` function. It uses a non-linear least squares approach to fit a function to the data, returning the optimal values for the parameters so that the sum of the squared residuals is minimized.\n",
    "\n",
    "Example:\n",
    "\n",
    "Let's try to fit a linear function to this data:"
   ]
  },
  {
   "cell_type": "code",
   "execution_count": null,
   "metadata": {},
   "outputs": [],
   "source": [
    "import matplotlib.pyplot as plt\n",
    "import numpy as np\n",
    "import random\n",
    "data_x = np.linspace(2, 8, 100)\n",
    "nums = np.array([x for x in range(100)])\n",
    "random.shuffle(nums)\n",
    "data_y = [5*data_x[idx] + 0.15*nums[idx] for idx in range(len(data_x))]\n",
    "plt.scatter(data_x, data_y, color = 'r', alpha = 0.5, marker = '.')\n",
    "plt.xlim(0, 10)\n",
    "plt.ylim(0, 60)\n",
    "plt.xlabel('x', fontsize = 14)\n",
    "plt.ylabel('y', fontsize = 14)\n",
    "plt.grid()\n",
    "plt.show()"
   ]
  },
  {
   "cell_type": "code",
   "execution_count": null,
   "metadata": {},
   "outputs": [],
   "source": [
    "# First, we create the general function (in this case, a linear equation)\n",
    "lin_func = lambda x, a, b : a*x + b\n",
    "\n",
    "# The data\n",
    "data_x = np.linspace(2, 8, 100)\n",
    "nums = np.array([x for x in range(100)])\n",
    "random.shuffle(nums)\n",
    "data_y = np.array([5*data_x[idx] + 0.15*nums[idx] for idx in range(len(data_x))])\n",
    "\n",
    "# Now we run the curve fitting procedure\n",
    "popt, pcov = curve_fit(lin_func, data_x, data_y)\n",
    "\n",
    "# The R2 parameter needs to be calculated manually\n",
    "residuals = data_y - lin_func(data_x, popt[0], popt[1])\n",
    "ss_res = np.sum(residuals**2)\n",
    "ss_tot = np.sum((data_y - np.mean(data_y))**2)\n",
    "r2 = 1 - (ss_res/ss_tot)\n",
    "\n",
    "# Plot again to see what the fitted curve looks like\n",
    "import matplotlib.pyplot as plt\n",
    "import numpy as np\n",
    "import random\n",
    "plt.scatter(data_x, data_y, color = 'r', alpha = 0.5, marker = '.')\n",
    "fit_x = [min(data_x)-2, max(data_x)+2]\n",
    "fit_y = [lin_func(x, popt[0], popt[1]) for x in fit_x]\n",
    "plt.plot(fit_x, fit_y, color = 'b', label = r'$\\mathrm{y = %.2fx + %.2f\\ (R^2 = %.0f\\%%)}$' % (popt[0], popt[1],r2*100))\n",
    "plt.xlim(0, 10)\n",
    "plt.ylim(0, 60)\n",
    "plt.xlabel('x', fontsize = 14)\n",
    "plt.ylabel('y', fontsize = 14)\n",
    "plt.grid()\n",
    "plt.legend(frameon = False, loc = 'upper left', fontsize = 12)\n",
    "plt.show()"
   ]
  },
  {
   "cell_type": "markdown",
   "metadata": {},
   "source": [
    "[Back to top](#back_to_top)"
   ]
  }
 ],
 "metadata": {
  "kernelspec": {
   "display_name": "Python 3 (ipykernel)",
   "language": "python",
   "name": "python3"
  },
  "language_info": {
   "codemirror_mode": {
    "name": "ipython",
    "version": 3
   },
   "file_extension": ".py",
   "mimetype": "text/x-python",
   "name": "python",
   "nbconvert_exporter": "python",
   "pygments_lexer": "ipython3",
   "version": "3.8.10"
  }
 },
 "nbformat": 4,
 "nbformat_minor": 2
}
