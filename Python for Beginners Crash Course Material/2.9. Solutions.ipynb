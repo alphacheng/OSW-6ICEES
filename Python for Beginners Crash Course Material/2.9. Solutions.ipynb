{
 "cells": [
  {
   "cell_type": "markdown",
   "metadata": {},
   "source": [
    "<a id='back_to_top'></a>"
   ]
  },
  {
   "cell_type": "markdown",
   "metadata": {},
   "source": [
    "<img src='img/_logo.JPG' alt='Drawing' style='width:2000px;'/>"
   ]
  },
  {
   "cell_type": "markdown",
   "metadata": {},
   "source": [
    "# <font color=blue>2. Getting Started</font>\n",
    "## <font color=blue>2.10. Solutions</font>\n",
    "### <font color=blue>Exercise 1</font>"
   ]
  },
  {
   "cell_type": "code",
   "execution_count": null,
   "metadata": {
    "collapsed": true
   },
   "outputs": [],
   "source": [
    "flag = 0\n",
    "while flag == 0:\n",
    "    name = eval(input('What is your name: '))\n",
    "    age = eval(input('How old are you: '))\n",
    "    if type(name) == str and type(age) == int:\n",
    "        flag = 1\n",
    "        years_remain = str(81 - age)\n",
    "        print('Congratulations ' + str(name) + ', you likely have ' + years_remain + ' years left to live!')\n",
    "    else:\n",
    "        print('type of name and/or age is wrong!')"
   ]
  },
  {
   "cell_type": "markdown",
   "metadata": {
    "collapsed": true
   },
   "source": [
    "### <font color=blue>Exercise 2</font>"
   ]
  },
  {
   "cell_type": "code",
   "execution_count": null,
   "metadata": {
    "collapsed": true
   },
   "outputs": [],
   "source": [
    "num = eval(input('Enter a integer number: '))\n",
    "if type(num) == int:\n",
    "    if num % 2 == 0:\n",
    "        print('You picked an odd number.')\n",
    "    else:\n",
    "        print('You picked an even number.')\n",
    "else:\n",
    "    print('ERROR: Please input an integer number.')"
   ]
  },
  {
   "cell_type": "markdown",
   "metadata": {},
   "source": [
    "### <font color=blue>Exercise 3</font>"
   ]
  },
  {
   "cell_type": "code",
   "execution_count": null,
   "metadata": {
    "collapsed": true
   },
   "outputs": [],
   "source": [
    "num_list = eval(input('Enter a list of numbers: '))\n",
    "num_limit = int(input('Choose a threshold number: '))\n",
    "num_list_mod = []\n",
    "for i in num_list:\n",
    "    if i > num_limit:\n",
    "        num_list_mod.append(i)\n",
    "n_num_above = len(num_list_mod)\n",
    "print('There are ' + str(n_num_above) + ' numbers above the threshold: ' + str(sorted(num_list_mod)))"
   ]
  },
  {
   "cell_type": "markdown",
   "metadata": {
    "collapsed": true
   },
   "source": [
    "### <font color=blue>Exercise 4</font>"
   ]
  },
  {
   "cell_type": "code",
   "execution_count": null,
   "metadata": {
    "collapsed": true
   },
   "outputs": [],
   "source": [
    "a = eval(input('Enter the first list of numbers: '))\n",
    "b = eval(input('Enter the second list of numbers: '))\n",
    "commons_list = []\n",
    "if len(a) < len(b):\n",
    "    smaller_list = a\n",
    "    larger_list = b\n",
    "else:\n",
    "    smaller_list = b\n",
    "    larger_list = a\n",
    "for i in smaller_list:\n",
    "    if i in larger_list and i not in commons_list:\n",
    "        commons_list.append(i)\n",
    "n_commons = len(commons_list)\n",
    "print('There are ' + str(n_commons) + ' common values between the lists: ' + str(sorted(commons_list)))"
   ]
  },
  {
   "cell_type": "markdown",
   "metadata": {
    "collapsed": true
   },
   "source": [
    "### <font color=blue>Exercise 5</font>"
   ]
  },
  {
   "cell_type": "code",
   "execution_count": null,
   "metadata": {
    "collapsed": true
   },
   "outputs": [],
   "source": [
    "wrd = eval(input('Please enter a word: '))\n",
    "rvs = ''\n",
    "for i in range(len(wrd)):\n",
    "    rvs += wrd[-1 - i]\n",
    "if wrd == rvs:\n",
    "    print(wrd + ' is a palindrome.')\n",
    "else:\n",
    "    print(wrd + ' is not palindrome.')"
   ]
  },
  {
   "cell_type": "markdown",
   "metadata": {},
   "source": [
    "### <font color=blue>Exercise 6</font>"
   ]
  },
  {
   "cell_type": "code",
   "execution_count": null,
   "metadata": {
    "collapsed": true
   },
   "outputs": [],
   "source": [
    "number = eval(input('Chose an integer number? '))\n",
    "fact = 1\n",
    "if type(number) == int:\n",
    "    for i in range(number + 1):\n",
    "        if i != 0:\n",
    "            fact *= i\n",
    "    print('The factorial of '  + str(number) + ' is ' + str(fact) + '.')\n",
    "else:\n",
    "    print('ERROR: Please input an integer number.')"
   ]
  },
  {
   "cell_type": "markdown",
   "metadata": {},
   "source": [
    "### <font color=blue>Exercise 7</font>"
   ]
  },
  {
   "cell_type": "code",
   "execution_count": null,
   "metadata": {
    "collapsed": true
   },
   "outputs": [],
   "source": [
    "n = eval(input('Chose an integer number? '))\n",
    "if type(n) == int:\n",
    "    d = {}\n",
    "    for i in range(1, n+1):\n",
    "        d[i]=i*i\n",
    "    print('Your dictionary is: '  + str(d))\n",
    "else:\n",
    "    print('ERROR: Please input an integer number.')"
   ]
  },
  {
   "cell_type": "markdown",
   "metadata": {},
   "source": [
    "### <font color=blue>Exercise 8</font>"
   ]
  },
  {
   "cell_type": "code",
   "execution_count": null,
   "metadata": {
    "collapsed": true
   },
   "outputs": [],
   "source": [
    "profiles = {'IPE80': {'G [kg/m]': 6.0, 'A [cm2]': 7.64, 'Iy [cm4]': 80.1, 'iy [cm]': 3.24}, 'IPE100': {'G [kg/m]': 8.1, 'A [cm2]': 10.3, 'Iy [cm4]': 171, 'iy [cm]': 4.07}, 'IPE120': {'G [kg/m]': 10.4, 'A [cm2]': 13.2, 'Iy [cm4]': 318, 'iy [cm]': 4.90}, 'IPE140': {'G [kg/m]': 12.9, 'A [cm2]': 16.4, 'Iy [cm4]': 541, 'iy [cm]': 5.74}, 'IPE160': {'G [kg/m]': 15.8,  'A [cm2]': 20.1, 'Iy [cm4]': 869, 'iy [cm]': 6.58}, 'IPE180': {'G [kg/m]': 18.8,  'A [cm2]': 23.9, 'Iy [cm4]': 1317, 'iy [cm]': 7.42}, 'IPE200': {'G [kg/m]': 22.4, 'A [cm2]': 28.5, 'Iy [cm4]': 1943, 'iy [cm]': 8.26}, 'IPE220': {'G [kg/m]': 26.2, 'A [cm2]': 33.4, 'Iy [cm4]': 2772, 'iy [cm]': 9.11}, 'IPE240': {'G [kg/m]': 30.7, 'A [cm2]': 39.1, 'Iy [cm4]': 3892, 'iy [cm]': 9.97}, 'IPE270': {'G [kg/m]': 36.1, 'A [cm2]': 45.9, 'Iy [cm4]': 5790, 'iy [cm]': 11.2}, 'IPE300': {'G [kg/m]': 42.2, 'A [cm2]': 53.8, 'Iy [cm4]': 8356, 'iy [cm]': 12.5}, 'IPE330': {'G [kg/m]': 49.1, 'A [cm2]': 62.6, 'Iy [cm4]': 11770, 'iy [cm]': 13.7}, 'IPE360': {'G [kg/m]': 57.1, 'A [cm2]': 72.7, 'Iy [cm4]': 16270, 'iy [cm]': 15.0}, 'IPE400': {'G [kg/m]': 66.3, 'A [cm2]': 84.5, 'Iy [cm4]': 23130, 'iy [cm]': 16.6}, 'IPE450': {'G [kg/m]': 77.6, 'A [cm2]': 98.8, 'Iy [cm4]': 33740, 'iy [cm]': 18.5}, 'IPE500': {'G [kg/m]': 90.7, 'A [cm2]': 116, 'Iy [cm4]': 48200, 'iy [cm]': 20.4}, 'IPE550': {'G [kg/m]': 106, 'A [cm2]': 134, 'Iy [cm4]': 67120, 'iy [cm]': 22.4}, 'IPE600': {'G [kg/m]': 122, 'A [cm2]': 156, 'Iy [cm4]': 92080, 'iy [cm]': 24.3}}\n",
    "member_list = eval(input('Whats your list of sections? '))\n",
    "if type(member_list) == list:\n",
    "    for member in member_list:\n",
    "        if member in profiles.keys():\n",
    "            print(member + ': ' \n",
    "                  + 'G = ' + str(profiles[member]['G [kg/m]']) + 'kg/m' + ', ' \n",
    "                  + 'A = ' + str(profiles[member]['A [cm2]']) + 'cm2' + ', ' \n",
    "                  + 'Iy = ' + str(profiles[member]['Iy [cm4]']) + 'cm4' + ', '              \n",
    "                  + 'iy = ' + str(profiles[member]['iy [cm]']) + 'cm' \n",
    "                 )\n",
    "        else:\n",
    "            print(member + ': Not found in the database.') \n",
    "else:\n",
    "    print('ERROR: Please input a list of sections.')"
   ]
  },
  {
   "cell_type": "markdown",
   "metadata": {},
   "source": [
    "[Back to top](#back_to_top)"
   ]
  }
 ],
 "metadata": {
  "kernelspec": {
   "display_name": "Python 3 (ipykernel)",
   "language": "python",
   "name": "python3"
  },
  "language_info": {
   "codemirror_mode": {
    "name": "ipython",
    "version": 3
   },
   "file_extension": ".py",
   "mimetype": "text/x-python",
   "name": "python",
   "nbconvert_exporter": "python",
   "pygments_lexer": "ipython3",
   "version": "3.8.10"
  }
 },
 "nbformat": 4,
 "nbformat_minor": 2
}
