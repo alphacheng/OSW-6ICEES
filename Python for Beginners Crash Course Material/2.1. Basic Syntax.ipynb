{
 "cells": [
  {
   "cell_type": "markdown",
   "metadata": {},
   "source": [
    "<img src='img/_logo.JPG' alt='Drawing' style='width:2000px;'/>"
   ]
  },
  {
   "cell_type": "markdown",
   "metadata": {},
   "source": [
    "# <font color=blue>2. Getting Started</font>\n",
    "## <font color=blue>2.1. Basic Syntax</font>\n",
    "### <font color=blue>2.1.1. Python identifiers</font>\n",
    "A Python identifier is a name used to identify a variable, function, class, module or other object. An identifier can have any letter from A to Z (or a to z), or an underscore or  digits (0 to 9). Python does not allow punctuation characters (e.g. @, $, #, %) within identifiers. Python is a case sensitive programming language. Thus, `Manpower` and `manpower` are two different identifiers in Python."
   ]
  },
  {
   "cell_type": "markdown",
   "metadata": {},
   "source": [
    "### <font color=blue>2.1.2. Reserved words</font>\n",
    "Some words in Python are reserved, not able to be used as constants or variables or any other identifier names: `and, assert, break, class, continue, def, del, elif, else, except, exec, finally, for, from, global, if, import, in, is, lambda, not, or, pass, print, raise, return, try, while, with, yield`."
   ]
  },
  {
   "cell_type": "markdown",
   "metadata": {},
   "source": [
    "### <font color=blue>2.1.3. Lines and indentation</font>\n",
    "Python provides no braces to indicate blocks of code for class and function definitions or flow control. Blocks of code are denoted by line indentation, which is rigidly enforced. The number of spaces in the indentation is variable, but all statements within the block must be indented the same amount.\n",
    "\n",
    "Example:"
   ]
  },
  {
   "cell_type": "markdown",
   "metadata": {},
   "source": [
    "### <font color=blue>2.1.4. Multi-line statements</font>\n",
    "Statements in Python typically end with a new line. Python does, however, allow the use of the line continuation character ( `\\` ) to denote that the line should continue. This is aesthetically useful when the statement is very long:\n",
    "\n",
    "Example:"
   ]
  },
  {
   "cell_type": "code",
   "execution_count": null,
   "metadata": {},
   "outputs": [],
   "source": [
    "a = 1\n",
    "if a > 0:\n",
    "    b = a + 1\n",
    "else:\n",
    "    b = a - 1"
   ]
  },
  {
   "cell_type": "code",
   "execution_count": null,
   "metadata": {},
   "outputs": [],
   "source": [
    "total = 1 + \\\n",
    "        2 + \\\n",
    "        3"
   ]
  },
  {
   "cell_type": "markdown",
   "metadata": {},
   "source": [
    "### <font color=blue>2.1.5. Multiple statements on a single line</font>\n",
    "The semicolon ( `;` ) allows multiple statements on the single line given that neither statement starts a new code block.\n",
    "\n",
    "Example:"
   ]
  },
  {
   "cell_type": "code",
   "execution_count": null,
   "metadata": {},
   "outputs": [],
   "source": [
    "a = 1; b = 2; c = a + b\n",
    "a, b, c"
   ]
  },
  {
   "cell_type": "markdown",
   "metadata": {},
   "source": [
    "### <font color=blue>2.1.6. Quotation</font>\n",
    "Python accepts single ( `'` ), double ( `\"` ) and triple ( `'''` or `\"\"\"` ) quotes to denote string literals, as long as the same type of quote starts and ends the string. The triple quotes are used to span the string across multiple lines.\n",
    "\n",
    "Example:"
   ]
  },
  {
   "cell_type": "code",
   "execution_count": null,
   "metadata": {},
   "outputs": [],
   "source": [
    "word = 'word'\n",
    "sentence = \"This is a sentence.\"\n",
    "paragraph = \"\"\"This is a paragraph. It is \\\n",
    "made up of multiple lines and sentences.\"\"\"\n",
    "print(word)\n",
    "print(sentence) \n",
    "print(paragraph)"
   ]
  },
  {
   "cell_type": "markdown",
   "metadata": {},
   "source": [
    "### <font color=blue>2.1.7. Comments</font> \n",
    "Comments in Python start with the hash caracter ( `#` ), for each of the lines of the comment. A comment may appear at the start of a line or following whitespace or code, but not within a string literal. As good practice, comment as much as possible your code (very useful for the future you).\n",
    "\n",
    "Example:"
   ]
  },
  {
   "cell_type": "code",
   "execution_count": null,
   "metadata": {},
   "outputs": [],
   "source": [
    "# Oh look, a comment \n",
    "test = 1  # Yet another comment...\n",
    "          # that does not end"
   ]
  },
  {
   "cell_type": "markdown",
   "metadata": {},
   "source": [
    "### <font color=grey>2.1.8. Input</font> \n",
    "One useful functionality of Puthon is provided with the function `input()`. This function has an optional parameter, which is the prompt string. When called, the program flow will be stopped until the user has given an input and has ended the input with the return key. The text of the optional parameter, i.e. the prompt, will be printed on the screen. has an optional parameter, which is the prompt string.\n",
    "\n",
    "Example:"
   ]
  },
  {
   "cell_type": "code",
   "execution_count": null,
   "metadata": {},
   "outputs": [],
   "source": [
    "name = input('What\\'s your name? ')\n",
    "print('Nice to meet you ' + name + '!')"
   ]
  },
  {
   "cell_type": "markdown",
   "metadata": {},
   "source": [
    "One of the key differences between Python 2.x and Python 3.x if how the input function works. In Python 3.x, by default, the input of the user will be returned as a string without any changes. This is a problem when you want to do operations on that input (e.g. number multiplication, list searching).\n",
    "\n",
    "Example:  "
   ]
  },
  {
   "cell_type": "code",
   "execution_count": null,
   "metadata": {},
   "outputs": [],
   "source": [
    "number = input('What\\'s your number? ')\n",
    "print(type(number))\n",
    "print(number*10)"
   ]
  },
  {
   "cell_type": "markdown",
   "metadata": {},
   "source": [
    "To avoid the issue above, allways use `eval(input())` instead of just `input()`. This automatically detects the correct type of the user input, and considers it in the computations (i.e. its no longer always a string).\n",
    "\n",
    "Example:"
   ]
  },
  {
   "cell_type": "code",
   "execution_count": null,
   "metadata": {},
   "outputs": [],
   "source": [
    "number = eval(input('What\\'s your number? '))\n",
    "print(type(number))\n",
    "print(number*10)"
   ]
  },
  {
   "cell_type": "markdown",
   "metadata": {},
   "source": [
    "However, `eval(input())` might also introduce some issues. If you try to provide something as input that does not exist in the workspace (a variable that is not defined anywhere), he won't automatically detect that its text you meant.\n",
    "\n",
    "Example:"
   ]
  },
  {
   "cell_type": "code",
   "execution_count": null,
   "metadata": {},
   "outputs": [],
   "source": [
    "# Writing your name without ' ' will produce an error (variable not found)\n",
    "# Writing your name with ' ' is recognized as text, everything works\n",
    "name = eval(input('What\\'s your name? '))\n",
    "print('Nice to meet you ' + name + '!')"
   ]
  },
  {
   "cell_type": "markdown",
   "metadata": {},
   "source": [
    "<font color=red><div style=\"text-align: right\"> **Documentation for**  \n",
    "[**`input`**](https://docs.python.org/3/library/functions.html#input)</div></font>"
   ]
  },
  {
   "cell_type": "markdown",
   "metadata": {},
   "source": [
    "[Back to top](#back_to_top)"
   ]
  }
 ],
 "metadata": {
  "kernelspec": {
   "display_name": "Python 3 (ipykernel)",
   "language": "python",
   "name": "python3"
  },
  "language_info": {
   "codemirror_mode": {
    "name": "ipython",
    "version": 3
   },
   "file_extension": ".py",
   "mimetype": "text/x-python",
   "name": "python",
   "nbconvert_exporter": "python",
   "pygments_lexer": "ipython3",
   "version": "3.8.10"
  }
 },
 "nbformat": 4,
 "nbformat_minor": 2
}
