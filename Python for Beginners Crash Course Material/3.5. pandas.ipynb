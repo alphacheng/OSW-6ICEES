{
 "cells": [
  {
   "cell_type": "markdown",
   "metadata": {},
   "source": [
    "<a id='back_to_top'></a>"
   ]
  },
  {
   "cell_type": "markdown",
   "metadata": {},
   "source": [
    "<img src='img/_logo.JPG' alt='Drawing' style='width:2000px;'/>"
   ]
  },
  {
   "cell_type": "markdown",
   "metadata": {},
   "source": [
    "# <font color=blue>3. Libraries</font>\n",
    "## <font color=blue>3.4. pandas</font>\n",
    "| | |\n",
    "|-|-|\n",
    "| | |\n",
    "| <img src='https://pandas.pydata.org/static/img/pandas.svg' alt='Drawing' style='height:100px;'/> |\n",
    "| | | |\n",
    "`pandas` is a Python package that provides fast, flexible, and expressive data structures designed to make working with “relational” or “labeled” data both easy and intuitive. The two primary data structures of `pandas`, `Series` (1-dimensional) and `DataFrame` (2-dimensional), handle the vast majority of typical use cases in finance, statistics, social science, and many areas of engineering. `pandas` is built on top of the `numpy` package, and is intended to integrate well within a scientific computing environment with many other 3rd party libraries.\n",
    "\n",
    "To use `pandas` you need to start by importing the module, using for example:"
   ]
  },
  {
   "cell_type": "code",
   "execution_count": null,
   "metadata": {},
   "outputs": [],
   "source": [
    "import pandas as pd"
   ]
  },
  {
   "cell_type": "markdown",
   "metadata": {},
   "source": [
    "<font color=red><div style=\"text-align: right\"> **Documentation for**  \n",
    "\n",
    "[**`pandas`**](http://pandas.pydata.org/pandas-docs/stable/) </div></font>"
   ]
  },
  {
   "cell_type": "markdown",
   "metadata": {},
   "source": [
    "### <font color=blue>3.4.1. Reading tabular data files</font>\n",
    "`pandas` offers a number of [IO functions](http://pandas.pydata.org/pandas-docs/version/0.20/io.html),  aimed at reading tabular data files into a `DataFrame`. Options range from simple .csv or Excel files, to more advanced data structures (e.g. HDF5, Pickle, SQL).\n",
    "\n",
    "Example:"
   ]
  },
  {
   "cell_type": "code",
   "execution_count": null,
   "metadata": {},
   "outputs": [],
   "source": [
    "# In this case, the .csv file contains a header line\n",
    "# By default, the function assumes that the first line is a header\n",
    "# If not, you can pass an optional argument 'header = None' that assumes the header as data\n",
    "# Manually providing the header labels can be done with another optional argument 'names = [headerA, ..., headerN]'\n",
    "dc = pd.read_csv('tools\\design_checks.csv')\n",
    "dc"
   ]
  },
  {
   "cell_type": "markdown",
   "metadata": {},
   "source": [
    "If you want to inspect the `DataFrame`, namely the first 5 rows of data (default value), you can do so with the `head()` atribute function: "
   ]
  },
  {
   "cell_type": "code",
   "execution_count": null,
   "metadata": {},
   "outputs": [],
   "source": [
    "dc.head()"
   ]
  },
  {
   "cell_type": "markdown",
   "metadata": {},
   "source": [
    "There is also a method for the last 5 rows of data (default value), with the `tail()` atribute function: "
   ]
  },
  {
   "cell_type": "code",
   "execution_count": null,
   "metadata": {},
   "outputs": [],
   "source": [
    "dc.tail()"
   ]
  },
  {
   "cell_type": "markdown",
   "metadata": {},
   "source": [
    "<font color=red><div style=\"text-align: right\"> **Documentation for**  \n",
    "[**`pandas.read_csv`**](https://pandas.pydata.org/pandas-docs/stable/generated/pandas.read_csv.html)  \n",
    "[**`pandas.DataFrame.head`**](https://pandas.pydata.org/pandas-docs/stable/generated/pandas.DataFrame.head.html)  \n",
    "[**`pandas.DataFrame.tail`**](https://pandas.pydata.org/pandas-docs/stable/generated/pandas.DataFrame.tail.html) </div></font>"
   ]
  },
  {
   "cell_type": "markdown",
   "metadata": {},
   "source": [
    "### <font color=blue>3.4.2. Quick statistics</font> "
   ]
  },
  {
   "cell_type": "code",
   "execution_count": null,
   "metadata": {},
   "outputs": [],
   "source": [
    "# Calculate summary statistics\n",
    "dc.describe()"
   ]
  },
  {
   "cell_type": "code",
   "execution_count": null,
   "metadata": {},
   "outputs": [],
   "source": [
    "# Using an optional parameter to the describe method to summarize only 'object' (string) columns\n",
    "dc.describe(include = ['object'])"
   ]
  },
  {
   "cell_type": "markdown",
   "metadata": {},
   "source": [
    "<font color=red><div style=\"text-align: right\"> **Documentation for**  \n",
    "[**`pandas.DataFrame.describe`**](http://pandas.pydata.org/pandas-docs/stable/generated/pandas.DataFrame.describe.html) </div></font>"
   ]
  },
  {
   "cell_type": "markdown",
   "metadata": {},
   "source": [
    "### <font color=blue>3.4.3. Selecting a pandas Series from a DataFrame</font>  \n",
    "Sometimes, one may need to select a column (`Series`) of the `DataFrame`, effectively using it as a one-dimensional `numpy.array` with axis labels . This can be done by selecting the specific `DataFrame` label within bracket notation. It is also possible to use dot notation instead of bracket notation, but some limitations arise (e.g. dot notation doesn't work if there are spaces in the `Series` name, and can't be used to define the name of a new `Series`).\n",
    "\n",
    "Example:"
   ]
  },
  {
   "cell_type": "code",
   "execution_count": null,
   "metadata": {},
   "outputs": [],
   "source": [
    "dc['ID'].head()"
   ]
  },
  {
   "cell_type": "markdown",
   "metadata": {
    "collapsed": true
   },
   "source": [
    "### <font color=blue>3.4.4. Exploring pandas non-numeric Series</font>   "
   ]
  },
  {
   "cell_type": "code",
   "execution_count": null,
   "metadata": {},
   "outputs": [],
   "source": [
    "# Read the design check dataset\n",
    "dc = pd.read_csv('tools\\design_checks.csv')\n",
    "dc.head()"
   ]
  },
  {
   "cell_type": "code",
   "execution_count": null,
   "metadata": {},
   "outputs": [],
   "source": [
    "# Count the non-null values, unique values, and frequency of the most common value\n",
    "dc['Check'].describe()"
   ]
  },
  {
   "cell_type": "code",
   "execution_count": null,
   "metadata": {},
   "outputs": [],
   "source": [
    "# Count how many times each value in the Series occurs\n",
    "dc['Check'].value_counts()"
   ]
  },
  {
   "cell_type": "code",
   "execution_count": null,
   "metadata": {},
   "outputs": [],
   "source": [
    "# Display percentages instead of raw counts\n",
    "dc['Check'].value_counts(normalize = True)"
   ]
  },
  {
   "cell_type": "code",
   "execution_count": null,
   "metadata": {},
   "outputs": [],
   "source": [
    "# Display the unique values in the Series\n",
    "dc['Check'].unique()"
   ]
  },
  {
   "cell_type": "code",
   "execution_count": null,
   "metadata": {},
   "outputs": [],
   "source": [
    "# Count the number of unique values in the Series\n",
    "dc['Check'].nunique()"
   ]
  },
  {
   "cell_type": "code",
   "execution_count": null,
   "metadata": {},
   "outputs": [],
   "source": [
    "# compute a cross-tabulation of two Series\n",
    "pd.crosstab(dc['ID'], dc['Check']).head()"
   ]
  },
  {
   "cell_type": "markdown",
   "metadata": {},
   "source": [
    "<font color=red><div style=\"text-align: right\"> **Documentation for**  \n",
    "[**`pandas.Series.describe`**](http://pandas.pydata.org/pandas-docs/stable/generated/pandas.Series.describe.html)  \n",
    "[**`pandas.Series.value_counts`**](http://pandas.pydata.org/pandas-docs/stable/generated/pandas.Series.value_counts.html  \n",
    "[**`pandas.Series.unique`**](http://pandas.pydata.org/pandas-docs/stable/generated/pandas.Series.unique.html)  \n",
    "[**`pandas.Series.nunique`**](http://pandas.pydata.org/pandas-docs/stable/generated/pandas.Series.nunique.html)  \n",
    "[**`pandas.crosstab`**](http://pandas.pydata.org/pandas-docs/stable/generated/pandas.crosstab.html) </div></font>"
   ]
  },
  {
   "cell_type": "markdown",
   "metadata": {},
   "source": [
    "### <font color=blue>3.4.5. Adding a pandas Series to a DataFrame</font>"
   ]
  },
  {
   "cell_type": "code",
   "execution_count": null,
   "metadata": {},
   "outputs": [],
   "source": [
    "# One example is to create a cumulative NEd series within the dataframe, using the cumsum method of the series\n",
    "dc['cumulative_NEd_[kN]'] = dc['NEd_[kN]'].cumsum()\n",
    "dc.head()"
   ]
  },
  {
   "cell_type": "markdown",
   "metadata": {},
   "source": [
    "<font color=red><div style=\"text-align: right\"> **Documentation for**  \n",
    "[**`pandas.Series.cumsum`**](https://pandas.pydata.org/pandas-docs/stable/generated/pandas.Series.cumsum.html)</div></font>"
   ]
  },
  {
   "cell_type": "markdown",
   "metadata": {},
   "source": [
    "### <font color=blue>3.4.6. Renaming DataFrame columns</font> "
   ]
  },
  {
   "cell_type": "code",
   "execution_count": null,
   "metadata": {},
   "outputs": [],
   "source": [
    "# Examine the column names\n",
    "dc = pd.read_csv('tools\\design_checks.csv')\n",
    "dc.columns"
   ]
  },
  {
   "cell_type": "code",
   "execution_count": null,
   "metadata": {},
   "outputs": [],
   "source": [
    "# Rename two of the columns by using the 'rename' method\n",
    "dc.rename(columns = {'ID':'Section', 'Check':'Does it pass?'}, inplace = True)\n",
    "dc.head()"
   ]
  },
  {
   "cell_type": "code",
   "execution_count": null,
   "metadata": {},
   "outputs": [],
   "source": [
    "# Replace all of the column names by overwriting the 'columns' attribute\n",
    "dc_cols = ['ID', 'G [kg/m]', 'b [mm]', 't [mm]', 'A [cm2]', 'I [cm4]', 'i [cm]','NRd [kN]', 'NEd [kN]', 'Util ratio', 'Check']\n",
    "dc.columns = dc_cols\n",
    "dc.head()"
   ]
  },
  {
   "cell_type": "code",
   "execution_count": null,
   "metadata": {},
   "outputs": [],
   "source": [
    "# Replace the column names during the file reading process by using the 'names' parameter\n",
    "dc_cols = ['ID', 'G [kg/m]', 'b [mm]', 't [mm]', 'A [cm2]', 'I [cm4]', 'i [cm]','NRd [kN]', 'NEd [kN]', 'Util ratio', 'Check']\n",
    "dc = pd.read_csv('tools\\design_checks.csv', header = 0, names = dc_cols)\n",
    "dc.head()"
   ]
  },
  {
   "cell_type": "code",
   "execution_count": null,
   "metadata": {},
   "outputs": [],
   "source": [
    "# Replace all spaces with underscores in the column names by using the 'str.replace' method\n",
    "dc.columns = dc.columns.str.replace(' ', '_')\n",
    "dc.head()"
   ]
  },
  {
   "cell_type": "markdown",
   "metadata": {},
   "source": [
    "<font color=red><div style=\"text-align: right\"> **Documentation for**  \n",
    "[**`pandas.DataFrame.rename`**](http://pandas.pydata.org/pandas-docs/stable/generated/pandas.DataFrame.rename.html)  \n",
    "[**`pandas.Series.str.replace`**](http://pandas.pydata.org/pandas-docs/stable/generated/pandas.Series.str.replace.html) </div></font>"
   ]
  },
  {
   "cell_type": "markdown",
   "metadata": {},
   "source": [
    "### <font color=blue>3.4.7. Sorting a pandas Series or DataFrame</font> \n",
    "When it comes to sorting the datasets, the methods available in `pandas` do not affect the underlying data (i.e. the sorting is temporary)."
   ]
  },
  {
   "cell_type": "code",
   "execution_count": null,
   "metadata": {},
   "outputs": [],
   "source": [
    "# Read the design check dataset\n",
    "dc = pd.read_csv('tools\\design_checks.csv')\n",
    "dc.head()"
   ]
  },
  {
   "cell_type": "code",
   "execution_count": null,
   "metadata": {},
   "outputs": [],
   "source": [
    "# Sort the 'Util_ratio' Series in ascending order (returns a Series)\n",
    "dc['Util_ratio'].sort_values().head()"
   ]
  },
  {
   "cell_type": "code",
   "execution_count": null,
   "metadata": {},
   "outputs": [],
   "source": [
    "# Sort in descending order instead\n",
    "dc['Util_ratio'].sort_values(ascending = False).head()"
   ]
  },
  {
   "cell_type": "code",
   "execution_count": null,
   "metadata": {},
   "outputs": [],
   "source": [
    "# Sort the entire DataFrame by the 'A_[cm2]' Series (returns a DataFrame)\n",
    "dc.sort_values('A_[cm2]').head()"
   ]
  },
  {
   "cell_type": "code",
   "execution_count": null,
   "metadata": {},
   "outputs": [],
   "source": [
    "# Sort in descending order instead\n",
    "dc.sort_values('A_[cm2]', ascending = False).head()"
   ]
  },
  {
   "cell_type": "code",
   "execution_count": null,
   "metadata": {},
   "outputs": [],
   "source": [
    "# Sort the DataFrame first by ascending order of 'NRd_[kN]', then by 'Util_ratio'\n",
    "dc.sort_values(['NRd_[kN]', 'Util_ratio']).head()"
   ]
  },
  {
   "cell_type": "markdown",
   "metadata": {},
   "source": [
    "<font color=red><div style=\"text-align: right\"> **Documentation for**  \n",
    "[**`pandas.Series.sort_values`**](http://pandas.pydata.org/pandas-docs/stable/generated/pandas.Series.sort_values.html)  \n",
    "[**`pandas.DataFrame.sort_values`**](https://pandas.pydata.org/pandas-docs/stable/generated/pandas.DataFrame.sort_values.html) </div></font>"
   ]
  },
  {
   "cell_type": "markdown",
   "metadata": {},
   "source": [
    "### <font color=blue>3.4.8. Filtering rows of a pandas DataFrame by column values</font>  "
   ]
  },
  {
   "cell_type": "code",
   "execution_count": null,
   "metadata": {},
   "outputs": [],
   "source": [
    "# Read the design check dataset\n",
    "dc = pd.read_csv('tools\\design_checks.csv')\n",
    "dc.head()"
   ]
  },
  {
   "cell_type": "code",
   "execution_count": null,
   "metadata": {},
   "outputs": [],
   "source": [
    "# Filter members with 'b_[mm]' above or equal to 200mm\n",
    "dc[dc['b_[mm]'] >= 200].head()"
   ]
  },
  {
   "cell_type": "code",
   "execution_count": null,
   "metadata": {},
   "outputs": [],
   "source": [
    "# Select the 'Util_ratio' Series from the filtered DataFrame\n",
    "dc[dc['b_[mm]'] >= 200]['Util_ratio'].head()"
   ]
  },
  {
   "cell_type": "code",
   "execution_count": null,
   "metadata": {},
   "outputs": [],
   "source": [
    "# Or equivalently, use the 'loc' method\n",
    "dc.loc[dc['b_[mm]'] >= 200]['Util_ratio'].head()"
   ]
  },
  {
   "cell_type": "code",
   "execution_count": null,
   "metadata": {},
   "outputs": [],
   "source": [
    "# Filter members with with 'b_[mm]' above or equal to 200mm, with 'Check' 'PASS'\n",
    "dc[(dc['b_[mm]'] >= 200) & (dc['Check'] == 'PASS')].head()"
   ]
  },
  {
   "cell_type": "code",
   "execution_count": null,
   "metadata": {},
   "outputs": [],
   "source": [
    "# Filter members with with 'b_[mm]' above or equal to 200mm, with 'Check' 'PASS' or 'FAIL'\n",
    "dc[(dc['b_[mm]'] >= 200) & (dc['Check'].isin(['PASS', 'FAIL']))].head()"
   ]
  },
  {
   "cell_type": "markdown",
   "metadata": {},
   "source": [
    "<font color=red><div style=\"text-align: right\"> **Documentation for**  \n",
    "[**`pandas.DataFrame.loc`**](http://pandas.pydata.org/pandas-docs/stable/generated/pandas.DataFrame.loc.html)  \n",
    "[**`pandas.Series.isin`**](http://pandas.pydata.org/pandas-docs/stable/generated/pandas.Series.isin.html) </div></font>"
   ]
  },
  {
   "cell_type": "markdown",
   "metadata": {},
   "source": [
    "### <font color=blue>3.4.9. DataFrame axis</font>\n",
    "When referring to rows or columns with the axis parameter:\n",
    "- `axis = 0` (or `axis = 'index'`) refers to rows\n",
    "- `axis = 1` (or `axis = 'columns'`) refers to columns"
   ]
  },
  {
   "cell_type": "code",
   "execution_count": null,
   "metadata": {},
   "outputs": [],
   "source": [
    "# Read the design check dataset\n",
    "dc = pd.read_csv('tools\\design_checks.csv')\n",
    "dc.head()"
   ]
  },
  {
   "cell_type": "code",
   "execution_count": null,
   "metadata": {},
   "outputs": [],
   "source": [
    "# Remove a column (temporarily)\n",
    "dc.drop('i_[cm]', axis = 1).head()"
   ]
  },
  {
   "cell_type": "code",
   "execution_count": null,
   "metadata": {},
   "outputs": [],
   "source": [
    "# Remove a column (permanently)\n",
    "dc.drop('i_[cm]', axis = 1, inplace = True)\n",
    "dc.head()"
   ]
  },
  {
   "cell_type": "code",
   "execution_count": null,
   "metadata": {},
   "outputs": [],
   "source": [
    "# Remove multiple columns at once\n",
    "dc.drop(['Check', 'Util_ratio'], axis = 1, inplace = True)\n",
    "dc.head()"
   ]
  },
  {
   "cell_type": "code",
   "execution_count": null,
   "metadata": {},
   "outputs": [],
   "source": [
    "# Remove a row (temporarily)\n",
    "dc.drop(2, axis = 0).head()"
   ]
  },
  {
   "cell_type": "code",
   "execution_count": null,
   "metadata": {},
   "outputs": [],
   "source": [
    "# Remove a row (permanently)\n",
    "dc.drop(2, axis = 0, inplace = True)\n",
    "dc.head()"
   ]
  },
  {
   "cell_type": "code",
   "execution_count": null,
   "metadata": {},
   "outputs": [],
   "source": [
    "# Remove multiple rows at once\n",
    "dc.drop([0, 1], axis = 0, inplace = True)\n",
    "dc.head()"
   ]
  },
  {
   "cell_type": "markdown",
   "metadata": {},
   "source": [
    "When performing a mathematical operation with the axis parameter:\n",
    "\n",
    "- `axis = 0` means the operation should \"move down\" the row axis\n",
    "- `axis = 1` means the operation should \"move across\" the column axis"
   ]
  },
  {
   "cell_type": "code",
   "execution_count": null,
   "metadata": {},
   "outputs": [],
   "source": [
    "# Calculate the mean of each numeric column\n",
    "dc.mean(axis = 0)"
   ]
  },
  {
   "cell_type": "code",
   "execution_count": null,
   "metadata": {},
   "outputs": [],
   "source": [
    "# Calculate the mean of each row\n",
    "dc.mean(axis = 1).head()"
   ]
  },
  {
   "cell_type": "markdown",
   "metadata": {},
   "source": [
    "<font color=red><div style=\"text-align: right\"> **Documentation for**  \n",
    "[**`pandas.DataFrame.drop`**](http://pandas.pydata.org/pandas-docs/stable/generated/pandas.DataFrame.drop.html)  \n",
    "[**`pandas.DataFrame.mean`**](http://pandas.pydata.org/pandas-docs/stable/generated/pandas.DataFrame.mean.html) </div></font>"
   ]
  },
  {
   "cell_type": "markdown",
   "metadata": {
    "collapsed": true
   },
   "source": [
    "### <font color=blue>3.4.10. pandas groupby</font> "
   ]
  },
  {
   "cell_type": "code",
   "execution_count": null,
   "metadata": {},
   "outputs": [],
   "source": [
    "import pandas as pd\n",
    "# Read the design check dataset\n",
    "dc = pd.read_csv('tools\\design_checks.csv')\n",
    "dc.head()"
   ]
  },
  {
   "cell_type": "code",
   "execution_count": null,
   "metadata": {},
   "outputs": [],
   "source": [
    "# Calculate the mean 'Util_ratio' for members with 'b_[mm]' of 200mm\n",
    "dc[dc['b_[mm]'] == 200]['Util_ratio'].max()"
   ]
  },
  {
   "cell_type": "code",
   "execution_count": null,
   "metadata": {},
   "outputs": [],
   "source": [
    "# Calculate the mean 'Util_ratio' for all values of 'b_[mm]'\n",
    "dc.groupby('b_[mm]')['Util_ratio'].max()"
   ]
  },
  {
   "cell_type": "code",
   "execution_count": null,
   "metadata": {},
   "outputs": [],
   "source": [
    "# Multiple aggregation functions can be applied simultaneously\n",
    "dc.groupby('b_[mm]')['Util_ratio'].agg(['count', 'mean', 'min', 'max'])"
   ]
  },
  {
   "cell_type": "markdown",
   "metadata": {},
   "source": [
    "<font color=red><div style=\"text-align: right\"> **Documentation for**  \n",
    "[**`pandas.DataFrame.groupby`**](http://pandas.pydata.org/pandas-docs/stable/generated/pandas.DataFrame.groupby.html)    \n",
    "[**`pandas.core.groupby.DataFrameGroupBy.agg`**](http://pandas.pydata.org/pandas-docs/stable/generated/pandas.core.groupby.DataFrameGroupBy.agg.html) </div></font>"
   ]
  },
  {
   "cell_type": "markdown",
   "metadata": {
    "collapsed": true
   },
   "source": [
    "### <font color=blue>3.4.11. Finding and removing pandas duplicates</font>"
   ]
  },
  {
   "cell_type": "code",
   "execution_count": null,
   "metadata": {},
   "outputs": [],
   "source": [
    "# Read the design check dataset\n",
    "dc = pd.read_csv('tools\\design_checks.csv')\n",
    "dc.head()"
   ]
  },
  {
   "cell_type": "code",
   "execution_count": null,
   "metadata": {},
   "outputs": [],
   "source": [
    "# Detect duplicate 'ID' codes: True if an item is identical to a previous items\n",
    "dc['ID'].duplicated().head()"
   ]
  },
  {
   "cell_type": "code",
   "execution_count": null,
   "metadata": {},
   "outputs": [],
   "source": [
    "# Count the duplicate items (True becomes 1, False becomes 0)\n",
    "dc['ID'].duplicated().sum()"
   ]
  },
  {
   "cell_type": "code",
   "execution_count": null,
   "metadata": {},
   "outputs": [],
   "source": [
    "# Detect duplicate DataFrame rows: True if an entire row is identical to a previous row\n",
    "dc.duplicated().head()"
   ]
  },
  {
   "cell_type": "code",
   "execution_count": null,
   "metadata": {},
   "outputs": [],
   "source": [
    "# Count the duplicate rows\n",
    "dc.duplicated().sum()"
   ]
  },
  {
   "cell_type": "code",
   "execution_count": null,
   "metadata": {},
   "outputs": [],
   "source": [
    "# Drop the duplicate rows (inplace = False by default)\n",
    "# In this case, there are no duplicate rows\n",
    "# Paremeter 'keep' equal to 'first', 'last' and False, keeps the first, last, or neither ocurrence, respectively\n",
    "dc.drop_duplicates(keep = 'first').shape"
   ]
  },
  {
   "cell_type": "code",
   "execution_count": null,
   "metadata": {},
   "outputs": [],
   "source": [
    "# Only consider a subset of columns when identifying and droping duplicates\n",
    "# In this case, we know there are duplicate 'ID' values, so we can use that\n",
    "dc.drop_duplicates(subset = ['ID'], keep = 'first').shape"
   ]
  },
  {
   "cell_type": "markdown",
   "metadata": {},
   "source": [
    "<font color=red><div style=\"text-align: right\"> **Documentation for**  \n",
    "[**`pandas.DataFrame.drop_duplicates`**](http://pandas.pydata.org/pandas-docs/stable/generated/pandas.DataFrame.drop_duplicates.html) </div></font>"
   ]
  },
  {
   "cell_type": "markdown",
   "metadata": {},
   "source": [
    "### <font color=blue>3.4.12. Creating a pandas DataFrame from other objects</font>"
   ]
  },
  {
   "cell_type": "code",
   "execution_count": null,
   "metadata": {},
   "outputs": [],
   "source": [
    "# Create a DataFrame from a dictionary\n",
    "# Keys become column names, values become data\n",
    "pd.DataFrame({'id': ['IPE100', 'IPE200', 'IPE300'], \n",
    "              'check': ['PASS', 'FAIL', 'FAIL']})"
   ]
  },
  {
   "cell_type": "code",
   "execution_count": null,
   "metadata": {},
   "outputs": [],
   "source": [
    "# Optionally, you can specify the order of columns and define the index\n",
    "pd.DataFrame({'id': ['IPE100', 'IPE200', 'IPE300'], \n",
    "              'check': ['PASS', 'FAIL', 'FAIL']},\n",
    "             columns = ['check', 'id'],\n",
    "             index = ['a', 'b', 'c'])"
   ]
  },
  {
   "cell_type": "code",
   "execution_count": null,
   "metadata": {},
   "outputs": [],
   "source": [
    "# Create a DataFrame from a list of lists\n",
    "# Each inner list becomes a row\n",
    "pd.DataFrame([['IPE100', 'PASS'], \n",
    "              ['IPE200', 'FAIL'], \n",
    "              ['IPE300', 'FAIL']], \n",
    "             columns = ['id', 'check'])"
   ]
  },
  {
   "cell_type": "code",
   "execution_count": null,
   "metadata": {},
   "outputs": [],
   "source": [
    "# create a DataFrame of member IDs (101 through 200) and check binary (random integer 0 and 1)\n",
    "import numpy as np\n",
    "pd.DataFrame({'member': np.arange(101, 201, 1), \n",
    "              'util_ratio': np.random.randint(0, 2, 100)}).head()"
   ]
  },
  {
   "cell_type": "code",
   "execution_count": null,
   "metadata": {},
   "outputs": [],
   "source": [
    "# 'set_index' can be chained with the DataFrame constructor to select an index\n",
    "import numpy as np\n",
    "pd.DataFrame({'member': np.arange(101, 201, 1), \n",
    "              'util_ratio': np.random.randint(0, 2, 100)}).set_index('member').head()"
   ]
  },
  {
   "cell_type": "markdown",
   "metadata": {},
   "source": [
    "<font color=red><div style=\"text-align: right\"> **Documentation for**  \n",
    "[**`pandas.DataFrame`**](http://pandas.pydata.org/pandas-docs/stable/generated/pandas.DataFrame.html)  \n",
    "[**`pandas.DataFrame.set_index`**](http://pandas.pydata.org/pandas-docs/stable/generated/pandas.DataFrame.set_index.html) </div></font>"
   ]
  },
  {
   "cell_type": "markdown",
   "metadata": {},
   "source": [
    "[Back to top](#back_to_top)"
   ]
  }
 ],
 "metadata": {
  "kernelspec": {
   "display_name": "Python 3 (ipykernel)",
   "language": "python",
   "name": "python3"
  },
  "language_info": {
   "codemirror_mode": {
    "name": "ipython",
    "version": 3
   },
   "file_extension": ".py",
   "mimetype": "text/x-python",
   "name": "python",
   "nbconvert_exporter": "python",
   "pygments_lexer": "ipython3",
   "version": "3.8.10"
  }
 },
 "nbformat": 4,
 "nbformat_minor": 2
}
