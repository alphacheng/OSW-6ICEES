{
 "cells": [
  {
   "cell_type": "markdown",
   "metadata": {},
   "source": [
    "<a id='back_to_top'></a>"
   ]
  },
  {
   "cell_type": "markdown",
   "metadata": {},
   "source": [
    "<img src='img/_logo.JPG' alt='Drawing' style='width:2000px;'/>"
   ]
  },
  {
   "cell_type": "markdown",
   "metadata": {},
   "source": [
    "# <font color=blue>2. Getting Started</font>\n",
    "## <font color=blue>2.2. Variable Types</font>\n",
    "Variables are nothing but reserved memory locations to store values. This means that when you create a variable you reserve some space in memory.\n",
    "\n",
    "Based on the data type of a variable, the interpreter allocates memory and decides what can be stored in the reserved memory. Therefore, by assigning different data types to variables, you can store integers, decimals or characters in these variables.\n",
    "### <font color=blue>2.2.1. Variable assignment</font> \n",
    "Python variables do not need explicit declaration to reserve memory space. The declaration happens automatically when you assign a value to a variable. The equal sign ( `=` ) is used to assign values to variables.\n",
    "\n",
    "The operand to the left of the `=` operator is the name of the variable and the operand to the right of the = operator is the value stored in the variable.\n",
    "\n",
    "Example:"
   ]
  },
  {
   "cell_type": "code",
   "execution_count": null,
   "metadata": {},
   "outputs": [],
   "source": [
    "name = 'John'\n",
    "surname = 'Doe'\n",
    "age = 27\n",
    "name, surname, age"
   ]
  },
  {
   "cell_type": "markdown",
   "metadata": {},
   "source": [
    "Variables can also be updated once created:"
   ]
  },
  {
   "cell_type": "code",
   "execution_count": null,
   "metadata": {},
   "outputs": [],
   "source": [
    "name = 'John'\n",
    "name"
   ]
  },
  {
   "cell_type": "code",
   "execution_count": null,
   "metadata": {},
   "outputs": [],
   "source": [
    "name = 'Jane'\n",
    "name"
   ]
  },
  {
   "cell_type": "markdown",
   "metadata": {},
   "source": [
    "### <font color=blue>2.2.2. Variable deletion</font>\n",
    "Python allows for variable to be deleted from the memory, using the `del` command. Once computed, trying to call such variable will result in an error\n",
    "\n",
    "Example:"
   ]
  },
  {
   "cell_type": "code",
   "execution_count": null,
   "metadata": {},
   "outputs": [],
   "source": [
    "name = 'variable to delete'\n",
    "del name\n",
    "name"
   ]
  },
  {
   "cell_type": "markdown",
   "metadata": {},
   "source": [
    "To delete them all:"
   ]
  },
  {
   "cell_type": "code",
   "execution_count": null,
   "metadata": {},
   "outputs": [],
   "source": [
    "%reset"
   ]
  },
  {
   "cell_type": "markdown",
   "metadata": {},
   "source": [
    "<font color=red><div style=\"text-align: right\"> **Documentation for**  \n",
    "[**`del`**](https://docs.python.org/3/reference/simple_stmts.html#del)</div></font>"
   ]
  },
  {
   "cell_type": "markdown",
   "metadata": {},
   "source": [
    "### <font color=blue>2.2.3. Multiple assignment</font>\n",
    "Python allows you to assign a single value to several variables simultaneously. \n",
    "\n",
    "Example:"
   ]
  },
  {
   "cell_type": "code",
   "execution_count": null,
   "metadata": {},
   "outputs": [],
   "source": [
    "a = b = c = 1\n",
    "a, b, c"
   ]
  },
  {
   "cell_type": "markdown",
   "metadata": {},
   "source": [
    "You can also assign multiple objects to multiple variables. \n",
    "\n",
    "Example:"
   ]
  },
  {
   "cell_type": "code",
   "execution_count": null,
   "metadata": {},
   "outputs": [],
   "source": [
    "name, surname, age = 'John', 'Doe', 27\n",
    "name, surname, age"
   ]
  },
  {
   "cell_type": "markdown",
   "metadata": {},
   "source": [
    "### <font color=blue>2.2.4. Standard data types</font> \n",
    "The data stored in memory can be of many types. For example, a person's age is stored as a numeric value and his or her address is stored as alphanumeric characters. Python has various standard data types that are used to define the operations possible on them and the storage method for each of them.\n",
    "\n",
    "Python has five standard data types:\n",
    "- Numbers\n",
    "- String\n",
    "- List\n",
    "- Tuple\n",
    "- Dictionary"
   ]
  },
  {
   "cell_type": "markdown",
   "metadata": {},
   "source": [
    "### <font color=blue>2.2.5. Python numbers</font> \n",
    "Number data types store numeric values. Number objects are created when you assign a value to them.\n",
    "\n",
    "Example:"
   ]
  },
  {
   "cell_type": "code",
   "execution_count": null,
   "metadata": {},
   "outputs": [],
   "source": [
    "a = 1\n",
    "b = 2"
   ]
  },
  {
   "cell_type": "markdown",
   "metadata": {
    "collapsed": true
   },
   "source": [
    "Python supports four different numerical types:\n",
    "- int (signed integers)\n",
    "- float (floating point real values)\n",
    "- <font color='grey'>long (long integers, they can also be represented in octal and hexadecimal)\n",
    "- complex (complex numbers)</font>\n",
    "\n",
    "Example:"
   ]
  },
  {
   "cell_type": "code",
   "execution_count": null,
   "metadata": {},
   "outputs": [],
   "source": [
    "integer_number = 1\n",
    "float_number = 1.2\n",
    "print(integer_number, type(integer_number))\n",
    "print(float_number, type(float_number))"
   ]
  },
  {
   "cell_type": "markdown",
   "metadata": {},
   "source": [
    "<font color=red><div style=\"text-align: right\"> **Documentation for**  \n",
    "[**`type`**](https://docs.python.org/3/library/functions.html#type)</div></font>"
   ]
  },
  {
   "cell_type": "markdown",
   "metadata": {},
   "source": [
    "### <font color=blue>2.2.6. Python strings</font>  \n",
    "Besides numbers, Python can also manipulate strings, which can be expressed by enclosing in single quotes ( `'...'` ) or double quotes ( `\"...\"` ) with the same result. `\\` can be used to escape quotes:"
   ]
  },
  {
   "cell_type": "code",
   "execution_count": null,
   "metadata": {},
   "outputs": [],
   "source": [
    "'Structural Engineering' # Single quotes"
   ]
  },
  {
   "cell_type": "code",
   "execution_count": null,
   "metadata": {},
   "outputs": [],
   "source": [
    "'Designer\\'s guide'      # Use \\' to escape the single quote..."
   ]
  },
  {
   "cell_type": "code",
   "execution_count": null,
   "metadata": {},
   "outputs": [],
   "source": [
    "\"Designer's guide\"       # ...or use double quotes instead."
   ]
  },
  {
   "cell_type": "markdown",
   "metadata": {},
   "source": [
    "In the interactive interpreter, the output string is enclosed in quotes and special characters are escaped with backslashes. While this might sometimes look different from the input (the enclosing quotes could change), the two strings are equivalent. The string is enclosed in double quotes if the string contains a single quote and no double quotes, otherwise it is enclosed in single quotes. The print function produces a more readable output, by omitting the enclosing quotes and by printing escaped and special characters:"
   ]
  },
  {
   "cell_type": "code",
   "execution_count": null,
   "metadata": {},
   "outputs": [],
   "source": [
    "'\"Isn\\'t,\" she said.'"
   ]
  },
  {
   "cell_type": "code",
   "execution_count": null,
   "metadata": {},
   "outputs": [],
   "source": [
    "print('\"Isn\\'t,\" she said.')"
   ]
  },
  {
   "cell_type": "code",
   "execution_count": null,
   "metadata": {},
   "outputs": [],
   "source": [
    "s = 'First line.\\nSecond line.'  # \\n means newline.\n",
    "s                                # Without print(), \\n is included in the output."
   ]
  },
  {
   "cell_type": "code",
   "execution_count": null,
   "metadata": {},
   "outputs": [],
   "source": [
    "print(s)                         # With print(), \\n produces a new line."
   ]
  },
  {
   "cell_type": "markdown",
   "metadata": {},
   "source": [
    "If you don't want characters prefaced by `\\` to be interpreted as special characters, you can use raw strings by adding an r before the first quote:"
   ]
  },
  {
   "cell_type": "code",
   "execution_count": null,
   "metadata": {},
   "outputs": [],
   "source": [
    "print('C:\\some\\name')            # Here \\n means newline!"
   ]
  },
  {
   "cell_type": "code",
   "execution_count": null,
   "metadata": {},
   "outputs": [],
   "source": [
    "print(r'C:\\some\\name')           # Note the r before the quote."
   ]
  },
  {
   "cell_type": "markdown",
   "metadata": {},
   "source": [
    "One of Python's most useful features is the `%` operator, which acts a string format operator. One possible aplication of this operator is:"
   ]
  },
  {
   "cell_type": "code",
   "execution_count": null,
   "metadata": {},
   "outputs": [],
   "source": [
    "'This member is a %s, it\\'s section is an %s, and it measures %.1f m in length.' % ('beam', 'IPE400', 8.779234234) "
   ]
  },
  {
   "cell_type": "markdown",
   "metadata": {},
   "source": [
    "<font color=red><div style=\"text-align: right\"> **Documentation for**  \n",
    "[**`print`**](https://docs.python.org/3/library/functions.html#print)</div></font>"
   ]
  },
  {
   "cell_type": "markdown",
   "metadata": {},
   "source": [
    "### <font color=blue>2.2.7. Python lists</font>   \n",
    "Lists are one of the most versatile of Python's compound data types. A list contains items separated by commas and enclosed within square brackets ( `[ ]` ). \n",
    "\n",
    "The values stored in a list can be accessed using the slice operator ( `[ ]` and `[:]` ) with indexes starting at 0 in the beginning of the list and working their way to end -1. The plus ( `+` ) sign is the list concatenation operator, and the asterisk ( `*` ) is the repetition operator. It is also possible to delete an entry in the list with the `del` command. These commands also apply to strings.\n",
    "\n",
    "Example:"
   ]
  },
  {
   "cell_type": "code",
   "execution_count": null,
   "metadata": {},
   "outputs": [],
   "source": [
    "somelist = ['Steel', 'S275', 275 , 'MPa', 'Concrete', 'C30/37', 30, 'MPa']\n",
    "somelist"
   ]
  },
  {
   "cell_type": "code",
   "execution_count": null,
   "metadata": {},
   "outputs": [],
   "source": [
    "somelist[0]           # Prints first element of the list"
   ]
  },
  {
   "cell_type": "code",
   "execution_count": null,
   "metadata": {},
   "outputs": [],
   "source": [
    "somelist[1:4]         # Prints elements starting from 2nd till 4th "
   ]
  },
  {
   "cell_type": "code",
   "execution_count": null,
   "metadata": {},
   "outputs": [],
   "source": [
    "somelist[5:]          # Prints elements starting from 6th element"
   ]
  },
  {
   "cell_type": "code",
   "execution_count": null,
   "metadata": {},
   "outputs": [],
   "source": [
    "somelist*3            # Prints repeated list"
   ]
  },
  {
   "cell_type": "code",
   "execution_count": null,
   "metadata": {},
   "outputs": [],
   "source": [
    "somelist + somelist   # Prints concatenated list"
   ]
  },
  {
   "cell_type": "code",
   "execution_count": null,
   "metadata": {},
   "outputs": [],
   "source": [
    "del somelist[0]        # Deletes de first entry of the list\n",
    "somelist"
   ]
  },
  {
   "cell_type": "markdown",
   "metadata": {},
   "source": [
    "### <font color=blue>2.2.8. Python tuples</font>\n",
    "A tuple is another sequence data type that is similar to the list. A tuple consists of a number of values separated by commas. Unlike lists, however, tuples are enclosed within parentheses.\n",
    "\n",
    "The main differences between lists and tuples are: Lists are enclosed in brackets ( `[ ]` ) and their elements and size can be changed, while tuples are enclosed in parentheses ( `( )` ) and cannot be updated. Tuples can be thought of as read-only lists.\n",
    "\n",
    "Example:"
   ]
  },
  {
   "cell_type": "code",
   "execution_count": null,
   "metadata": {},
   "outputs": [],
   "source": [
    "sometuple = ('Steel', 'S275', 275 , 'MPa', 'Concrete', 'C30/37', 30, 'MPa')\n",
    "sometuple"
   ]
  },
  {
   "cell_type": "code",
   "execution_count": null,
   "metadata": {},
   "outputs": [],
   "source": [
    "sometuple[0]            # Prints first element of the tuple"
   ]
  },
  {
   "cell_type": "code",
   "execution_count": null,
   "metadata": {},
   "outputs": [],
   "source": [
    "sometuple[1:4]          # Prints elements starting from 1st till 4th "
   ]
  },
  {
   "cell_type": "code",
   "execution_count": null,
   "metadata": {},
   "outputs": [],
   "source": [
    "sometuple[5:]           # Prints elements starting from 5th element"
   ]
  },
  {
   "cell_type": "code",
   "execution_count": null,
   "metadata": {},
   "outputs": [],
   "source": [
    "sometuple*3             # Prints repeated tuple"
   ]
  },
  {
   "cell_type": "code",
   "execution_count": null,
   "metadata": {},
   "outputs": [],
   "source": [
    "sometuple + sometuple   # Prints concatenated tuple"
   ]
  },
  {
   "cell_type": "markdown",
   "metadata": {},
   "source": [
    "The following code is invalid with tuple, because we attempted to update a tuple, which is not allowed. Similar case is possible with lists though:"
   ]
  },
  {
   "cell_type": "code",
   "execution_count": null,
   "metadata": {},
   "outputs": [],
   "source": [
    "somelist[1] = 'S355'    # Valid syntax with list\n",
    "somelist"
   ]
  },
  {
   "cell_type": "code",
   "execution_count": null,
   "metadata": {},
   "outputs": [],
   "source": [
    "sometuple[1] = 'S355'   # Invalid syntax with tuple\n",
    "sometuple"
   ]
  },
  {
   "cell_type": "markdown",
   "metadata": {},
   "source": [
    "### <font color=blue>2.2.8. Python dictionaries</font>\n",
    "Python's dictionaries are kind of hash table type. They work like associative arrays or hashes found in Perl and consist of key-value pairs. A dictionary key can be almost any Python type, but are usually numbers or strings. Values, on the other hand, can be any arbitrary Python object. Like lists, it is possible to delete, or even update, one key of the dictionary.\n",
    "\n",
    "Dictionaries are enclosed by curly braces ( `{ }` ) and values can be assigned and accessed using square braces ( `[ ]` ).\n",
    "\n",
    "Example:"
   ]
  },
  {
   "cell_type": "code",
   "execution_count": null,
   "metadata": {},
   "outputs": [],
   "source": [
    "somedict = {}\n",
    "somedict['Material'] = 'Steel'\n",
    "somedict['Class'] = 'S275'\n",
    "somedict['Strength'] = 275\n",
    "somedict['Units'] = 'MPa'\n",
    "somedict                    # Prints complete dictionary"
   ]
  },
  {
   "cell_type": "markdown",
   "metadata": {},
   "source": [
    "Another alternative, is to create the entire dictionary at once, and not each bag individually. You can do it in a single line (each key-value pair needs to be seperated by a comma, or break the statement into multiple lines. In the latter alternative, you don't need to write the `\\` character to do the break.\n",
    "\n",
    "Example:"
   ]
  },
  {
   "cell_type": "code",
   "execution_count": null,
   "metadata": {},
   "outputs": [],
   "source": [
    "somedict = {'Material': 'Steel',\n",
    "            'Class':'S275',       \n",
    "            'Strength': 275,\n",
    "            'Units': 'MPa'}\n",
    "somedict                    # Prints complete dictionary"
   ]
  },
  {
   "cell_type": "markdown",
   "metadata": {},
   "source": [
    "Now to access information inside the dictionary:"
   ]
  },
  {
   "cell_type": "code",
   "execution_count": null,
   "metadata": {},
   "outputs": [],
   "source": [
    "somedict['Material']        # Prints value for 'Material' key"
   ]
  },
  {
   "cell_type": "code",
   "execution_count": null,
   "metadata": {},
   "outputs": [],
   "source": [
    "somedict.keys()             # Prints all the keys"
   ]
  },
  {
   "cell_type": "code",
   "execution_count": null,
   "metadata": {},
   "outputs": [],
   "source": [
    "somedict.values()           # Prints all the values"
   ]
  },
  {
   "cell_type": "code",
   "execution_count": null,
   "metadata": {},
   "outputs": [],
   "source": [
    "del somedict['Class']       # Deletes one key and its contents\n",
    "somedict"
   ]
  },
  {
   "cell_type": "code",
   "execution_count": null,
   "metadata": {},
   "outputs": [],
   "source": [
    "somedict['Material'] = {'Steel': 1, 'Concrete':1} # Updates the contents of one key\n",
    "somedict"
   ]
  },
  {
   "cell_type": "code",
   "execution_count": null,
   "metadata": {},
   "outputs": [],
   "source": [
    "somedict['Material'] = {'1':1, '2':2, '3':3}\n",
    "somedict"
   ]
  },
  {
   "cell_type": "markdown",
   "metadata": {},
   "source": [
    "Dictionaries have no concept of order among elements. It is incorrect to say that the elements are \"out of order\"; they are simply unordered."
   ]
  },
  {
   "cell_type": "markdown",
   "metadata": {},
   "source": [
    "### <font color=blue>2.2.9. Data type enquiry and conversion</font> \n",
    "Sometimes, you may need enquire Python about tthe type of variable in question. This can be done with the `type()` function.\n",
    "\n",
    "Example:"
   ]
  },
  {
   "cell_type": "code",
   "execution_count": null,
   "metadata": {},
   "outputs": [],
   "source": [
    "type(275), type(275.0), type('275'), type([275]), type((275, 275)), type({'275': 275})"
   ]
  },
  {
   "cell_type": "markdown",
   "metadata": {},
   "source": [
    "Also, sometimes it is needed to convert between the built-in types. To do so, you simply use the type name as a function.\n",
    "\n",
    "There are several built-in functions to perform conversion from one data type to another. These functions return a new object representing the converted value. These functions require specific syntax to work.\n",
    "\n",
    "Some examples:\n",
    "- `int(x [,base])` Converts x to an integer. base specifies the base if x is a string.\n",
    "- `float(x)` Converts x to a floating-point number.\n",
    "- `str(x)` Converts object x to a string representation.\n",
    "- `tuple(s)` Converts s to a tuple.\n",
    "- `list(s)` Converts s to a list.\n",
    "- `dict(d)` Creates a dictionary. d must be a sequence of (key, value) tuples."
   ]
  },
  {
   "cell_type": "markdown",
   "metadata": {},
   "source": [
    "<font color=red><div style=\"text-align: right\"> **Documentation for**  \n",
    "[**`int`**](https://docs.python.org/3/library/functions.html#int)  \n",
    "[**`float`**](https://docs.python.org/3/library/functions.html#float)  \n",
    "[**`str`**](https://docs.python.org/3/library/functions.html#func-str)  \n",
    "[**`tuple`**](https://docs.python.org/3/library/functions.html#func-tuple)  \n",
    "[**`list`**](https://docs.python.org/3/library/functions.html#func-list)  \n",
    "[**`dict`**](https://docs.python.org/3/library/functions.html#func-dict)</div></font>"
   ]
  },
  {
   "cell_type": "markdown",
   "metadata": {},
   "source": [
    "[Back to top](#back_to_top)"
   ]
  }
 ],
 "metadata": {
  "kernelspec": {
   "display_name": "Python 3 (ipykernel)",
   "language": "python",
   "name": "python3"
  },
  "language_info": {
   "codemirror_mode": {
    "name": "ipython",
    "version": 3
   },
   "file_extension": ".py",
   "mimetype": "text/x-python",
   "name": "python",
   "nbconvert_exporter": "python",
   "pygments_lexer": "ipython3",
   "version": "3.8.10"
  }
 },
 "nbformat": 4,
 "nbformat_minor": 2
}
