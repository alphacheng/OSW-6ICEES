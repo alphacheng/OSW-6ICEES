{
 "cells": [
  {
   "cell_type": "markdown",
   "metadata": {},
   "source": [
    "<a id='back_to_top'></a>"
   ]
  },
  {
   "cell_type": "markdown",
   "metadata": {},
   "source": [
    "<img src='img/_logo.JPG' alt='Drawing' style='width:2000px;'/>"
   ]
  },
  {
   "cell_type": "markdown",
   "metadata": {},
   "source": [
    "# <font color=blue>2. Getting Started</font>\n",
    "## <font color=blue>2.5.  Functions</font>\n",
    "A function is a block of organized, reusable code that is used to perform a single, related action. Functions provide better modularity for your application and a high degree of code reusing. Python itself provides several built-in functions (e.g. `print`, `len()`, `range()`), whilst user-defined functions can also be constructed and utilized. In a general sense, functions take some *input* and return some *output* in accordance to the functionality to which the function is defined.\n",
    "### <font color=blue>2.5.1. Defining and using a function</font>\n",
    "Function blocks begin with the keyword `def` followed by the function name and parentheses ( `( )` ). The function's name cannot contain spaces. Any input parameters or arguments should be placed within these parentheses. You can also define parameters inside these parentheses, which can be default (mandatory) or non-default (optional). The code block within every function starts with a colon ( `:` ) and is indented. The statement `return` [expression] exits a function, optionally passing back an expression to the caller. A return statement with no arguments is the same as return `None`.\n",
    "\n",
    "Example:"
   ]
  },
  {
   "cell_type": "code",
   "execution_count": null,
   "metadata": {},
   "outputs": [],
   "source": [
    "# This function does not take any input, but outputs 'something' 2\n",
    "def give_me_something():\n",
    "    something = 'Here you go, have something.'\n",
    "    return something\n",
    "\n",
    "# This function calculates the mid-span bending moment of a simply supported beam\n",
    "# It has only mandatory input parameters: distributed load (p) and beam length (l)\n",
    "def calc_m_midspan_ssb(p, l):\n",
    "    midspan_moment = p*l**2/8\n",
    "    return midspan_moment\n",
    "\n",
    "# This function calculates the bending moment of a simply supported beam at a given distance of the support\n",
    "# It has mandatory input parameters: distributed load (p) and beam length (l)\n",
    "# It has optional input parameters: distance from support (x)\n",
    "# If no x is provided, it returns a list of moments at every quarter of the span\n",
    "def calc_m_ssb(p, l, x = None):\n",
    "    if x != None:\n",
    "        moment = p*l*x/2 - p*x*x/2\n",
    "    else:\n",
    "        moment = []\n",
    "        for x in [1*l/4, 2*l/4, 3*l/4]:\n",
    "            moment.append(p*l*x/2 - p*x*x/2)\n",
    "    return moment"
   ]
  },
  {
   "cell_type": "markdown",
   "metadata": {},
   "source": [
    "One should note that, when constructing the function, optional parameters must be defned after the mandatory ones. Doing the contrary will result in an error.\n",
    "\n",
    "At this stage, the functions are created and known to Python, but need to be called in order to function. The result of the function (what is passed in `return`) can be assigned to a given variable, or just printed to the screen.\n",
    "\n",
    "Example:"
   ]
  },
  {
   "cell_type": "code",
   "execution_count": null,
   "metadata": {},
   "outputs": [],
   "source": [
    "print(give_me_something())"
   ]
  },
  {
   "cell_type": "code",
   "execution_count": null,
   "metadata": {},
   "outputs": [],
   "source": [
    "p = 10\n",
    "l = 10\n",
    "print('Mid-span bending moment =', calc_m_midspan_ssb(p = p, l = l), ', for p = %.1f and l = %.1f' % (p, l))"
   ]
  },
  {
   "cell_type": "code",
   "execution_count": null,
   "metadata": {},
   "outputs": [],
   "source": [
    "p = 10\n",
    "l = 10\n",
    "x = l/2\n",
    "print('Bending moment =', calc_m_ssb(p = p, l = l, x = x), ', for p = %.1f, l = %.1f and x = %.1f' % (p, l, x))"
   ]
  },
  {
   "cell_type": "code",
   "execution_count": null,
   "metadata": {},
   "outputs": [],
   "source": [
    "p = 10\n",
    "l = 10\n",
    "print('Bending moment =', calc_m_ssb(p = p, l = l), ', for p = %.1f, l = %.1f and x = [%.1f, %.1f, %.1f]' % (p, l, 1*l/4, 2*l/4, 3*l/4))"
   ]
  },
  {
   "cell_type": "markdown",
   "metadata": {},
   "source": [
    "It is also possible to define functions within functions (e.g. a *mother* function that takes some input parameters to give some output, but the internal preliminary calculations constructuted in different *child* functions). Depending on the complexity level, it might be a advisable to move to a different paradigm to achieve the same result (e.g. Object-Oriented Programming or `Classes`).\n",
    "### <font color=blue>2.5.2. Docstrings</font> \n",
    "Optionally, but highly recommended, we can define a so called *docstring*, which is a description of the functions purpose and behaviour. The *docstring* should follow directly after the function definition, before the code in the function body. This is usefull when one wants to inspect the purpose of the function with the `help()` function, which returns that *docstring*.\n",
    "\n",
    "Example:"
   ]
  },
  {
   "cell_type": "code",
   "execution_count": null,
   "metadata": {},
   "outputs": [],
   "source": [
    "def func(s):\n",
    "    \"\"\"\n",
    "    Print a string 's' and tell how many characters it has \n",
    "    \"\"\" \n",
    "    print(s + ' has ' + str(len(s)) + ' characters')"
   ]
  },
  {
   "cell_type": "code",
   "execution_count": null,
   "metadata": {},
   "outputs": [],
   "source": [
    "help(func)"
   ]
  },
  {
   "cell_type": "markdown",
   "metadata": {},
   "source": [
    "[Back to top](#back_to_top)"
   ]
  }
 ],
 "metadata": {
  "kernelspec": {
   "display_name": "Python 3 (ipykernel)",
   "language": "python",
   "name": "python3"
  },
  "language_info": {
   "codemirror_mode": {
    "name": "ipython",
    "version": 3
   },
   "file_extension": ".py",
   "mimetype": "text/x-python",
   "name": "python",
   "nbconvert_exporter": "python",
   "pygments_lexer": "ipython3",
   "version": "3.8.10"
  }
 },
 "nbformat": 4,
 "nbformat_minor": 2
}
