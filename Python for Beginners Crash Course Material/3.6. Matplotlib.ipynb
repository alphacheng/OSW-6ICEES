{
 "cells": [
  {
   "cell_type": "markdown",
   "metadata": {},
   "source": [
    "<a id='back_to_top'></a>"
   ]
  },
  {
   "cell_type": "markdown",
   "metadata": {},
   "source": [
    "<img src='img/_logo.JPG' alt='Drawing' style='width:2000px;'/>"
   ]
  },
  {
   "cell_type": "markdown",
   "metadata": {},
   "source": [
    "# <font color=blue>3. Libraries</font>\n",
    "## <font color=blue>3.5. Matplotlib</font>\n",
    "| | |\n",
    "|-|-|\n",
    "| | |\n",
    "| <img src='https://matplotlib.org/_static/logo2.png' alt='Drawing' style='height:100px;'/> |\n",
    "| | | |\n",
    "`matplotlib` is probably the single most used Python package for 2D-graphics, providing both a very quick way to visualize data from Python, as well as publication-quality figures in many formats. \n",
    "\n",
    "To use `matplotlib` you need to import the module, using for example:"
   ]
  },
  {
   "cell_type": "code",
   "execution_count": null,
   "metadata": {},
   "outputs": [],
   "source": [
    "import matplotlib.pyplot as plt"
   ]
  },
  {
   "cell_type": "markdown",
   "metadata": {},
   "source": [
    "<font color=red><div style=\"text-align: right\"> **Documentation for**  \n",
    "[**`matplotlib`**](https://matplotlib.org/)  \n",
    "[**`matplotlib.pyplot`**](https://matplotlib.org/api/pyplot_api.html)</div></font>"
   ]
  },
  {
   "cell_type": "markdown",
   "metadata": {},
   "source": [
    "### <font color=blue>3.5.1. Default versus improved plotting strategies (with line plots)</font>\n",
    "In this section, we want to draw the bending moment diagram of a simply supported beam subjected to two different distributed loads. Starting from the default settings, we'll enrich the figure step by step to make it nicer.\n",
    "\n",
    "First step is to create the data for the two functions:"
   ]
  },
  {
   "cell_type": "code",
   "execution_count": null,
   "metadata": {},
   "outputs": [],
   "source": [
    "# The length of the beam\n",
    "l = 10\n",
    "# The first distributed load of the beam in kN/m\n",
    "g = 10\n",
    "# The second distributed load of the beam in kN/m\n",
    "q = 15\n",
    "# The array of x coordinates along the beam\n",
    "import numpy as np\n",
    "x = np.arange(0, l + 0.05, 0.05)\n",
    "# The bending moment at coordinates x due to a distributed loads \n",
    "m_g, m_q = g*l*x/2 - g*x*x/2, q*l*x/2 - q*x*x/2"
   ]
  },
  {
   "cell_type": "markdown",
   "metadata": {},
   "source": [
    "And now the plotting (using default settings):"
   ]
  },
  {
   "cell_type": "code",
   "execution_count": null,
   "metadata": {},
   "outputs": [],
   "source": [
    "plt.plot(x, m_g)\n",
    "plt.plot(x, m_q)\n",
    "plt.gca().invert_yaxis() # This bit just inverts the yaxis in accordance to the bending moment convention we normally use\n",
    "plt.show()"
   ]
  },
  {
   "cell_type": "markdown",
   "metadata": {},
   "source": [
    "Next, some of the most relevant settings that affect the visual of the plot will be introduced and modified, allowing you to gauge their influence on the quality of the graph. Each new modification will be singled-out with a comment and whitespace above and below."
   ]
  },
  {
   "cell_type": "markdown",
   "metadata": {},
   "source": [
    "<font color=red><div style=\"text-align: right\"> **Documentation for**  \n",
    "[**`matplotlib.pyplot.plot`**](https://matplotlib.org/api/_as_gen/matplotlib.pyplot.plot.html)</div></font>"
   ]
  },
  {
   "cell_type": "markdown",
   "metadata": {},
   "source": [
    "#### <font color=blue>3.5.1.1. Changing the size of the figure</font>"
   ]
  },
  {
   "cell_type": "code",
   "execution_count": null,
   "metadata": {},
   "outputs": [],
   "source": [
    "# Create a new figure of size 12x4 points, using 100 dots per inch\n",
    "plt.figure(figsize = (12, 4), dpi = 100)\n",
    "\n",
    "plt.plot(x, m_g)\n",
    "plt.plot(x, m_q)\n",
    "plt.gca().invert_yaxis()\n",
    "plt.show()"
   ]
  },
  {
   "cell_type": "markdown",
   "metadata": {},
   "source": [
    "<font color=red><div style=\"text-align: right\"> **Documentation for**  \n",
    "[**`matplotlib.pyplot.figure`**](https://matplotlib.org/api/_as_gen/matplotlib.pyplot.figure.html)</div></font>"
   ]
  },
  {
   "cell_type": "markdown",
   "metadata": {},
   "source": [
    "#### <font color=blue>3.5.1.2. Changing line properties</font> "
   ]
  },
  {
   "cell_type": "code",
   "execution_count": null,
   "metadata": {},
   "outputs": [],
   "source": [
    "plt.figure(figsize = (12, 4), dpi = 100)\n",
    "\n",
    "# Create a curve in a blue solid line of 1 pixel width\n",
    "plt.plot(x, m_g, color = 'b', ls = '-', lw = 1.0)\n",
    "# Create a curve in a red dashed line of 2 pixel width\n",
    "plt.plot(x, m_q, color = 'r', ls = '--', lw = 2.0)\n",
    "\n",
    "plt.gca().invert_yaxis()\n",
    "plt.show()"
   ]
  },
  {
   "cell_type": "markdown",
   "metadata": {},
   "source": [
    "<font color=red><div style=\"text-align: right\"> **Documentation for**  \n",
    "[**`matplotlib.line_styles`**](https://matplotlib.org/examples/lines_bars_and_markers/line_styles_reference.html)</div></font>"
   ]
  },
  {
   "cell_type": "markdown",
   "metadata": {},
   "source": [
    "#### <font color=blue>3.5.1.3. Setting axis limits</font>"
   ]
  },
  {
   "cell_type": "code",
   "execution_count": null,
   "metadata": {},
   "outputs": [],
   "source": [
    "plt.figure(figsize = (12, 4), dpi = 100)\n",
    "plt.plot(x, m_g, color = 'b', ls = '-', lw = 1.0)\n",
    "plt.plot(x, m_q, color = 'r', ls = '--', lw = 2.0)\n",
    "\n",
    "# Set the limits of the x axis between 0 and 10\n",
    "plt.xlim(0, 10)\n",
    "# Set the limits of the y axis between 0 and 200\n",
    "plt.ylim(0, 200)\n",
    "\n",
    "plt.gca().invert_yaxis()\n",
    "plt.show()"
   ]
  },
  {
   "cell_type": "markdown",
   "metadata": {},
   "source": [
    "<font color=red><div style=\"text-align: right\"> **Documentation for**  \n",
    "[**`matplotlib.pyplot.xlim`**](https://matplotlib.org/api/_as_gen/matplotlib.pyplot.xlim.html)  \n",
    "[**`matplotlib.pyplot.ylim`**](https://matplotlib.org/api/_as_gen/matplotlib.pyplot.ylim.html)</div></font>"
   ]
  },
  {
   "cell_type": "markdown",
   "metadata": {},
   "source": [
    "#### <font color=blue>3.5.1.4. Setting axis ticks</font> "
   ]
  },
  {
   "cell_type": "code",
   "execution_count": null,
   "metadata": {},
   "outputs": [],
   "source": [
    "plt.figure(figsize = (12, 4), dpi = 100)\n",
    "plt.plot(x, m_g, color = 'b', ls = '-', lw = 1.0)\n",
    "plt.plot(x, m_q, color = 'r', ls = '--', lw = 2.0)\n",
    "plt.xlim(0, 10)\n",
    "plt.ylim(0, 200)\n",
    "\n",
    "# Set the ticks of the x axis between 0 and 10 with increments of 1\n",
    "plt.xticks(np.arange(0, 10 + 1 , 1))\n",
    "# Set the ticks of the x axis between 0 and 200 with increments of 20\n",
    "plt.yticks(np.arange(0, 200 + 20 , 20))\n",
    "\n",
    "plt.gca().invert_yaxis()\n",
    "plt.show()"
   ]
  },
  {
   "cell_type": "markdown",
   "metadata": {},
   "source": [
    "<font color=red><div style=\"text-align: right\"> **Documentation for**  \n",
    "[**`matplotlib.pyplot.xticks`**](https://matplotlib.org/api/_as_gen/matplotlib.pyplot.xticks.html)  \n",
    "[**`matplotlib.pyplot.yticks`**](https://matplotlib.org/api/_as_gen/matplotlib.pyplot.yticks.html)</div></font>"
   ]
  },
  {
   "cell_type": "markdown",
   "metadata": {},
   "source": [
    "#### <font color=blue>3.5.1.5. Setting axis ticks and labels</font>  "
   ]
  },
  {
   "cell_type": "code",
   "execution_count": null,
   "metadata": {},
   "outputs": [],
   "source": [
    "plt.figure(figsize = (12, 4), dpi = 100)\n",
    "plt.plot(x, m_g, color = 'b', ls = '-', lw = 1.0)\n",
    "plt.plot(x, m_q, color = 'r', ls = '--', lw = 2.0)\n",
    "plt.xlim(0, 10)\n",
    "plt.ylim(0, 200)\n",
    "\n",
    "# Set the ticks of the x axis to show span eighths, fifths, thirds\n",
    "plt.xticks([0, l/8, l/5, l/4, l/3, 2*l/5, l/2, 3*l/5, 2*l/3, 3*l/4, 4*l/5, 7*l/8, l], \n",
    "           [0, 'L/8', 'L/5', 'L/4', 'L/3', '2L/5', 'L/2', '3L/5', '2L/3', '3L/4', '4L/5', '7L/8', 'L'],\n",
    "           fontsize = 8)\n",
    "# Keep ticks as the tick labels for the y axis\n",
    "plt.yticks(np.arange(0, 200 + 20, 20),\n",
    "           fontsize = 8)\n",
    "\n",
    "plt.gca().invert_yaxis()\n",
    "plt.show()"
   ]
  },
  {
   "cell_type": "markdown",
   "metadata": {},
   "source": [
    "#### <font color=blue>3.5.1.6. Setting the plot grid</font>"
   ]
  },
  {
   "cell_type": "code",
   "execution_count": null,
   "metadata": {},
   "outputs": [],
   "source": [
    "plt.figure(figsize = (12, 4), dpi = 100)\n",
    "plt.plot(x, m_g, color = 'b', ls = '-', lw = 1.0)\n",
    "plt.plot(x, m_q, color = 'r', ls = '--', lw = 2.0)\n",
    "plt.xlim(0, 10)\n",
    "plt.ylim(0, 200)\n",
    "plt.xticks([0, l/8, l/5, l/4, l/3, 2*l/5, l/2, 3*l/5, 2*l/3, 3*l/4, 4*l/5, 7*l/8, l], \n",
    "           [0, 'L/8', 'L/5', 'L/4', 'L/3', '2L/5', 'L/2', '3L/5', '2L/3', '3L/4', '4L/5', '7L/8', 'L'],\n",
    "           fontsize = 8)           \n",
    "plt.yticks(np.arange(0, 200 + 20 , 20),\n",
    "           fontsize = 8)\n",
    "\n",
    "# Set up the gridlines (try to see also default behaviour) \n",
    "plt.grid(color = '0.75', ls = '--', lw = 0.5)\n",
    "\n",
    "plt.gca().invert_yaxis()\n",
    "plt.show()"
   ]
  },
  {
   "cell_type": "markdown",
   "metadata": {},
   "source": [
    "<font color=red><div style=\"text-align: right\"> **Documentation for**  \n",
    "[**`matplotlib.pyplot.grid`**](https://matplotlib.org/api/_as_gen/matplotlib.pyplot.grid.html)</div></font>"
   ]
  },
  {
   "cell_type": "markdown",
   "metadata": {},
   "source": [
    "#### <font color=blue>3.5.1.7. Moving spines</font> "
   ]
  },
  {
   "cell_type": "code",
   "execution_count": null,
   "metadata": {},
   "outputs": [],
   "source": [
    "plt.figure(figsize = (12, 4), dpi = 100)\n",
    "plt.plot(x, m_g, color = 'b', ls = '-', lw = 1.0)\n",
    "plt.plot(x, m_q, color = 'r', ls = '--', lw = 2.0)\n",
    "plt.xlim(0, 10)\n",
    "plt.ylim(0, 200)\n",
    "plt.xticks([0, l/8, l/5, l/4, l/3, 2*l/5, l/2, 3*l/5, 2*l/3, 3*l/4, 4*l/5, 7*l/8, l], \n",
    "           [0, 'L/8', 'L/5', 'L/4', 'L/3', '2L/5', 'L/2', '3L/5', '2L/3', '3L/4', '4L/5', '7L/8', 'L'],\n",
    "           fontsize = 8)\n",
    "plt.yticks(np.arange(0, 200 + 20 , 20),\n",
    "           fontsize = 8)\n",
    "plt.grid(color = '0.75', ls = '--', lw = 0.5)\n",
    "\n",
    "# Move the x axis to top of the plot\n",
    "ax = plt.gca()\n",
    "ax.xaxis.set_ticks_position('top')\n",
    "\n",
    "plt.gca().invert_yaxis()\n",
    "plt.show()"
   ]
  },
  {
   "cell_type": "markdown",
   "metadata": {},
   "source": [
    "#### <font color=blue>3.5.1.8. Labeling axes</font>  "
   ]
  },
  {
   "cell_type": "code",
   "execution_count": null,
   "metadata": {},
   "outputs": [],
   "source": [
    "plt.figure(figsize = (12, 4), dpi = 100)\n",
    "plt.plot(x, m_g, color = 'b', ls = '-', lw = 1.0)\n",
    "plt.plot(x, m_q, color = 'r', ls = '--', lw = 2.0)\n",
    "plt.xlim(0, 10)\n",
    "plt.ylim(0, 200)\n",
    "plt.xticks([0, l/8, l/5, l/4, l/3, 2*l/5, l/2, 3*l/5, 2*l/3, 3*l/4, 4*l/5, 7*l/8, l], \n",
    "           [0, 'L/8', 'L/5', 'L/4', 'L/3', '2L/5', 'L/2', '3L/5', '2L/3', '3L/4', '4L/5', '7L/8', 'L'],\n",
    "           fontsize = 8)\n",
    "plt.yticks(np.arange(0, 200 + 20 , 20),\n",
    "           fontsize = 8)\n",
    "plt.grid(color = '0.75', ls = '--', lw = 0.5)\n",
    "ax = plt.gca()\n",
    "ax.xaxis.set_ticks_position('top')\n",
    "\n",
    "# Define the x axis label (moved to the top acccording to the tick position)\n",
    "ax.xaxis.set_label_position('top')\n",
    "plt.xlabel('Position along the beam', fontsize = 12, labelpad = 10)\n",
    "# Define the y axis label\n",
    "plt.ylabel('Bending moment [kNm]', fontsize = 12, labelpad = 10)\n",
    "\n",
    "plt.gca().invert_yaxis()\n",
    "plt.show()"
   ]
  },
  {
   "cell_type": "markdown",
   "metadata": {},
   "source": [
    "<font color=red><div style=\"text-align: right\"> **Documentation for**  \n",
    "[**`matplotlib.pyplot.xlabel`**](https://matplotlib.org/api/_as_gen/matplotlib.pyplot.xlabel.html)  \n",
    "[**`matplotlib.pyplot.ylabel`**](https://matplotlib.org/api/_as_gen/matplotlib.pyplot.ylabel.html)</div></font>"
   ]
  },
  {
   "cell_type": "markdown",
   "metadata": {},
   "source": [
    "#### <font color=blue>3.5.1.9. Defining a title</font>   "
   ]
  },
  {
   "cell_type": "code",
   "execution_count": null,
   "metadata": {},
   "outputs": [],
   "source": [
    "plt.figure(figsize = (12, 4), dpi = 100)\n",
    "plt.plot(x, m_g, color = 'b', ls = '-', lw = 1.0)\n",
    "plt.plot(x, m_q, color = 'r', ls = '--', lw = 2.0)\n",
    "plt.xlim(0, 10)\n",
    "plt.ylim(0, 200)\n",
    "plt.xticks([0, l/8, l/5, l/4, l/3, 2*l/5, l/2, 3*l/5, 2*l/3, 3*l/4, 4*l/5, 7*l/8, l], \n",
    "           [0, 'L/8', 'L/5', 'L/4', 'L/3', '2L/5', 'L/2', '3L/5', '2L/3', '3L/4', '4L/5', '7L/8', 'L'],\n",
    "           fontsize = 8)\n",
    "plt.yticks(np.arange(0, 200 + 20 , 20),\n",
    "           fontsize = 8)\n",
    "plt.grid(color = '0.75', ls = '--', lw = 0.5)\n",
    "ax = plt.gca()\n",
    "ax.xaxis.set_ticks_position('top')\n",
    "ax.xaxis.set_label_position('top')\n",
    "plt.xlabel('Position along the beam', fontsize = 12, labelpad = 10)\n",
    "plt.ylabel(r'$\\mathrm{M_{Ed}\\ [kNm]}$', fontsize = 12, labelpad = 10)\n",
    "\n",
    "# Define the title of the plot\n",
    "plt.title('Bending moment diagram'.upper(), y = 1.2, fontsize = 14, color = 'purple', fontweight = 'bold')\n",
    "\n",
    "plt.gca().invert_yaxis()\n",
    "plt.show()"
   ]
  },
  {
   "cell_type": "markdown",
   "metadata": {},
   "source": [
    "<font color=red><div style=\"text-align: right\"> **Documentation for**  \n",
    "[**`matplotlib.pyplot.title`**](https://matplotlib.org/api/_as_gen/matplotlib.pyplot.title.html)</div></font>"
   ]
  },
  {
   "cell_type": "markdown",
   "metadata": {},
   "source": [
    "#### <font color=blue>3.5.1.10. Defining curve labels and plot legend</font>   "
   ]
  },
  {
   "cell_type": "code",
   "execution_count": null,
   "metadata": {},
   "outputs": [],
   "source": [
    "plt.figure(figsize = (12, 4), dpi = 100)\n",
    "\n",
    "# Define the labels for each of the curves being plotted\n",
    "plt.plot(x, m_g, color = 'b', ls = '-', lw = 1.0, label = r'$\\mathrm{g_{Ed}\\ = }$' + str(g) + r'$\\mathrm{kNm^{-1}}$')\n",
    "plt.plot(x, m_q, color = 'r', ls = '--', lw = 2.0, label = r'$\\mathrm{q_{Ed}\\ = }$' + str(q) + r'$\\mathrm{kNm^{-1}}$')\n",
    "# Define the legend properties\n",
    "plt.legend(frameon = False,\n",
    "           loc = 'lower right',\n",
    "           fontsize = 8)\n",
    "\n",
    "plt.xlim(0, 10)\n",
    "plt.ylim(0, 200)\n",
    "plt.xticks([0, l/8, l/5, l/4, l/3, 2*l/5, l/2, 3*l/5, 2*l/3, 3*l/4, 4*l/5, 7*l/8, l], \n",
    "           [0, 'L/8', 'L/5', 'L/4', 'L/3', '2L/5', 'L/2', '3L/5', '2L/3', '3L/4', '4L/5', '7L/8', 'L'],\n",
    "           fontsize = 8)\n",
    "plt.yticks(np.arange(0, 200 + 20 , 20),\n",
    "           fontsize = 8)\n",
    "plt.grid(color = '0.75', ls = '--', lw = 0.5)\n",
    "ax = plt.gca()\n",
    "ax.xaxis.set_ticks_position('top')\n",
    "ax.xaxis.set_label_position('top')\n",
    "plt.xlabel('Position along the beam', fontsize = 12, labelpad = 10)\n",
    "plt.ylabel(r'$\\mathrm{M_{Ed}\\ [kNm]}$', fontsize = 12, labelpad = 10)\n",
    "plt.title('Bending moment diagram'.upper(), y = 1.2, fontsize = 14, color = 'purple', fontweight = 'bold')\n",
    "plt.gca().invert_yaxis()\n",
    "plt.show()"
   ]
  },
  {
   "cell_type": "markdown",
   "metadata": {},
   "source": [
    "<font color=red><div style=\"text-align: right\"> **Documentation for**  \n",
    "[**`matplotlib.pyplot.legend`**](https://matplotlib.org/api/_as_gen/matplotlib.pyplot.legend.html)</div></font>"
   ]
  },
  {
   "cell_type": "markdown",
   "metadata": {},
   "source": [
    "#### <font color=blue>3.5.1.11. Annotate some points</font>"
   ]
  },
  {
   "cell_type": "code",
   "execution_count": null,
   "metadata": {},
   "outputs": [],
   "source": [
    "plt.figure(figsize = (12, 4), dpi = 100)\n",
    "plt.plot(x, m_g, color = 'b', ls = '-', lw = 1.0, label = r'$\\mathrm{g_{Ed}\\ = }$' + str(g) + r'$\\mathrm{kNm^{-1}}$')\n",
    "plt.plot(x, m_q, color = 'r', ls = '--', lw = 2.0, label = r'$\\mathrm{q_{Ed}\\ = }$' + str(q) + r'$\\mathrm{kNm^{-1}}$')\n",
    "\n",
    "# Do a scatter plot of the identifying the maximum moment of each curve\n",
    "plt.scatter(x[np.argmax(m_g)], max(m_g), marker = 's', s = 15, facecolor = 'b', edgecolor = 'b', label = None)\n",
    "plt.scatter(x[np.argmax(m_q)], max(m_q), marker = 'o', s = 15, facecolor = 'r', edgecolor = 'r', label = None)\n",
    "# Annotate information regarding these points\n",
    "plt.annotate(r'$\\mathrm{M_{Ed,max}}= $' + str(max(m_g)) + 'kNm',\n",
    "             xy = (x[np.argmax(m_g)], max(m_g)), \n",
    "             xycoords = 'data',\n",
    "             xytext = (+0, +30), \n",
    "             textcoords = 'offset points', \n",
    "             fontsize = 8,\n",
    "             color = 'b',\n",
    "             arrowprops = dict(arrowstyle = '-|>', \n",
    "                               color = 'b',\n",
    "                               connectionstyle = 'arc3,rad=.2'))\n",
    "plt.annotate(r'$\\mathrm{M_{Ed,max}}= $' + str(max(m_q)) + 'kNm',\n",
    "             xy = (x[np.argmax(m_q)], max(m_q)), \n",
    "             xycoords = 'data',\n",
    "             xytext = (+0, +30), \n",
    "             textcoords = 'offset points', \n",
    "             fontsize = 8,\n",
    "             color = 'r',\n",
    "             arrowprops = dict(arrowstyle = '-|>', \n",
    "                               color = 'r',\n",
    "                               connectionstyle = 'arc3,rad=.2'))\n",
    "\n",
    "plt.legend(frameon = False,\n",
    "          loc = 'lower right',\n",
    "          fontsize = 8)\n",
    "plt.xlim(0, 10)\n",
    "plt.ylim(0, 200)\n",
    "plt.xticks([0, l/8, l/5, l/4, l/3, 2*l/5, l/2, 3*l/5, 2*l/3, 3*l/4, 4*l/5, 7*l/8, l], \n",
    "           [0, 'L/8', 'L/5', 'L/4', 'L/3', '2L/5', 'L/2', '3L/5', '2L/3', '3L/4', '4L/5', '7L/8', 'L'],\n",
    "           fontsize = 8)\n",
    "plt.yticks(np.arange(0, 200 + 20 , 20),\n",
    "           fontsize = 8)\n",
    "plt.grid(color = '0.75', ls = '--', lw = 0.5)\n",
    "ax = plt.gca()\n",
    "ax.xaxis.set_ticks_position('top')\n",
    "ax.xaxis.set_label_position('top')\n",
    "plt.xlabel('Position along the beam', fontsize = 12, labelpad = 10)\n",
    "plt.ylabel(r'$\\mathrm{M_{Ed}\\ [kNm]}$', fontsize = 12, labelpad = 10)\n",
    "plt.title('Bending moment diagram'.upper(), y = 1.2, fontsize = 14, color = 'purple', fontweight = 'bold')\n",
    "plt.gca().invert_yaxis()\n",
    "plt.show()"
   ]
  },
  {
   "cell_type": "markdown",
   "metadata": {},
   "source": [
    "<font color=red><div style=\"text-align: right\"> **Documentation for**  \n",
    "[**`matplotlib.pyplot.annotate`**](https://matplotlib.org/api/_as_gen/matplotlib.pyplot.annotate.html)</div></font>"
   ]
  },
  {
   "cell_type": "markdown",
   "metadata": {},
   "source": [
    "#### <font color=blue>3.5.1.12. Fill regions</font> "
   ]
  },
  {
   "cell_type": "code",
   "execution_count": null,
   "metadata": {},
   "outputs": [],
   "source": [
    "plt.figure(figsize = (12, 4), dpi = 100)\n",
    "plt.plot(x, m_g, color = 'b', ls = '-', lw = 1.0, label = r'$\\mathrm{g_{Ed}\\ = }$' + str(g) + r'$\\mathrm{kNm^{-1}}$')\n",
    "plt.plot(x, m_q, color = 'r', ls = '--', lw = 2.0, label = r'$\\mathrm{q_{Ed}\\ = }$' + str(q) + r'$\\mathrm{kNm^{-1}}$')\n",
    "plt.scatter(x[np.argmax(m_g)], max(m_g), marker = 's', s = 15, facecolor = 'b', edgecolor = 'b', label = None)\n",
    "plt.scatter(x[np.argmax(m_q)], max(m_q), marker = 'o', s = 15, facecolor = 'r', edgecolor = 'r', label = None)\n",
    "plt.annotate(r'$\\mathrm{M_{Ed,max}}= $' + str(max(m_g)) + 'kNm',\n",
    "             xy = (x[np.argmax(m_g)], max(m_g)), \n",
    "             xycoords = 'data',\n",
    "             xytext = (+0, +30), \n",
    "             textcoords = 'offset points', \n",
    "             fontsize = 8,\n",
    "             color = 'b',\n",
    "             arrowprops = dict(arrowstyle = '-|>', \n",
    "                               color = 'b',\n",
    "                               connectionstyle = 'arc3,rad=.2'))\n",
    "plt.annotate(r'$\\mathrm{M_{Ed,max}}= $' + str(max(m_q)) + 'kNm',\n",
    "             xy = (x[np.argmax(m_q)], max(m_q)), \n",
    "             xycoords = 'data',\n",
    "             xytext = (+0, +30), \n",
    "             textcoords = 'offset points', \n",
    "             fontsize = 8,\n",
    "             color = 'r',\n",
    "             arrowprops = dict(arrowstyle = '-|>', \n",
    "                               color = 'r',\n",
    "                               connectionstyle = 'arc3,rad=.2'))\n",
    "\n",
    "# Fill regions below diagrams\n",
    "plt.fill(x, m_g, color = 'b', alpha = 0.1)\n",
    "plt.fill(x, m_q, color = 'r', alpha = 0.1)\n",
    "\n",
    "plt.legend(frameon = False,\n",
    "          loc = 'lower right',\n",
    "          fontsize = 8)\n",
    "plt.xlim(0, 10)\n",
    "plt.ylim(0, 200)\n",
    "plt.xticks([0, l/8, l/5, l/4, l/3, 2*l/5, l/2, 3*l/5, 2*l/3, 3*l/4, 4*l/5, 7*l/8, l], \n",
    "           [0, 'L/8', 'L/5', 'L/4', 'L/3', '2L/5', 'L/2', '3L/5', '2L/3', '3L/4', '4L/5', '7L/8', 'L'],\n",
    "           fontsize = 8)\n",
    "plt.yticks(np.arange(0, 200 + 20 , 20),\n",
    "           fontsize = 8)\n",
    "plt.grid(color = '0.75', ls = '--', lw = 0.5)\n",
    "ax = plt.gca()\n",
    "ax.xaxis.set_ticks_position('top')\n",
    "ax.xaxis.set_label_position('top')\n",
    "plt.xlabel('Position along the beam', fontsize = 12, labelpad = 10)\n",
    "plt.ylabel(r'$\\mathrm{M_{Ed}\\ [kNm]}$', fontsize = 12, labelpad = 10)\n",
    "plt.title('Bending moment diagram'.upper(), y = 1.2, fontsize = 14, color = 'purple', fontweight = 'bold')\n",
    "plt.gca().invert_yaxis()\n",
    "plt.show()"
   ]
  },
  {
   "cell_type": "markdown",
   "metadata": {},
   "source": [
    "<font color=red><div style=\"text-align: right\"> **Documentation for**  \n",
    "[**`matplotlib.pyplot.fill`**](https://matplotlib.org/api/_as_gen/matplotlib.pyplot.fill.html)</div></font>"
   ]
  },
  {
   "cell_type": "markdown",
   "metadata": {},
   "source": [
    "#### <font color=blue>3.5.1.13. Save figure to file</font>  "
   ]
  },
  {
   "cell_type": "code",
   "execution_count": null,
   "metadata": {},
   "outputs": [],
   "source": [
    "plt.figure(figsize = (12, 4), dpi = 100)\n",
    "plt.plot(x, m_g, color = 'b', ls = '-', lw = 1.0, label = r'$\\mathrm{g_{Ed}\\ = }$' + str(g) + r'$\\mathrm{kNm^{-1}}$')\n",
    "plt.plot(x, m_q, color = 'r', ls = '--', lw = 2.0, label = r'$\\mathrm{q_{Ed}\\ = }$' + str(q) + r'$\\mathrm{kNm^{-1}}$')\n",
    "plt.scatter(x[np.argmax(m_g)], max(m_g), marker = 's', s = 15, facecolor = 'b', edgecolor = 'b', label = None)\n",
    "plt.scatter(x[np.argmax(m_q)], max(m_q), marker = 'o', s = 15, facecolor = 'r', edgecolor = 'r', label = None)\n",
    "plt.annotate(r'$\\mathrm{M_{Ed,max}}= $' + str(max(m_g)) + 'kNm',\n",
    "             xy = (x[np.argmax(m_g)], max(m_g)), \n",
    "             xycoords = 'data',\n",
    "             xytext = (+0, +30), \n",
    "             textcoords = 'offset points', \n",
    "             fontsize = 8,\n",
    "             color = 'b',\n",
    "             arrowprops = dict(arrowstyle = '-|>', \n",
    "                               color = 'b',\n",
    "                               connectionstyle = 'arc3,rad=.2'))\n",
    "plt.annotate(r'$\\mathrm{M_{Ed,max}}= $' + str(max(m_q)) + 'kNm',\n",
    "             xy = (x[np.argmax(m_q)], max(m_q)), \n",
    "             xycoords = 'data',\n",
    "             xytext = (+0, +30), \n",
    "             textcoords = 'offset points', \n",
    "             fontsize = 8,\n",
    "             color = 'r',\n",
    "             arrowprops = dict(arrowstyle = '-|>', \n",
    "                               color = 'r',\n",
    "                               connectionstyle = 'arc3,rad=.2'))\n",
    "plt.fill(x, m_g, color = 'b', alpha = 0.1)\n",
    "plt.fill(x, m_q, color = 'r', alpha = 0.1)\n",
    "plt.legend(frameon = False,\n",
    "           loc = 'lower right',\n",
    "           fontsize = 8)\n",
    "plt.xlim(0, 10)\n",
    "plt.ylim(0, 200)\n",
    "plt.xticks([0, l/8, l/5, l/4, l/3, 2*l/5, l/2, 3*l/5, 2*l/3, 3*l/4, 4*l/5, 7*l/8, l], \n",
    "           [0, 'L/8', 'L/5', 'L/4', 'L/3', '2L/5', 'L/2', '3L/5', '2L/3', '3L/4', '4L/5', '7L/8', 'L'],\n",
    "           fontsize = 8)\n",
    "plt.yticks(np.arange(0, 200 + 20 , 20),\n",
    "           fontsize = 8)\n",
    "plt.grid(color = '0.75', ls = '--', lw = 0.5)\n",
    "ax = plt.gca()\n",
    "ax.xaxis.set_ticks_position('top')\n",
    "ax.xaxis.set_label_position('top')\n",
    "plt.xlabel('Position along the beam', fontsize = 12, labelpad = 10)\n",
    "plt.ylabel(r'$\\mathrm{M_{Ed}\\ [kNm]}$', fontsize = 12, labelpad = 10)\n",
    "plt.title('Bending moment diagram'.upper(), y = 1.2, fontsize = 14, color = 'purple', fontweight = 'bold')\n",
    "plt.gca().invert_yaxis()\n",
    "\n",
    "# Save to .tiff extension with 200 dots per inch\n",
    "plt.savefig('M', dpi = 500, bbox_inches = 'tight', frameon = None)\n",
    "\n",
    "plt.show()"
   ]
  },
  {
   "cell_type": "markdown",
   "metadata": {},
   "source": [
    "#### <font color=blue>3.5.1.14. Save figure to vectorized file</font>  \n",
    "Generating \"conventional\" high quality figures (e.g. *.tiff* format) often entails lareg size files. Furthermore, once these files are pasted to *.docx* or *.pdf* documents, their quality is typically downgraded. A much better alternative to generating publication quality figures is to use vectorized formats (e.g. *.eps*, *.emf*, *.svg*). Even though `matplotlib` can create *.eps* figures, this format is no longer allowed in MSWord (*.emf*, however, is still allowed). To circumvent this issue, you can use the following procedure: i) create your figure plot in memory; ii) save your figure in *.svg* format; and iii) call a third-party software (e.g. [Inkscape](https://inkscape.org/pt/)) to convert from *.svg* to *.emf*. Although you cannot visualize these formats nativelly in Windows, you can install and use something like [IrfanView](https://www.irfanview.com/)."
   ]
  },
  {
   "cell_type": "code",
   "execution_count": null,
   "metadata": {},
   "outputs": [],
   "source": [
    "import os\n",
    "import subprocess\n",
    "def plot_as_emf(figure, **kwargs):\n",
    "    inkscape_path = kwargs.get('inkscape', \"C://Program Files//Inkscape//inkscape.exe\")\n",
    "    filepath = kwargs.get('filename', None)\n",
    "    if filepath is not None:\n",
    "        path, filename = os.path.split(filepath)\n",
    "        filename, extension = os.path.splitext(filename)\n",
    "        svg_filepath = os.path.join(path, filename+'.svg')\n",
    "        emf_filepath = os.path.join(path, filename+'.emf')\n",
    "        figure.savefig(svg_filepath, bbox_inches='tight', format='svg')\n",
    "        subprocess.call([inkscape_path, svg_filepath, '--export-emf', emf_filepath])\n",
    "        os.remove(svg_filepath)\n",
    "    return\n",
    "\n",
    "plt.plot(x, m_g)\n",
    "plt.plot(x, m_q)\n",
    "plt.gca().invert_yaxis()\n",
    "# Just add this after your figure is created (make sure there is no plt.show before this point)\n",
    "fig = plt.gcf()                       # This loads the entire figure to a variable\n",
    "plot_as_emf(fig, filename = 'figure') # This call the procedure passing on the figure\n",
    "plt.close()                           # This avoids the figure being shown in Python"
   ]
  },
  {
   "cell_type": "markdown",
   "metadata": {},
   "source": [
    "<font color=red><div style=\"text-align: right\"> **Documentation for**  \n",
    "[**`matplotlib.pyplot.savefig`**](https://matplotlib.org/api/_as_gen/matplotlib.pyplot.savefig.html)</div></font>"
   ]
  },
  {
   "cell_type": "markdown",
   "metadata": {},
   "source": [
    "Now that we have estabilished the basics of plotting and some steps towards improving the default behaviour of the plots, we can now focus on other features offered by the `matplotlib` package for advanced plotting. Some examples of these advanced procedures are shown in the following, where you will notice that the large majority of the syntax shown before is kept. "
   ]
  },
  {
   "cell_type": "markdown",
   "metadata": {},
   "source": [
    "### <font color=blue>3.5.2. Scatter plots</font>"
   ]
  },
  {
   "cell_type": "markdown",
   "metadata": {},
   "source": [
    "First, lets inititate the data"
   ]
  },
  {
   "cell_type": "code",
   "execution_count": null,
   "metadata": {},
   "outputs": [],
   "source": [
    "import numpy as np\n",
    "import random\n",
    "x = np.linspace(0, 1, 1000)\n",
    "y = [random.uniform(0, 1) for x in x]"
   ]
  },
  {
   "cell_type": "markdown",
   "metadata": {},
   "source": [
    "#### <font color=blue>3.5.2.1. Basic plotting</font>"
   ]
  },
  {
   "cell_type": "code",
   "execution_count": null,
   "metadata": {},
   "outputs": [],
   "source": [
    "# To plot the data poins, we use '.scatter' instead of '.plot'\n",
    "plt.scatter(x, y)\n",
    "plt.show()"
   ]
  },
  {
   "cell_type": "markdown",
   "metadata": {},
   "source": [
    "<font color=red><div style=\"text-align: right\"> **Documentation for**  \n",
    "[**`matplotlib.pyplot.scatter`**](https://matplotlib.org/api/_as_gen/matplotlib.pyplot.scatter.html)  \n",
    "</div></font>"
   ]
  },
  {
   "cell_type": "markdown",
   "metadata": {},
   "source": [
    "#### <font color=blue>3.5.2.2. Changing the figure size, adding limits and labels to axes</font>"
   ]
  },
  {
   "cell_type": "code",
   "execution_count": null,
   "metadata": {},
   "outputs": [],
   "source": [
    "plt.figure(figsize = (6, 3), dpi = 100)\n",
    "\n",
    "plt.scatter(x, y)\n",
    "\n",
    "plt.xlim(0, 1)\n",
    "plt.ylim(0, 1)\n",
    "plt.xlabel('X')\n",
    "plt.ylabel('Y')\n",
    "\n",
    "plt.show()"
   ]
  },
  {
   "cell_type": "markdown",
   "metadata": {},
   "source": [
    "#### <font color=blue>3.5.2.3. Changing marker type, color, transparency and size</font> "
   ]
  },
  {
   "cell_type": "code",
   "execution_count": null,
   "metadata": {},
   "outputs": [],
   "source": [
    "plt.figure(figsize = (6, 3), dpi = 100)\n",
    "\n",
    "plt.scatter(x, y, marker = 'o', edgecolor = 'r', color = 'r', alpha = 0.5, s = 10)\n",
    "\n",
    "plt.xlim(0, 1)\n",
    "plt.ylim(0, 1)\n",
    "plt.xlabel('X')\n",
    "plt.ylabel('Y')\n",
    "plt.show()"
   ]
  },
  {
   "cell_type": "markdown",
   "metadata": {},
   "source": [
    "<font color=red><div style=\"text-align: right\"> **Documentation for**  \n",
    "[**`matplotlib.markers`**](https://matplotlib.org/api/markers_api.html)  \n",
    "[**`matplotlib.colors`**](https://matplotlib.org/examples/color/named_colors.html)</div></font>"
   ]
  },
  {
   "cell_type": "markdown",
   "metadata": {},
   "source": [
    "#### <font color=blue>3.5.2.4. Colored-marker-tagged data (resorting to data filtering, using conventional legend)</font>  "
   ]
  },
  {
   "cell_type": "code",
   "execution_count": null,
   "metadata": {},
   "outputs": [],
   "source": [
    "plt.figure(figsize = (6, 3), dpi = 100)\n",
    "\n",
    "# Note that its not the data array that is plotted, but rather one datapoint at a time (less efficient)\n",
    "markers = {0.25: 'o', 0.5: 'x', 0.75: '^', 1: '*'}\n",
    "colors = {0.25: '0.75', 0.5: '0.5', 0.75: '0.25', 1: 'k'}\n",
    "label_list = []\n",
    "for idx in range(len(x)):\n",
    "    point_x = x[idx]\n",
    "    point_y = y[idx]\n",
    "    if point_x <= 0.25:\n",
    "        marker = markers[0.25]\n",
    "        color = colors[0.25]\n",
    "        label = 'X < 0.25'\n",
    "        if label not in label_list: label_list.append(label)\n",
    "        else: label = '_nolegend_'\n",
    "    elif point_x > 0.25 and point_x <= 0.5:\n",
    "        marker = markers[0.5]\n",
    "        color = colors[0.5] \n",
    "        label = '0.25 < X < 0.50'\n",
    "        if label not in label_list: label_list.append(label)\n",
    "        else: label = '_nolegend_'\n",
    "    elif point_x > 0.5 and point_x <= 0.75:\n",
    "        marker = markers[0.75]\n",
    "        color = colors[0.75]      \n",
    "        label = '0.50 < X < 0.75'\n",
    "        if label not in label_list: label_list.append(label)\n",
    "        else: label = '_nolegend_'\n",
    "    else:\n",
    "        marker = markers[1]\n",
    "        color = colors[1]\n",
    "        label = '0.75 < X < 1.00'\n",
    "        if label not in label_list: label_list.append(label)\n",
    "        else: label = '_nolegend_'\n",
    "    plt.scatter(point_x, point_y, marker = marker, color = color, alpha = 0.5, s = 10, label = label)\n",
    "\n",
    "# For convinience, the legend was moved the the outside of the plot \n",
    "plt.legend(frameon = False, loc = 'center left', bbox_to_anchor = (1, 0.5), fontsize = 8)\n",
    "\n",
    "plt.xlim(0, 1)\n",
    "plt.ylim(0, 1)\n",
    "plt.xlabel('X')\n",
    "plt.ylabel('Y')\n",
    "plt.show()"
   ]
  },
  {
   "cell_type": "markdown",
   "metadata": {},
   "source": [
    "<font color=red><div style=\"text-align: right\"> **Documentation for**  \n",
    "[**`matplotlib.pyplot.legend`**](https://matplotlib.org/api/_as_gen/matplotlib.pyplot.legend.html)</div></font>"
   ]
  },
  {
   "cell_type": "markdown",
   "metadata": {},
   "source": [
    "#### <font color=blue>3.5.2.5. Colormap-tagged data (along either axis, using colorbar as legend)</font>   "
   ]
  },
  {
   "cell_type": "code",
   "execution_count": null,
   "metadata": {},
   "outputs": [],
   "source": [
    "plt.figure(figsize = (6, 3), dpi = 100)\n",
    "\n",
    "# This uses the values of the data in array x to define the colormap\n",
    "# Instead of doing cmap = 'name', you can also do:\n",
    "#     import matplotlib.cm as cm\n",
    "#     cmap = cm.name\n",
    "# To reverse the color array just add '_r' to the cmap name\n",
    "plt.scatter(x, y, marker = 'o', c = x, cmap = 'jet', alpha = 0.5, s = 5)\n",
    "plt.colorbar(orientation = 'horizontal')\n",
    "\n",
    "plt.xlim(0, 1)\n",
    "plt.ylim(0, 1)\n",
    "plt.xlabel('X')\n",
    "plt.ylabel('Y')\n",
    "plt.show()"
   ]
  },
  {
   "cell_type": "code",
   "execution_count": null,
   "metadata": {},
   "outputs": [],
   "source": [
    "plt.figure(figsize = (6, 3), dpi = 100)\n",
    "\n",
    "# This uses the values of the data in array y to define the colormap\n",
    "# Instead of doing cmap = 'name', you can also do:\n",
    "#     import matplotlib.cm as cm\n",
    "#     cmap = cm.name\n",
    "# To reverse the color array just add '_r' to the cmap name\n",
    "plt.scatter(x, y, marker = 'o', c = y, cmap = 'jet', alpha = 0.5, s = 5)\n",
    "plt.colorbar(orientation = 'vertical')\n",
    "\n",
    "plt.xlim(0, 1)\n",
    "plt.ylim(0, 1)\n",
    "plt.xlabel('X')\n",
    "plt.ylabel('Y')\n",
    "plt.show()"
   ]
  },
  {
   "cell_type": "markdown",
   "metadata": {},
   "source": [
    "<font color=red><div style=\"text-align: right\"> **Documentation for**  \n",
    "[**`matplotlib.colormaps`**](https://matplotlib.org/examples/color/colormaps_reference.html)  \n",
    "[**`matplotlib.pyplot.colorbar`**](https://matplotlib.org/api/_as_gen/matplotlib.pyplot.colorbar.html)</div></font>"
   ]
  },
  {
   "cell_type": "markdown",
   "metadata": {},
   "source": [
    "### <font color=blue>3.5.3. Bar plots</font>"
   ]
  },
  {
   "cell_type": "markdown",
   "metadata": {},
   "source": [
    "Lets start by initializing the data to plot:"
   ]
  },
  {
   "cell_type": "code",
   "execution_count": null,
   "metadata": {},
   "outputs": [],
   "source": [
    "# List of groups, inside each group is the data of each subgroup \n",
    "data_raw = [(20, 25), (35, 32), (30, 34), (35, 20), (27, 25)]\n",
    "data_mod = []\n",
    "for i in data_raw:\n",
    "    for j in i:\n",
    "        data_mod.append(j)\n",
    "n_groups = len(data_raw)\n",
    "n_bars = len(data_raw[0])*n_groups # or len(data_mod)\n",
    "ind = range(1, n_bars + 1)"
   ]
  },
  {
   "cell_type": "markdown",
   "metadata": {},
   "source": [
    "#### <font color=blue>3.5.3.1. Basic plotting</font> "
   ]
  },
  {
   "cell_type": "code",
   "execution_count": null,
   "metadata": {},
   "outputs": [],
   "source": [
    "# To plot the data bars, we use '.bar'. For horizontal bars, we use '.barh'\n",
    "import matplotlib.pyplot as plt\n",
    "plt.bar(ind, data_mod)\n",
    "plt.show()"
   ]
  },
  {
   "cell_type": "markdown",
   "metadata": {},
   "source": [
    "<font color=red><div style=\"text-align: right\"> **Documentation for**    \n",
    "[**`matplotlib.pyplot.bar`**](https://matplotlib.org/api/_as_gen/matplotlib.pyplot.bar.html)</div></font>"
   ]
  },
  {
   "cell_type": "markdown",
   "metadata": {},
   "source": [
    "#### <font color=blue>3.5.3.2. Changing the figure size, adding limits and axis labels</font>  "
   ]
  },
  {
   "cell_type": "code",
   "execution_count": null,
   "metadata": {},
   "outputs": [],
   "source": [
    "plt.figure(figsize = (6, 3), dpi = 100)\n",
    "plt.bar(ind, data_mod)\n",
    "\n",
    "plt.ylim(0, 40)\n",
    "plt.xlabel('X')\n",
    "plt.ylabel('Y')\n",
    "\n",
    "plt.show()"
   ]
  },
  {
   "cell_type": "markdown",
   "metadata": {},
   "source": [
    "#### <font color=blue>3.5.3.3. Changing bar width, color, edgecolor, transparency</font>  "
   ]
  },
  {
   "cell_type": "code",
   "execution_count": null,
   "metadata": {},
   "outputs": [],
   "source": [
    "plt.figure(figsize = (6, 3), dpi = 100)\n",
    "\n",
    "# The width needs to be consistent with the indexes provided in the input\n",
    "# There is a bug in matplotlib when you specify the edgecolor only (use always alpha, if  there is no transparency')\n",
    "plt.bar(ind, data_mod, width = 1, color = 'r', edgecolor = 'k', alpha = 0.75)\n",
    "\n",
    "plt.ylim(0, 40)\n",
    "plt.xlabel('X')\n",
    "plt.ylabel('Y')\n",
    "plt.show()"
   ]
  },
  {
   "cell_type": "markdown",
   "metadata": {},
   "source": [
    "#### <font color=blue>3.5.3.4. Readjusting bar indexes, colors, to keep groups and subgroups clearer</font>   "
   ]
  },
  {
   "cell_type": "code",
   "execution_count": null,
   "metadata": {},
   "outputs": [],
   "source": [
    "plt.figure(figsize = (6, 3), dpi = 100)\n",
    "\n",
    "# Before, each bar was at a integer number between 1 and 10\n",
    "# Now, we are going to add a distance of 1 between each of the groups\n",
    "# We are going to make use of the same loop to define the color according to the subgroups\n",
    "idx = 0\n",
    "extra = 1\n",
    "for i in data_raw:\n",
    "    temp1 = 1\n",
    "    for j in i:\n",
    "        if temp1 == 1: color = 'r'\n",
    "        else: color = 'b'\n",
    "        idx += 1\n",
    "        plt.bar(idx, j, width = 0.8, color = color, edgecolor = 'k', alpha = 0.75)\n",
    "        temp1 += 1\n",
    "    idx += extra\n",
    "\n",
    "plt.ylim(0, 40)\n",
    "plt.xlabel('X')\n",
    "plt.ylabel('Y')\n",
    "plt.show()"
   ]
  },
  {
   "cell_type": "markdown",
   "metadata": {},
   "source": [
    "#### <font color=blue>3.5.3.5. Add axis tick labels based on group names</font>"
   ]
  },
  {
   "cell_type": "code",
   "execution_count": null,
   "metadata": {},
   "outputs": [],
   "source": [
    "plt.figure(figsize = (6, 3), dpi = 100)\n",
    "\n",
    "import numpy as np\n",
    "\n",
    "# We also include in the loop the computation of the index of the middle of each group\n",
    "idx = 0\n",
    "extra = 1\n",
    "\n",
    "middles = []\n",
    "\n",
    "for i in data_raw:\n",
    "    \n",
    "    group_idxs = []\n",
    "    \n",
    "    temp1 = 1\n",
    "    for j in i:\n",
    "        if temp1 == 1: \n",
    "            color = 'r'\n",
    "        else: \n",
    "            color = 'b'\n",
    "        idx += 1\n",
    "        plt.bar(idx, j, width = 0.8, color = color, edgecolor = 'k', alpha = 0.75)\n",
    "        temp1 += 1\n",
    "        \n",
    "        group_idxs.append(idx)\n",
    "    middles.append(np.mean(group_idxs))\n",
    "    \n",
    "    idx += extra\n",
    "\n",
    "plt.xticks(middles, ['G1', 'G2', 'G3', 'G4', 'G5'])\n",
    "    \n",
    "plt.ylim(0, 40)\n",
    "plt.xlabel('X')\n",
    "plt.ylabel('Y')\n",
    "plt.show()"
   ]
  },
  {
   "cell_type": "markdown",
   "metadata": {},
   "source": [
    "#### <font color=blue>3.5.3.6. Add labels to data, include in legend</font> "
   ]
  },
  {
   "cell_type": "code",
   "execution_count": null,
   "metadata": {},
   "outputs": [],
   "source": [
    "plt.figure(figsize = (6, 3), dpi = 100)\n",
    "\n",
    "# We now include in the loop the generation of the labels of each bar (duplicates are discarded for the legend)\n",
    "idx = 0\n",
    "extra = 1\n",
    "middles = []\n",
    "\n",
    "labels = []\n",
    "\n",
    "for i in data_raw:\n",
    "    group_idxs = []\n",
    "    temp1 = 1\n",
    "    for j in i:\n",
    "        if temp1 == 1:          \n",
    "            color = 'r'\n",
    "            \n",
    "            label = 'S1'\n",
    "            if label not in labels: labels.append(label)\n",
    "            else: label = '_nolegend_'\n",
    "        \n",
    "        else: \n",
    "            color = 'b'\n",
    "            \n",
    "            label = 'S2'\n",
    "            if label not in labels: labels.append(label)\n",
    "            else: label = '_nolegend_'\n",
    "        \n",
    "        idx += extra\n",
    "        plt.bar(idx, j, width = 0.8, color = color, edgecolor = 'k', alpha = 0.75, label = label)\n",
    "        temp1 += 1\n",
    "        group_idxs.append(idx)\n",
    "    middles.append(np.mean(group_idxs))\n",
    "    idx += extra\n",
    "plt.xticks(middles, ['G%s' % (i) for i in range(1, len(data_raw) + 1)])\n",
    "\n",
    "plt.legend(frameon = False, loc = 'best', fontsize = 8)\n",
    "\n",
    "plt.ylim(0, 40)\n",
    "plt.xlabel('X')\n",
    "plt.ylabel('Y')\n",
    "plt.show()"
   ]
  },
  {
   "cell_type": "markdown",
   "metadata": {},
   "source": [
    "#### <font color=blue>3.5.3.7. Stack the bars of each subgroup, normalizing the data in Y</font>  "
   ]
  },
  {
   "cell_type": "code",
   "execution_count": null,
   "metadata": {},
   "outputs": [],
   "source": [
    "plt.figure(figsize = (6, 3), dpi = 100)\n",
    "\n",
    "# Now, there is only one bar per group\n",
    "# Hence the indeces must be corrected\n",
    "ind = range(1, len(data_raw) + 1)\n",
    "\n",
    "# Now we must retrieve all the values of each subgroup and store them together\n",
    "data_s1 = np.array([i[0] for i in data_raw])\n",
    "data_s2 = np.array([i[1] for i in data_raw])\n",
    "\n",
    "# Since the subgroups in each group will now be stacked, one could consider normalizing the data in each group\n",
    "data_s1_mod = []\n",
    "data_s2_mod = []\n",
    "for idx in range(len(data_s1)):\n",
    "    sum_y = data_s1[idx] + data_s2[idx]\n",
    "    data_s1_mod.append(data_s1[idx]/sum_y)\n",
    "    data_s2_mod.append(data_s2[idx]/sum_y)\n",
    "\n",
    "# To stack the bars, on each subgroup data all you need to provide the coordinate in Y of the bottom of the bar\n",
    "plt.bar(ind, data_s1_mod, width = 0.8, color = 'r', edgecolor = 'k', alpha = 0.75, label = 'S1', bottom = 0)\n",
    "plt.bar(ind, data_s2_mod, width = 0.8, color = 'b', edgecolor = 'k', alpha = 0.75, label = 'S2', bottom = data_s1_mod)\n",
    "\n",
    "# It's just missing the group names\n",
    "plt.xticks(ind, ['G%s' % (i) for i in range(1, len(data_raw) + 1)])\n",
    "\n",
    "# And the legend\n",
    "# For convinience, the legend was moved the the outside of the plot \n",
    "plt.legend(frameon = False, loc = 'center left', bbox_to_anchor = (1, 0.5), fontsize = 8)\n",
    "\n",
    "plt.ylim(0, 1)\n",
    "plt.xlabel('X')\n",
    "plt.ylabel('Y')\n",
    "plt.show()"
   ]
  },
  {
   "cell_type": "markdown",
   "metadata": {},
   "source": [
    "### <font color=blue>3.5.4. 3D plots</font>  \n",
    "#### <font color=blue>3.5.4.1. Line plots</font>  \n",
    "Data initialization:"
   ]
  },
  {
   "cell_type": "code",
   "execution_count": null,
   "metadata": {},
   "outputs": [],
   "source": [
    "import numpy as np\n",
    "theta = np.linspace(-4 * np.pi, 4 * np.pi, 100)\n",
    "z = np.linspace(-2, 2, 100)\n",
    "x = (z**2 + 1) * np.sin(theta)\n",
    "y = (z**2 + 1) * np.cos(theta)"
   ]
  },
  {
   "cell_type": "markdown",
   "metadata": {},
   "source": [
    "##### <font color=blue>3.5.4.1.1. Basic plotting</font>  "
   ]
  },
  {
   "cell_type": "code",
   "execution_count": null,
   "metadata": {},
   "outputs": [],
   "source": [
    "from mpl_toolkits.mplot3d import Axes3D\n",
    "\n",
    "# Notice that here we are not using plt.plot, but ax.plot\n",
    "# You will see more of this when we go to subplots\n",
    "fig = plt.figure()\n",
    "ax = fig.gca(projection = '3d')\n",
    "ax.plot(x, y, z)\n",
    "plt.show()"
   ]
  },
  {
   "cell_type": "markdown",
   "metadata": {},
   "source": [
    "<font color=red><div style=\"text-align: right\"> **Documentation for**    \n",
    "[**`matplotlib.mplot3D`**](https://matplotlib.org/mpl_toolkits/mplot3d/tutorial.html)</div></font>"
   ]
  },
  {
   "cell_type": "markdown",
   "metadata": {},
   "source": [
    "##### <font color=blue>3.5.4.1.2. Change figure size, line color and linestyle, add (controlled) markers, axis limits and labels, legend</font>   "
   ]
  },
  {
   "cell_type": "code",
   "execution_count": null,
   "metadata": {},
   "outputs": [],
   "source": [
    "fig = plt.figure(figsize = (5, 5), dpi = 100)\n",
    "\n",
    "ax = fig.gca(projection = '3d')\n",
    "\n",
    "# Tip: 'markevery' uses markers not on all datapoints, but on every \n",
    "ax.plot(x, y, z, color = 'k', ls = '-.', marker = 's', markevery = 2, label = 'Curve')\n",
    "# The notation of axis label generation is different in 'ax.'\n",
    "# You will see this more in subplots\n",
    "ax.set_xlabel('X')\n",
    "ax.set_ylabel('Y')\n",
    "ax.set_zlabel('Z')\n",
    "ax.set_xlim(-6, 6)\n",
    "ax.set_ylim(-6, 6)\n",
    "ax.set_zlim(-6, 6)\n",
    "# For convenience, the legend was moved the the outside of the plot \n",
    "ax.legend(frameon = False, loc = 'center left', bbox_to_anchor = (1.05, 0.5), fontsize = 8)\n",
    "\n",
    "plt.show()"
   ]
  },
  {
   "cell_type": "markdown",
   "metadata": {},
   "source": [
    "<font color=red><div style=\"text-align: right\"> **Documentation for**    \n",
    "[**`matplotlib.linestyles`**](https://matplotlib.org/gallery/lines_bars_and_markers/linestyles.html)</div></font>"
   ]
  },
  {
   "cell_type": "markdown",
   "metadata": {},
   "source": [
    "##### <font color=blue>3.5.4.1.3. Include projections of data</font> "
   ]
  },
  {
   "cell_type": "code",
   "execution_count": null,
   "metadata": {},
   "outputs": [],
   "source": [
    "fig = plt.figure(figsize = (5, 5), dpi = 100)\n",
    "ax = fig.gca(projection = '3d')\n",
    "ax.plot(x, y, z, color = 'k', ls = '-.', marker = 's', markevery = 2, label = 'Curve')\n",
    "ax.set_xlabel('X')\n",
    "ax.set_ylabel('Y')\n",
    "ax.set_zlabel('Z')\n",
    "ax.set_xlim(-6, 6)\n",
    "ax.set_ylim(-6, 6)\n",
    "ax.set_zlim(-6, 6)\n",
    "\n",
    "ax.plot(x, z, color = 'r', alpha = 0.5, zdir = 'y', zs = 6, label = 'Projection in plane Z-X')\n",
    "ax.plot(y, z, color = 'g', alpha = 0.5, zdir = 'x', zs = -6, label = 'Projection in plane Z-Y')\n",
    "ax.plot(x, y, color = 'b', alpha = 0.5, zdir = 'z', zs = -6, label = 'Projection in plane X-Y')\n",
    "\n",
    "ax.legend(frameon = False, loc = 'center left', bbox_to_anchor = (1.05, 0.5), fontsize = 8)\n",
    "plt.show()"
   ]
  },
  {
   "cell_type": "markdown",
   "metadata": {},
   "source": [
    "#### <font color=blue>3.5.4.2. Scatter plots</font> \n",
    "Data initialization:"
   ]
  },
  {
   "cell_type": "code",
   "execution_count": null,
   "metadata": {},
   "outputs": [],
   "source": [
    "import numpy as np\n",
    "import random\n",
    "def f(x, y):\n",
    "    return np.sin(np.sqrt(x ** 2 + y ** 2))\n",
    "theta = 2 * np.pi * np.random.random(1000)\n",
    "r = 6 * np.random.random(1000)\n",
    "x = np.ravel(r * np.sin(theta))\n",
    "y = np.ravel(r * np.cos(theta))\n",
    "z = f(x, y)"
   ]
  },
  {
   "cell_type": "markdown",
   "metadata": {},
   "source": [
    "##### <font color=blue>3.5.4.2.1. Basic plotting</font>  "
   ]
  },
  {
   "cell_type": "code",
   "execution_count": null,
   "metadata": {},
   "outputs": [],
   "source": [
    "from mpl_toolkits.mplot3d import Axes3D\n",
    "\n",
    "# Notice that here we are not using plt.scatter, but ax.scatter\n",
    "# You will see more of this when we go to subplots\n",
    "fig = plt.figure()\n",
    "ax = fig.gca(projection = '3d')\n",
    "ax.scatter(x, y, z)\n",
    "plt.show()"
   ]
  },
  {
   "cell_type": "markdown",
   "metadata": {},
   "source": [
    "##### <font color=blue>3.5.4.2.2. Change figure size, marker (fixed) color and type, axis limits and labels, legend</font>   "
   ]
  },
  {
   "cell_type": "code",
   "execution_count": null,
   "metadata": {},
   "outputs": [],
   "source": [
    "fig = plt.figure(figsize = (5, 5), dpi = 100)\n",
    "\n",
    "ax = fig.gca(projection = '3d')\n",
    "\n",
    "ax.scatter(x, y, z, color = 'purple', marker = 'o', label = 'Data')\n",
    "# The notation of axis label generation is different in 'ax.'\n",
    "# You will see this more in subplots\n",
    "ax.set_xlabel('X')\n",
    "ax.set_ylabel('Y')\n",
    "ax.set_zlabel('Z')\n",
    "ax.set_xlim(-7, 7)\n",
    "ax.set_ylim(-7, 7)\n",
    "ax.set_zlim(-1.2, 1.2)\n",
    "# For convinience, the legend was moved the the outside of the plot \n",
    "ax.legend(frameon = False, loc = 'center left', bbox_to_anchor = (1.05, 0.5), fontsize = 8)\n",
    "\n",
    "plt.show()"
   ]
  },
  {
   "cell_type": "markdown",
   "metadata": {},
   "source": [
    "##### <font color=blue>3.5.4.2.3. Include projections of data, and use colormap for data (along any axis)</font>    "
   ]
  },
  {
   "cell_type": "code",
   "execution_count": null,
   "metadata": {},
   "outputs": [],
   "source": [
    "fig = plt.figure(figsize = (5, 5), dpi = 100)\n",
    "ax = fig.gca(projection = '3d')\n",
    "ax.scatter(x, y, z, c = z, cmap = 'viridis', marker = 'o', label = 'Data')\n",
    "ax.set_xlabel('X')\n",
    "ax.set_ylabel('Y')\n",
    "ax.set_zlabel('Z')\n",
    "ax.set_xlim(-7, 7)\n",
    "ax.set_ylim(-7, 7)\n",
    "ax.set_zlim(-1.2, 1.2)\n",
    "\n",
    "ax.scatter(x, z, color = '0.25', marker = 's', alpha = 0.1, zdir = 'y', zs = 7, label = 'Projection in plane Z-X')\n",
    "ax.scatter(y, z, color = '0.25', marker = '^', alpha = 0.1, zdir = 'x', zs = -7, label = 'Projection in plane Z-Y')\n",
    "ax.scatter(x, y, color = '0.25', marker = '*', alpha = 0.1, zdir = 'z', zs = -1.2, label = 'Projection in plane X-Y')\n",
    "\n",
    "ax.legend(frameon = False, loc = 'center left', bbox_to_anchor = (1.05, 0.5), fontsize = 8)\n",
    "plt.show()"
   ]
  },
  {
   "cell_type": "markdown",
   "metadata": {},
   "source": [
    "##### <font color=blue>3.5.4.2.4. Scatter-to-surface with triangulation</font>     "
   ]
  },
  {
   "cell_type": "code",
   "execution_count": null,
   "metadata": {},
   "outputs": [],
   "source": [
    "# Tip: check out https://jakevdp.github.io/PythonDataScienceHandbook/04.12-three-dimensional-plotting.html\n",
    "\n",
    "fig = plt.figure(figsize = (5, 5), dpi = 100)\n",
    "ax = fig.gca(projection = '3d')\n",
    "ax.set_xlabel('X')\n",
    "ax.set_ylabel('Y')\n",
    "ax.set_zlabel('Z')\n",
    "ax.set_xlim(-7, 7)\n",
    "ax.set_ylim(-7, 7)\n",
    "ax.set_zlim(-1.2, 1.2)\n",
    "ax.scatter(x, z, color = '0.25', marker = 's', alpha = 0.1, zdir = 'y', zs = 7, label = 'Projection in plane Z-X')\n",
    "ax.scatter(y, z, color = '0.25', marker = '^', alpha = 0.1, zdir = 'x', zs = -7, label = 'Projection in plane Z-Y')\n",
    "ax.scatter(x, y, color = '0.25', marker = '*', alpha = 0.1, zdir = 'z', zs = -1.2, label = 'Projection in plane X-Y')\n",
    "\n",
    "# Notice that the ax.scatter of the priginal data has been replaced by the surface\n",
    "ax.plot_trisurf(x, y, z, cmap = 'rainbow', edgecolor = 'none')\n",
    "\n",
    "ax.legend(frameon = False, loc = 'center left', bbox_to_anchor = (1.05, 0.5), fontsize = 8)\n",
    "plt.show()"
   ]
  },
  {
   "cell_type": "markdown",
   "metadata": {},
   "source": [
    "##### <font color=blue>3.5.4.2.5. Change viewing angle</font>   "
   ]
  },
  {
   "cell_type": "code",
   "execution_count": null,
   "metadata": {},
   "outputs": [],
   "source": [
    "fig = plt.figure(figsize = (5, 5), dpi = 100)\n",
    "ax = fig.gca(projection = '3d')\n",
    "\n",
    "# Now, we change the angle of the view\n",
    "# First number specifies the elevation in degrees (i.e., how many degrees above the X-Y plane)\n",
    "# Second number is the azimuth in degrees (i.e., counter-clockwise rotation about the Z-axis):\n",
    "ax.view_init(50, 30)\n",
    "\n",
    "ax.set_xlabel('X')\n",
    "ax.set_ylabel('Y')\n",
    "ax.set_zlabel('Z')\n",
    "ax.set_xlim(-7, 7)\n",
    "ax.set_ylim(-7, 7)\n",
    "ax.set_zlim(-1.2, 1.2)\n",
    "\n",
    "# Because we changed the viewing angle, the one or all projection plane coordinates need to be updated (in this case, only Z-X)\n",
    "ax.scatter(x, z, color = '0.25', marker = 's', alpha = 0.1, zdir = 'y', zs = -7, label = 'Projection in plane Z-X')\n",
    "ax.scatter(y, z, color = '0.25', marker = '^', alpha = 0.1, zdir = 'x', zs = -7, label = 'Projection in plane Z-Y')\n",
    "ax.scatter(x, y, color = '0.25', marker = '*', alpha = 0.1, zdir = 'z', zs = -1.2, label = 'Projection in plane X-Y')\n",
    "\n",
    "ax.plot_trisurf(x, y, z, cmap = 'rainbow', edgecolor = 'none')\n",
    "ax.legend(frameon = False, loc = 'center left', bbox_to_anchor = (1.05, 0.5), fontsize = 8)\n",
    "plt.show()"
   ]
  },
  {
   "cell_type": "markdown",
   "metadata": {},
   "source": [
    "##### <font color=blue>3.5.5. Subplots</font>    "
   ]
  },
  {
   "cell_type": "markdown",
   "metadata": {},
   "source": [
    "Oftentimes, data is not intended to be visualized in isolated figure plots, but rather a single figure with including multiple subplots. In these cases, teh `subplot` component of `matplotlib` comes in handy. Since they can be independent of each otehr, you might have combinations of the previous plot types (e.g. line, scatter, bar, 3D) within the same figure.\n",
    "#### <font color=blue>3.5.5.1. Subplots by hand</font>     "
   ]
  },
  {
   "cell_type": "code",
   "execution_count": null,
   "metadata": {},
   "outputs": [],
   "source": [
    "import matplotlib.pyplot as plt\n",
    "import numpy as np\n",
    "\n",
    "# Some data\n",
    "mean = [0, 0]\n",
    "cov = [[1, 1], [1, 2]]\n",
    "x1, y1 = np.random.multivariate_normal(mean, cov, 1000).T\n",
    "x2, y2 = abs(x1)**0.2, y1\n",
    "\n",
    "# This creates the figure\n",
    "# Note that the figsize will apply to the original axis only, the subplots just extend this size further\n",
    "plt.figure(figsize = (3, 3), dpi = 100)\n",
    "\n",
    "# This creates the standard axes\n",
    "ax1 = plt.axes()\n",
    "\n",
    "# This creates the subplot\n",
    "# These numbers represent relative measures [left, bottom, width, height] in the figure coordinate system, \n",
    "# Ranges from 0 at the bottom left of the figure to 1 at the top right of the figure.\n",
    "# In this case, these values were adjusted to make the second plot appear to the right of the original \n",
    "ax2 = plt.axes([1.2, 0.125, 0.5, 0.75])\n",
    "\n",
    "# This plots in ax1\n",
    "ax1.scatter(x1, y1, marker = 'p', color = 'r', alpha = 0.25)\n",
    "\n",
    "# This plots in ax2\n",
    "ax2.scatter(x2, y2, marker = 'x', color = 'g', alpha = 0.25)\n",
    "\n",
    "# This formats axis limits, labels, grid, individually\n",
    "ax1.set_xlabel('X1')\n",
    "ax1.set_ylabel('Y1')\n",
    "ax1.set_xlim(-5, 5)\n",
    "ax1.set_ylim(-5, 5)\n",
    "ax1.grid()\n",
    "ax2.set_xlabel('X2')\n",
    "ax2.set_ylabel('Y2')\n",
    "ax2.set_xlim(0, 1.5)\n",
    "ax2.set_ylim(-6, 6)\n",
    "ax2.grid()\n",
    "\n",
    "plt.show()"
   ]
  },
  {
   "cell_type": "markdown",
   "metadata": {},
   "source": [
    "Sometimes you might want to take advantage of manual subplots and to include some sort of legend figure in your original plot:"
   ]
  },
  {
   "cell_type": "code",
   "execution_count": null,
   "metadata": {},
   "outputs": [],
   "source": [
    "plt.figure(figsize = (3, 3), dpi = 100)\n",
    "ax1 = plt.axes()\n",
    "ax1.scatter(x1, y1, marker = 'p', color = 'r', alpha = 0.25)\n",
    "ax1.set_xlabel('X1')\n",
    "ax1.set_ylabel('Y1')\n",
    "ax1.set_xlim(-5, 5)\n",
    "ax1.set_ylim(-5, 5)\n",
    "ax1.grid()\n",
    "\n",
    "# This creates the subplot axis inside the original\n",
    "ax2 = plt.axes([0.7, 0.2, 0.2, 0.2])\n",
    "# Now lets plot something there\n",
    "test = [[[0, 0], [0, 6]], [[5, 5], [0, 6]], [[0, 5], [3, 3]], [[0, 5], [6, 6]]]\n",
    "for i in test:\n",
    "    ax2.plot(i[0], i[1], marker = 'o', color = 'orange')\n",
    "ax2.set_xlim(-1, 7)\n",
    "ax2.set_ylim(-1, 7)\n",
    "# This hides the axes of the subplot\n",
    "ax2.axis('off')\n",
    "\n",
    "plt.show()"
   ]
  },
  {
   "cell_type": "markdown",
   "metadata": {},
   "source": [
    "<font color=red><div style=\"text-align: right\"> **Documentation for**    \n",
    "[**`matplotlib.pyplot.subplot`**](https://matplotlib.org/api/_as_gen/matplotlib.pyplot.subplot.html)</div></font>"
   ]
  },
  {
   "cell_type": "markdown",
   "metadata": {},
   "source": [
    "#### <font color=blue>3.5.5.2. Simple subplot grids</font>\n",
    "##### <font color=blue>3.5.5.2.1. Tedious approach</font>\n",
    "Aligned columns or rows of subplots are a common-enough need that Matplotlib has several convenience routines that make them easy to create. The lowest level of these is `plt.subplot()`, which creates a single subplot within a grid. This command takes three integer arguments: number of rows, number of columns, and the index of the plot to be created in this scheme, which runs from the upper left to the bottom right:"
   ]
  },
  {
   "cell_type": "code",
   "execution_count": null,
   "metadata": {},
   "outputs": [],
   "source": [
    "plt.figure(figsize = (5, 2.5), dpi = 100)\n",
    "for i in range(1, 7):\n",
    "    plt.subplot(2, 3, i)\n",
    "    plt.text(0.5, 0.5, str((2, 3, i)),\n",
    "             fontsize = 14, color = 'r', ha='center')\n",
    "plt.show()"
   ]
  },
  {
   "cell_type": "markdown",
   "metadata": {},
   "source": [
    "You can adjust the spacing between the subplots:"
   ]
  },
  {
   "cell_type": "code",
   "execution_count": null,
   "metadata": {},
   "outputs": [],
   "source": [
    "plt.figure(figsize = (5, 2.5), dpi = 100)\n",
    "for i in range(1, 7):\n",
    "    plt.subplot(2, 3, i)\n",
    "    plt.text(0.5, 0.5, str((2, 3, i)),\n",
    "             fontsize = 14, color = 'r', ha = 'center')\n",
    "\n",
    "# Adjusted horizontal and vertical spacings\n",
    "plt.subplots_adjust(hspace = 0.4, wspace = 0.4)\n",
    "\n",
    "plt.show()"
   ]
  },
  {
   "cell_type": "markdown",
   "metadata": {},
   "source": [
    "Or, instead, you can relly on the automatic adjustment of `matplotlib`:"
   ]
  },
  {
   "cell_type": "code",
   "execution_count": null,
   "metadata": {},
   "outputs": [],
   "source": [
    "plt.figure(figsize = (5, 2.5), dpi = 100)\n",
    "for i in range(1, 7):\n",
    "    plt.subplot(2, 3, i)\n",
    "    plt.text(0.5, 0.5, str((2, 3, i)),\n",
    "             fontsize = 14, color = 'r', ha = 'center')\n",
    "\n",
    "# Automatig adjustment\n",
    "plt.tight_layout()\n",
    "\n",
    "plt.show()"
   ]
  },
  {
   "cell_type": "markdown",
   "metadata": {},
   "source": [
    "<font color=red><div style=\"text-align: right\"> **Documentation for**    \n",
    "[**`matplotlib.pyplot.text`**](https://matplotlib.org/api/_as_gen/matplotlib.pyplot.text.html)</div></font>"
   ]
  },
  {
   "cell_type": "markdown",
   "metadata": {},
   "source": [
    "##### <font color=blue>3.5.5.2.2. Advanced approach</font> "
   ]
  },
  {
   "cell_type": "markdown",
   "metadata": {},
   "source": [
    "The previous approach can become quite tedious for large subplot grids. For this purpose, `plt.subplots()` is the way to go. The arguments are the number of rows and number of columns, along with optional keywords sharex and sharey, which allow you to specify the relationships between different axes. To create a 2×3 grid of subplots:"
   ]
  },
  {
   "cell_type": "code",
   "execution_count": null,
   "metadata": {},
   "outputs": [],
   "source": [
    "fig, ax = plt.subplots(2, 3, figsize = (6, 3))\n",
    "plt.show()"
   ]
  },
  {
   "cell_type": "markdown",
   "metadata": {},
   "source": [
    "If you want to have shared x and/or y axis scales:"
   ]
  },
  {
   "cell_type": "code",
   "execution_count": null,
   "metadata": {},
   "outputs": [],
   "source": [
    "# When axis become shared, axis labels and ticks don't become repetead\n",
    "fig, ax = plt.subplots(2, 3, figsize = (6, 3), sharex = True, sharey = True)\n",
    "plt.tight_layout()\n",
    "plt.show()"
   ]
  },
  {
   "cell_type": "markdown",
   "metadata": {},
   "source": [
    "The resulting grid of axes instances is returned within a `NumPy` array, allowing for convenient specification of the desired axes using standard array indexing notation (i.e. indexed by [row, col]):"
   ]
  },
  {
   "cell_type": "code",
   "execution_count": null,
   "metadata": {},
   "outputs": [],
   "source": [
    "fig, ax = plt.subplots(2, 3, figsize = (6, 3), sharex = True, sharey = True)\n",
    "for i in range(2):\n",
    "    for j in range(3):\n",
    "        ax[i, j].text(0.5, 0.5, str((i, j)),\n",
    "                      fontsize=18, ha='center')\n",
    "plt.tight_layout()\n",
    "plt.show()"
   ]
  },
  {
   "cell_type": "markdown",
   "metadata": {},
   "source": [
    "Instead, you can also name the subplots according to your naming convention (i.e. unpacking `ax` in the beginning), and access them with that name:"
   ]
  },
  {
   "cell_type": "code",
   "execution_count": null,
   "metadata": {},
   "outputs": [],
   "source": [
    "# You have to specify the axes as a tuple of tuples\n",
    "# Each subtuple represents which axes are in the row\n",
    "fig, ((ax1, ax2, ax3), (ax4, ax5, ax6)) = plt.subplots(2, 3, figsize = (6, 3), sharex = True, sharey = True)\n",
    "# You can now call them using fig.axes\n",
    "i = 1\n",
    "for ax in fig.axes:\n",
    "    if ax != ax1:\n",
    "        ax.text(0.5, 0.5, 'ax%s' % (i), fontsize=18, ha = 'center')\n",
    "    i += 1\n",
    "plt.tight_layout()\n",
    "plt.show()"
   ]
  },
  {
   "cell_type": "markdown",
   "metadata": {},
   "source": [
    "<font color=red><div style=\"text-align: right\"> **Documentation for**    \n",
    "[**`matplotlib.pyplot.subplots`**](https://matplotlib.org/api/_as_gen/matplotlib.pyplot.subplots.html)</div></font>"
   ]
  },
  {
   "cell_type": "markdown",
   "metadata": {},
   "source": [
    "#### <font color=blue>3.5.5.3. Complex subplot grids</font>  \n",
    "To go beyond a regular grid to subplots that span multiple rows and columns, `plt.GridSpec()` is the best tool. The `plt.GridSpec()` object does not create a plot by itself; it is simply a convenient interface that is recognized by the `plt.subplot()` command. For example, a gridspec for a grid of two rows and three columns with some specified width and height space looks like this:"
   ]
  },
  {
   "cell_type": "code",
   "execution_count": null,
   "metadata": {},
   "outputs": [],
   "source": [
    "grid = plt.GridSpec(2, 3)"
   ]
  },
  {
   "cell_type": "markdown",
   "metadata": {},
   "source": [
    "From this we can specify subplot locations and extents using the familiary Python slicing syntax:"
   ]
  },
  {
   "cell_type": "code",
   "execution_count": null,
   "metadata": {},
   "outputs": [],
   "source": [
    "plt.figure(figsize = (5, 2.5), dpi = 100)\n",
    "ax1 = plt.subplot(grid[0, 0])\n",
    "ax2 = plt.subplot(grid[0, 1:])\n",
    "ax3 = plt.subplot(grid[1, :2])\n",
    "ax4 = plt.subplot(grid[1, 2])\n",
    "plt.tight_layout()\n",
    "plt.show()"
   ]
  },
  {
   "cell_type": "markdown",
   "metadata": {},
   "source": [
    "This type of flexible grid alignment has a wide range of uses. I most often use it when creating multi-axes histogram plots like:"
   ]
  },
  {
   "cell_type": "code",
   "execution_count": null,
   "metadata": {},
   "outputs": [],
   "source": [
    "# Create some data\n",
    "mean = [0, 0]\n",
    "cov = [[1, 1], [1, 2]]\n",
    "x, y = np.random.multivariate_normal(mean, cov, 3000).T\n",
    "\n",
    "# Set up the axes with gridspec\n",
    "fig = plt.figure(figsize=(6, 6))\n",
    "grid = plt.GridSpec(4, 4)\n",
    "main_ax = fig.add_subplot(grid[:-1, 1:])\n",
    "y_hist = fig.add_subplot(grid[:-1, 0], xticklabels=[], sharey=main_ax)\n",
    "x_hist = fig.add_subplot(grid[-1, 1:], yticklabels=[], sharex=main_ax)\n",
    "\n",
    "# scatter points on the main axes\n",
    "main_ax.scatter(x, y, marker = 'o', color = 'k', s=5, alpha=0.2)\n",
    "\n",
    "# histogram on the attached axes\n",
    "x_hist.hist(x, 40, histtype='stepfilled', edgecolor = '0.25', orientation='vertical', color='gray')\n",
    "x_hist.invert_yaxis()\n",
    "y_hist.hist(y, 40, histtype='stepfilled', edgecolor = '0.25', orientation='horizontal', color='gray')\n",
    "y_hist.invert_xaxis()\n",
    "\n",
    "# name the axes\n",
    "main_ax.set_xlabel('X')\n",
    "main_ax.set_ylabel('Y')\n",
    "\n",
    "# use something that is common betwen all subplots\n",
    "for ax in fig.axes:\n",
    "    ax.grid()\n",
    "    ax.set_title('Subtitle')\n",
    "    \n",
    "plt.suptitle('Title')\n",
    "\n",
    "plt.tight_layout()\n",
    "plt.show()"
   ]
  },
  {
   "cell_type": "markdown",
   "metadata": {},
   "source": [
    "<font color=red><div style=\"text-align: right\"> **Documentation for**    \n",
    "[**`matplotlib.gridspec.GridSpec`**](https://matplotlib.org/api/_as_gen/matplotlib.gridspec.GridSpec.html#matplotlib.gridspec.GridSpec)</div></font>"
   ]
  },
  {
   "cell_type": "markdown",
   "metadata": {},
   "source": [
    "### <font color=blue>3.5.6. Plotting order</font>   \n",
    "When plotting multiple lines within a loop, or different plot types within the same figure, `matplotlib` follows a default precedence order to represent the data. For example, if you try to plot lines followed by scatter data, the data is plotted on top of each other:"
   ]
  },
  {
   "cell_type": "code",
   "execution_count": null,
   "metadata": {},
   "outputs": [],
   "source": [
    "import numpy as np\n",
    "\n",
    "# Some data for a line plot\n",
    "x_line = np.linspace(0, np.pi*2, 100)\n",
    "y_line = np.cos(x_line)\n",
    "# Some data for a scatter plot\n",
    "x_scatter = np.linspace(0, np.pi*2, 20)\n",
    "y_scatter = np.cos(x_scatter)\n",
    "\n",
    "plt.figure(figsize = (6, 4), dpi = 100)\n",
    "# Plot line\n",
    "plt.plot(x_line, y_line, color = 'k')\n",
    "\n",
    "# Plot scatter\n",
    "plt.scatter(x_scatter, y_scatter, color = 'r', s = 100)\n",
    "\n",
    "plt.show()"
   ]
  },
  {
   "cell_type": "markdown",
   "metadata": {},
   "source": [
    "However, you can specify the order in which the data is supposed to be plotted with the keyword `zorder`:"
   ]
  },
  {
   "cell_type": "code",
   "execution_count": null,
   "metadata": {},
   "outputs": [],
   "source": [
    "plt.figure(figsize = (6, 4), dpi = 100)\n",
    "\n",
    "# Plot line with a low zorder, and the data will be the first to be plotted\n",
    "plt.plot(x_line, y_line, color = 'k', zorder = 1)\n",
    "\n",
    "# Plot scatter with a higher z order, and the data will be on top of the previous \n",
    "plt.scatter(x_scatter, y_scatter, color = 'r', s = 100, zorder = 1000)\n",
    "\n",
    "plt.show()"
   ]
  },
  {
   "cell_type": "markdown",
   "metadata": {},
   "source": [
    "### <font color=blue>3.5.7. Color cycling</font>    \n",
    "You can also take advantage of colormaps to generate data representations with color cycling. This can be done, for example, when ploting multiple curves from a loop:"
   ]
  },
  {
   "cell_type": "code",
   "execution_count": null,
   "metadata": {},
   "outputs": [],
   "source": [
    "import numpy as np\n",
    "import matplotlib.pyplot as plt\n",
    "import matplotlib.cm as cm \n",
    "\n",
    "angles = np.arange(0, 360 + 5, 5)\n",
    "\n",
    "# Number of curves\n",
    "n_curves = len(angles)\n",
    "\n",
    "# Create array of color tags of a given cmap (range between 0 and 1)\n",
    "cmap = cm.get_cmap('hsv')\n",
    "colors = cmap(np.linspace(0, 1, n_curves))\n",
    "\n",
    "# Plot\n",
    "x = np.linspace(0, 50, 2)\n",
    "count = 0\n",
    "for angle in angles:\n",
    "    x = x\n",
    "    m = np.tan(np.radians(angle))\n",
    "    y = m*x\n",
    "    color = colors[count]\n",
    "    if angle <= 90: plt.plot(x, y, color = color, label = '%s' % (angle))\n",
    "    elif angle > 90 and angle <= 180: plt.plot(-x, -y, color = color, label = '%s' % (angle))\n",
    "    elif angle > 180 and angle <= 270: plt.plot(-x, -y, color = color, label = '%s' % (angle))\n",
    "    elif angle < 360: plt.plot(x, y, color = color, label = '%s' % (angle))  \n",
    "    count += 1\n",
    "\n",
    "plt.xlim(-50, 50)\n",
    "plt.ylim(-50, 50)\n",
    "plt.axis('off')\n",
    "plt.legend(frameon = False, loc = 'center left', bbox_to_anchor = (1.1, 0.5), fontsize = 8, ncol = 6)\n",
    "plt.show()"
   ]
  },
  {
   "cell_type": "markdown",
   "metadata": {},
   "source": [
    "### <font color=blue>3.5.8. Mathematical text rendering</font>     \n",
    "You can use a subset TeX markup in any `matplotlib` text string by placing it inside a pair of dollar signs (`$`). A number of characters have special meaning in this context (e.g., `# $ % & ~ _ ^ \\ { } ( ) [ ]`). In the following, some typical applications are shown.\n",
    "#### <font color=blue>3.5.8.1. Greek letters</font>  \n",
    "To use greek lettering, you have to access the naming convention followed, as, for example:"
   ]
  },
  {
   "cell_type": "code",
   "execution_count": null,
   "metadata": {},
   "outputs": [],
   "source": [
    "plt.figure(figsize = (1, 1))\n",
    "# Note that even these special strings oftentimes require an 'r' before (to be a raw string). \n",
    "# Get used to using it always to avoid issues.\n",
    "# Also, note that any text provided in this way becomes, by default, italic.\n",
    "# We will cover how to chenge this font type.\n",
    "# Also note that spaces in the string are ignored, unless '\\' is used before to force it to appear\n",
    "x = 0.5\n",
    "for text in ['alpha', \n",
    "             '$alpha$', \n",
    "             r'$\\alpha$',\n",
    "             r'$\\alpha alfa$',\n",
    "             r'$\\alpha\\ alfa$']:\n",
    "    plt.text(x = x, y = 0.5, s = text, fontsize = 18, ha = 'center')\n",
    "    x += 2.0\n",
    "plt.axis('off')\n",
    "plt.show()"
   ]
  },
  {
   "cell_type": "markdown",
   "metadata": {},
   "source": [
    "#### <font color=blue>3.5.8.2. Other symbols</font>   \n",
    "Besides greek lettering, a large variety of symbols is also available:"
   ]
  },
  {
   "cell_type": "code",
   "execution_count": null,
   "metadata": {},
   "outputs": [],
   "source": [
    "plt.figure(figsize = (1, 1))\n",
    "x = 0.5\n",
    "for text in [r'$\\sum$',\n",
    "             r'$\\prod$',\n",
    "             r'$\\int$',\n",
    "             r'$\\approxeq$',\n",
    "             r'$\\geq$',\n",
    "             r'$\\Leftrightarrow$',\n",
    "             r'$\\spadesuit$',\n",
    "             r'$\\neq$',\n",
    "             r'$\\therefore$',\n",
    "            ]:\n",
    "    plt.text(x = x, y = 0.5, s = text, fontsize = 18, ha = 'center')\n",
    "    x += 1.0\n",
    "plt.axis('off')\n",
    "plt.show()"
   ]
  },
  {
   "cell_type": "markdown",
   "metadata": {},
   "source": [
    "#### <font color=blue>3.5.8.3. Subscripts and superscripts</font>    \n",
    "To make subscripts and superscripts, use the `_` and `^` symbols, using also, if necessary, the `{}` characters to atribute the subscripts or superscripts to entire portions of text:"
   ]
  },
  {
   "cell_type": "code",
   "execution_count": null,
   "metadata": {},
   "outputs": [],
   "source": [
    "plt.figure(figsize = (1, 1))\n",
    "x = 0.5\n",
    "for text in [r'$\\alpha_k$', \n",
    "             r'$\\alpha^2$', \n",
    "             r'$\\alpha_k^2$', \n",
    "             r'$\\alpha_{k^2}$']:\n",
    "    plt.text(x = x, y = 0.5, s = text, fontsize = 18, ha = 'center')\n",
    "    x += 1.0\n",
    "plt.axis('off')\n",
    "plt.show()"
   ]
  },
  {
   "cell_type": "markdown",
   "metadata": {},
   "source": [
    "Some symbols automatically put their sub/superscripts under and over the operator. For example, to write the sum of `xi` from `0` to `inf`, you could do:"
   ]
  },
  {
   "cell_type": "code",
   "execution_count": null,
   "metadata": {},
   "outputs": [],
   "source": [
    "plt.figure(figsize = (1, 1))\n",
    "x = 0.5\n",
    "for text in [r'$\\sum_{i=0}^\\infty x_i$']:\n",
    "    plt.text(x = x, y = 0.5, s = text, fontsize = 18, ha = 'center')\n",
    "    x += 1.0\n",
    "plt.axis('off')\n",
    "plt.show()"
   ]
  },
  {
   "cell_type": "markdown",
   "metadata": {},
   "source": [
    "#### <font color=blue>3.5.8.4. Fractions, binomials and stacked numbers</font>   \n",
    "Fractions, binomials and stacked numbers can be created with the `\\frac{}{}`, `\\binom{}{}` and `\\stackrel{}{}` commands, respectively:"
   ]
  },
  {
   "cell_type": "code",
   "execution_count": null,
   "metadata": {},
   "outputs": [],
   "source": [
    "plt.figure(figsize = (1, 1))\n",
    "x = 0.5\n",
    "for text in [r'$\\frac{3}{4}$', \n",
    "             r'$\\binom{3}{4}$', \n",
    "             r'$\\stackrel{3}{4}$']:\n",
    "    plt.text(x = x, y = 0.5, s = text, fontsize = 18, ha = 'center')\n",
    "    x += 1.0\n",
    "plt.axis('off')\n",
    "plt.show()"
   ]
  },
  {
   "cell_type": "markdown",
   "metadata": {},
   "source": [
    "Fractions can also be arbitrarily nested. Note that special care needs to be taken to place parentheses and brackets around fractions. Doing things the obvious way produces brackets that are too small. The solution is to precede the bracket with `\\left` and `\\right` to inform the parser that those brackets encompass the entire object:"
   ]
  },
  {
   "cell_type": "code",
   "execution_count": null,
   "metadata": {},
   "outputs": [],
   "source": [
    "plt.figure(figsize = (1, 1))\n",
    "x = 0.5\n",
    "for text in [r'$\\frac{5 - \\frac{1}{x}}{4}$',\n",
    "             r'$(\\frac{5 - \\frac{1}{x}}{4})$',\n",
    "             r'$\\left(\\frac{5 - \\frac{1}{x}}{4}\\right)$']:\n",
    "    plt.text(x = x, y = 0.5, s = text, fontsize = 18, ha = 'center')\n",
    "    x += 2.0\n",
    "plt.axis('off')\n",
    "plt.show()"
   ]
  },
  {
   "cell_type": "markdown",
   "metadata": {},
   "source": [
    "#### <font color=blue>3.5.8.5. Radicals</font> \n",
    "Radicals can be produced with the `\\sqrt[]{}` command. Any base can (optionally) be provided inside square brackets. Note that the base must be a simple expression, and can not contain layout commands such as fractions or sub/superscripts:"
   ]
  },
  {
   "cell_type": "code",
   "execution_count": null,
   "metadata": {},
   "outputs": [],
   "source": [
    "plt.figure(figsize = (1, 1))\n",
    "x = 0.5\n",
    "for text in [r'$\\sqrt{2}$',\n",
    "             r'$\\sqrt[3]{x}$']:\n",
    "    plt.text(x = x, y = 0.5, s = text, fontsize = 18, ha = 'center')\n",
    "    x += 1.0\n",
    "plt.axis('off')\n",
    "plt.show()"
   ]
  },
  {
   "cell_type": "markdown",
   "metadata": {},
   "source": [
    "#### <font color=blue>3.5.8.6. Fonts</font>  \n",
    "The default font is italics for mathematical symbols. To change fonts, enclose the text (entire string or just a part of it) in a font command:"
   ]
  },
  {
   "cell_type": "code",
   "execution_count": null,
   "metadata": {},
   "outputs": [],
   "source": [
    "plt.figure(figsize = (1, 1))\n",
    "x = 0.5\n",
    "for text in [r'$s(t) = A\\sin(2 \\omega t)$',\n",
    "             r'$s(t) = \\mathrm{A}\\sin(2 \\omega t)$',\n",
    "             r'$\\mathrm{s(t) = A\\sin(2 \\omega t)}$',\n",
    "             r'$\\mathtt{s(t) = A\\sin(2 \\omega t)}$',\n",
    "             r'$\\mathcal{s(t) = A\\sin(2 \\omega t)}$']:\n",
    "    plt.text(x = x, y = 0.5, s = text, fontsize = 18, ha = 'center')\n",
    "    x += 3.0\n",
    "x = 0.5\n",
    "for text in [r'$\\mathbb{s(t) = A\\sin(2 \\omega t)}$',\n",
    "             r'$\\mathrm{\\mathbb{s(t) = A\\sin(2 \\omega t)}}$',\n",
    "             r'$\\mathfrak{s(t) = A\\sin(2 \\omega t)}$',\n",
    "             r'$\\mathsf{s(t) = A\\sin(2 \\omega t)}$',\n",
    "             r'$\\mathrm{\\mathsf{s(t) = A\\sin(2 \\omega t)}}$']:\n",
    "    plt.text(x = x, y = -0.5, s = text, fontsize = 18, ha = 'center')\n",
    "    x += 3.0    \n",
    "plt.axis('off')\n",
    "plt.show()"
   ]
  },
  {
   "cell_type": "markdown",
   "metadata": {},
   "source": [
    "<font color=red><div style=\"text-align: right\"> **Documentation for**    \n",
    "[**`matplotlib.mathtext`**](https://matplotlib.org/users/mathtext.html)</div></font>"
   ]
  },
  {
   "cell_type": "markdown",
   "metadata": {},
   "source": [
    "[Back to top](#back_to_top)"
   ]
  }
 ],
 "metadata": {
  "kernelspec": {
   "display_name": "Python 3 (ipykernel)",
   "language": "python",
   "name": "python3"
  },
  "language_info": {
   "codemirror_mode": {
    "name": "ipython",
    "version": 3
   },
   "file_extension": ".py",
   "mimetype": "text/x-python",
   "name": "python",
   "nbconvert_exporter": "python",
   "pygments_lexer": "ipython3",
   "version": "3.8.10"
  }
 },
 "nbformat": 4,
 "nbformat_minor": 2
}
