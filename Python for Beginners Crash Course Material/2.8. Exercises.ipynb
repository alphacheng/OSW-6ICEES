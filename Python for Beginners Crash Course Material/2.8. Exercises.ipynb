{
 "cells": [
  {
   "cell_type": "markdown",
   "metadata": {},
   "source": [
    "<a id='back_to_top'></a>"
   ]
  },
  {
   "cell_type": "markdown",
   "metadata": {},
   "source": [
    "<img src='img/_logo.JPG' alt='Drawing' style='width:2000px;'/>"
   ]
  },
  {
   "cell_type": "markdown",
   "metadata": {},
   "source": [
    "# <font color=blue>2. Getting Started</font>\n",
    "## <font color=blue>2.9. Exercises</font>\n",
    "### <font color=blue>Exercise 1</font> \n",
    "Create a program that asks the user to enter their name and age. Print out a message addressed to them with how many years they are expected to have left (assume that the average life expectancy is 81 years).\n",
    "<br>\n",
    "<font color=green><div style=\"text-align: center\">**Input example**</div></font>\n",
    "<div style=\"text-align: center\">**`name`**: 'John'</div>\n",
    "<div style=\"text-align: center\">**`age`**: 25</div>\n",
    "<br>\n",
    "<font color=green><div style=\"text-align: center\">**Operation**</div></font>\n",
    "<div style=\"text-align: center\">**`x`**: calculate years remaining</div>\n",
    "<br>\n",
    "<font color=green><div style=\"text-align: center\">**Output example**</div></font>\n",
    "<div style=\"text-align: center\">'Congratulations **`name`**, you likely have **`x`** years left to live!'</div>"
   ]
  },
  {
   "cell_type": "code",
   "execution_count": null,
   "metadata": {},
   "outputs": [],
   "source": []
  },
  {
   "cell_type": "markdown",
   "metadata": {},
   "source": [
    "### <font color=blue>Exercise 2</font> \n",
    "Create a program that asks the user for an integer number. Depending on whether the number is even or odd, print out an appropriate message to the user. Make sure to report an error back to the user if anything other that an integer (e.g. float) number is provided.\n",
    "<br>\n",
    "<font color=green><div style=\"text-align: center\">**Input example**</div></font>\n",
    "<div style=\"text-align: center\">**`number`**: 10</div>\n",
    "<br>\n",
    "<font color=green><div style=\"text-align: center\">**Operation**</div></font>\n",
    "<div style=\"text-align: center\">**`x`**: assess if **`number`** is even or odd</div>\n",
    "<br>\n",
    "<font color=green><div style=\"text-align: center\">**Output example**</div></font>\n",
    "<div style=\"text-align: center\">(if integer input) 'You picked an **`x`** number.'</div>\n",
    "<div style=\"text-align: center\">(if non-integer input) 'ERROR: Please input an integer number.'</div>"
   ]
  },
  {
   "cell_type": "code",
   "execution_count": null,
   "metadata": {},
   "outputs": [],
   "source": []
  },
  {
   "cell_type": "markdown",
   "metadata": {},
   "source": [
    "### <font color=blue>Exercise 3</font> \n",
    "Create a program that asks the user for a list of numbers (integers or floats). Next, ask the user for a threshold number, to which the program will return how many and which numbers of the list are above the threshold. Be sure to return the list of numbers above the limit in a sorted manner.\n",
    "<br>\n",
    "<font color=green><div style=\"text-align: center\">**Input example**</div></font>\n",
    "<div style=\"text-align: center\">**`list`**: [20.3, 10, 40] </div>\n",
    "<div style=\"text-align: center\">**`threshold`**: 15.5 </div>\n",
    "<br>\n",
    "<font color=green><div style=\"text-align: center\">**Operation**</div></font>\n",
    "<div style=\"text-align: center\">**`x`**: sorted list of numbers above the **`threshold`**</div>\n",
    "<div style=\"text-align: center\">**`y`**: how many numbers above the **`threshold`** (i.e. length of **`x`**)</div>\n",
    "<br>\n",
    "<font color=green><div style=\"text-align: center\">**Output example**</div></font>\n",
    "<div style=\"text-align: center\">'There are **`y`** numbers above the threshold: **`x`**'</div>"
   ]
  },
  {
   "cell_type": "code",
   "execution_count": null,
   "metadata": {},
   "outputs": [],
   "source": []
  },
  {
   "cell_type": "markdown",
   "metadata": {},
   "source": [
    "### <font color=blue>Exercise 4</font> \n",
    "Create a program that asks the user for two lists of numbers (integers or floats). Return a list that contains only the elements that are common between the lists (without duplicates), as well as the number of these common elements. Make sure your program works on two lists of different sizes.\n",
    "<br>\n",
    "<font color=green><div style=\"text-align: center\">**Input example**</div></font>\n",
    "<div style=\"text-align: center\">**`list1`**: [1, 5.1, 3, 10, 20.5] </div>\n",
    "<div style=\"text-align: center\">**`list2`**: [2.3, 45.8, 1] </div>\n",
    "<br>\n",
    "<font color=green><div style=\"text-align: center\">**Operation**</div></font>\n",
    "<div style=\"text-align: center\">**`x`**: list of numbers that are common between **`list1`** and **`list2`**</div>\n",
    "<div style=\"text-align: center\">**`y`**: how many common numbers (i.e. length of **`x`**)</div>\n",
    "<br>\n",
    "<font color=green><div style=\"text-align: center\">**Output example**</div></font>\n",
    "<div style=\"text-align: center\">'There are **`y`** common values between the lists: **`x`**'</div>"
   ]
  },
  {
   "cell_type": "code",
   "execution_count": null,
   "metadata": {},
   "outputs": [],
   "source": []
  },
  {
   "cell_type": "markdown",
   "metadata": {},
   "source": [
    "### <font color=blue>Exercise 5</font> \n",
    "Create a program that asks the user for  word, printing if this word is a palindrome (i.e. word which reads the same backwards).\n",
    "<br>\n",
    "<font color=green><div style=\"text-align: center\">**Input example**</div></font>\n",
    "<div style=\"text-align: center\">**`word`**: 'stop' </div>\n",
    "<br>\n",
    "<font color=green><div style=\"text-align: center\">**Operation**</div></font>\n",
    "<div style=\"text-align: center\">**`x`**: assess if **`word`** is a palindrome</div>\n",
    "<br>\n",
    "<font color=green><div style=\"text-align: center\">**Output example**</div></font>\n",
    "<div style=\"text-align: center\">(if palindrome input) '**`word`** is a palindrome.'</div>\n",
    "<div style=\"text-align: center\">(if non-palindrome input) '**`word`** is not a palindrome.'</div>"
   ]
  },
  {
   "cell_type": "code",
   "execution_count": null,
   "metadata": {},
   "outputs": [],
   "source": []
  },
  {
   "cell_type": "markdown",
   "metadata": {},
   "source": [
    "### <font color=blue>Exercise 6</font> \n",
    "Write a program which can compute and print the factorial of a given number. Make sure to force the user to input an integer, printing an error message if that is not the case. \n",
    "<br>\n",
    "<font color=green><div style=\"text-align: center\">**Input example**</div></font>\n",
    "<div style=\"text-align: center\">**`number`**: 5 </div>\n",
    "<br>\n",
    "<font color=green><div style=\"text-align: center\">**Operation**</div></font>\n",
    "<div style=\"text-align: center\">**`x`**: calculate the factorial of **`number`**</div>\n",
    "<br>\n",
    "<font color=green><div style=\"text-align: center\">**Output example**</div></font>\n",
    "<div style=\"text-align: center\">(if integer input) 'The factorial of **`number`** is **`x`**.'</div>\n",
    "<div style=\"text-align: center\">(if non-integer input) 'ERROR: Please input an integer number.'</div>"
   ]
  },
  {
   "cell_type": "code",
   "execution_count": null,
   "metadata": {},
   "outputs": [],
   "source": []
  },
  {
   "cell_type": "markdown",
   "metadata": {},
   "source": [
    "### <font color=blue>Exercise 7</font> \n",
    "With a given integer number n, write a program to generate and print out a dictionary that contains `(i: i*i)` such that i is an integral number between 1 and n (both included). Make sure to force the user to input an integer, printing an error message if that is not the case. \n",
    "<br>\n",
    "<font color=green><div style=\"text-align: center\">**Input example**</div></font>\n",
    "<div style=\"text-align: center\">**`number`**: 5 </div>\n",
    "<br>\n",
    "<font color=green><div style=\"text-align: center\">**Operation**</div></font>\n",
    "<div style=\"text-align: center\">**`x`**: create a dictionary with keys between 1 and **`number`** (included), with the respective value as the squared key</div>\n",
    "<br>\n",
    "<font color=green><div style=\"text-align: center\">**Output example**</div></font>\n",
    "<div style=\"text-align: center\">(if integer input) 'Your dictionary is: **`x`**'</div>\n",
    "<div style=\"text-align: center\">(if non-integer input) 'ERROR: Please input an integer number.'</div>"
   ]
  },
  {
   "cell_type": "code",
   "execution_count": null,
   "metadata": {},
   "outputs": [],
   "source": []
  },
  {
   "cell_type": "markdown",
   "metadata": {},
   "source": [
    "### <font color=blue>Exercise 8</font> \n",
    "Consider the following database (dictionary format) of European I-shape (IPE) steel sections. \n",
    "\n",
    "`profiles = {'IPE80': {'G [kg/m]': 6.0, 'A [cm2]': 7.64, 'Iy [cm4]': 80.1, 'iy [cm]': 3.24}, 'IPE100': {'G [kg/m]': 8.1, 'A [cm2]': 10.3, 'Iy [cm4]': 171, 'iy [cm]': 4.07}, 'IPE120': {'G [kg/m]': 10.4, 'A [cm2]': 13.2, 'Iy [cm4]': 318, 'iy [cm]': 4.90}, 'IPE140': {'G [kg/m]': 12.9, 'A [cm2]': 16.4, 'Iy [cm4]': 541, 'iy [cm]': 5.74}, 'IPE160': {'G [kg/m]': 15.8,  'A [cm2]': 20.1, 'Iy [cm4]': 869, 'iy [cm]': 6.58}, 'IPE180': {'G [kg/m]': 18.8,  'A [cm2]': 23.9, 'Iy [cm4]': 1317, 'iy [cm]': 7.42}, 'IPE200': {'G [kg/m]': 22.4, 'A [cm2]': 28.5, 'Iy [cm4]': 1943, 'iy [cm]': 8.26}, 'IPE220': {'G [kg/m]': 26.2, 'A [cm2]': 33.4, 'Iy [cm4]': 2772, 'iy [cm]': 9.11}, 'IPE240': {'G [kg/m]': 30.7, 'A [cm2]': 39.1, 'Iy [cm4]': 3892, 'iy [cm]': 9.97}, 'IPE270': {'G [kg/m]': 36.1, 'A [cm2]': 45.9, 'Iy [cm4]': 5790, 'iy [cm]': 11.2}, 'IPE300': {'G [kg/m]': 42.2, 'A [cm2]': 53.8, 'Iy [cm4]': 8356, 'iy [cm]': 12.5}, 'IPE330': {'G [kg/m]': 49.1, 'A [cm2]': 62.6, 'Iy [cm4]': 11770, 'iy [cm]': 13.7}, 'IPE360': {'G [kg/m]': 57.1, 'A [cm2]': 72.7, 'Iy [cm4]': 16270, 'iy [cm]': 15.0}, 'IPE400': {'G [kg/m]': 66.3, 'A [cm2]': 84.5, 'Iy [cm4]': 23130, 'iy [cm]': 16.6}, 'IPE450': {'G [kg/m]': 77.6, 'A [cm2]': 98.8, 'Iy [cm4]': 33740, 'iy [cm]': 18.5}, 'IPE500': {'G [kg/m]': 90.7, 'A [cm2]': 116, 'Iy [cm4]': 48200, 'iy [cm]': 20.4}, 'IPE550': {'G [kg/m]': 106, 'A [cm2]': 134, 'Iy [cm4]': 67120, 'iy [cm]': 22.4}, 'IPE600': {'G [kg/m]': 122, 'A [cm2]': 156, 'Iy [cm4]': 92080, 'iy [cm]': 24.3}}`\n",
    "\n",
    "Write a program that takes a list of IPE sections, printing out the database properties of each profile of the input list, if found in the database. Make sure to force the user to input as list, printing an error message if that is not the case.\n",
    "<br>\n",
    "<font color=green><div style=\"text-align: center\">**Input example**</div></font>\n",
    "<div style=\"text-align: center\">**`IPEs`**: ['IPE100', 'IPE500', 'IPE360'] </div>\n",
    "<br>\n",
    "<font color=green><div style=\"text-align: center\">**Operation**</div></font>\n",
    "<div style=\"text-align: center\">**`x`**: properties of each IPE section in **`IPEs`**</div>\n",
    "<br>\n",
    "<font color=green><div style=\"text-align: center\">**Output example**</div></font>\n",
    "<div style=\"text-align: center\">(if list input and section in database) '**`x`**: G = ...kg/m, A = ...cm2, Iy = ...cm4, iy = ...cm'</div>\n",
    "<div style=\"text-align: center\">(if list input and section not in database) '**`x`**: Not found in the database.'</div>\n",
    "<div style=\"text-align: center\">(if non-list input) 'ERROR: Please input a list of sections.'</div>"
   ]
  },
  {
   "cell_type": "code",
   "execution_count": null,
   "metadata": {},
   "outputs": [],
   "source": []
  },
  {
   "cell_type": "markdown",
   "metadata": {},
   "source": [
    "[Back to top](#back_to_top)"
   ]
  }
 ],
 "metadata": {
  "kernelspec": {
   "display_name": "Python 3 (ipykernel)",
   "language": "python",
   "name": "python3"
  },
  "language_info": {
   "codemirror_mode": {
    "name": "ipython",
    "version": 3
   },
   "file_extension": ".py",
   "mimetype": "text/x-python",
   "name": "python",
   "nbconvert_exporter": "python",
   "pygments_lexer": "ipython3",
   "version": "3.8.10"
  }
 },
 "nbformat": 4,
 "nbformat_minor": 2
}
