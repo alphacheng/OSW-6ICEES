{
 "cells": [
  {
   "cell_type": "markdown",
   "metadata": {},
   "source": [
    "<a id='back_to_top'></a>"
   ]
  },
  {
   "cell_type": "markdown",
   "metadata": {},
   "source": [
    "<img src='img/_logo.JPG' alt='Drawing' style='width:2000px;'/>"
   ]
  },
  {
   "cell_type": "markdown",
   "metadata": {},
   "source": [
    "# <font color=blue>2. Getting Started</font>\n",
    "## <font color=blue>2.4. Control Flow and Loops</font>\n",
    "### <font color=blue>2.4.1. Conditional statements</font>\n",
    "The Python syntax for conditional execution of code uses the keywords `if`, `elif` (else if) and `else`. These conditional statements control the flow of the algorithmn, and, characteristically of Python, program blocks are defined by their indentation level. It's important to note that within the same flow hierarchy, the first match exits the flow. Furthermore, in the absence of a general `else` statement, all the conditions specified before with `if` and `elif` should be comprehensive, since if no match is found, an error will be raised.\n",
    "\n",
    "Example:"
   ]
  },
  {
   "cell_type": "code",
   "execution_count": null,
   "metadata": {},
   "outputs": [],
   "source": [
    "member1 = 'beam'\n",
    "member2 = 'column'\n",
    "\n",
    "if member1 == 'beam':\n",
    "    print('The code reached checkpoint 1')\n",
    "    if member2 == 'beam':\n",
    "        print('The code reached checkpoint 1.1')\n",
    "        print('Member 1 and 2 are beams')\n",
    "    elif member2 == 'column':\n",
    "        print('The code reached checkpoint 1.2')\n",
    "        print('Member 1 is a beam and member 2 is a column')     \n",
    "# This next block of elif will always be neglected\n",
    "# This is because the condition is the same as the one before (member1 == 'beam')\n",
    "# Thus, if member 1 is 'beam', exit was performed already\n",
    "elif member1 == 'beam':\n",
    "    print('If this is being printed, this guide is not that wll constructed!')\n",
    "elif member1 == 'column':\n",
    "    print('The code reached checkpoint 2')\n",
    "    if member2 == 'column':\n",
    "        print('The code reached checkpoint 2.1')\n",
    "        print('Member 1 and 2 are columns')\n",
    "    elif member2 == 'beam':\n",
    "        print('The code reached checkpoint 2.2')\n",
    "        print('Member 1 is a column and member 2 is a beam')\n",
    "# This next block of else guarantees that cases not covered before are still considered\n",
    "# If it does not exist, anything other than combinations of 'beam' and 'column' matches will raise an error\n",
    "else:\n",
    "    print('The code reached checkpoint 3')\n",
    "    print('Member 1 is a ' + str(member1) + ' and member 2 is a ' + str(member2))"
   ]
  },
  {
   "cell_type": "markdown",
   "metadata": {},
   "source": [
    "### <font color=blue>2.4.2. for loops</font> \n",
    "In Python, loops can be programmed in a number of different ways. The most common is the `for` loop, which is used together with iterable objects, such as lists.\n",
    "\n",
    "Example:"
   ]
  },
  {
   "cell_type": "code",
   "execution_count": null,
   "metadata": {},
   "outputs": [],
   "source": [
    "list_numbers = [1, 2, 3]\n",
    "# With the basic approach\n",
    "for i in list_numbers:\n",
    "    print(i)"
   ]
  },
  {
   "cell_type": "code",
   "execution_count": null,
   "metadata": {},
   "outputs": [],
   "source": [
    "# Looping through the indexes of the list\n",
    "for idx in range(len(list_numbers)):\n",
    "    print(idx, list_numbers[idx])"
   ]
  },
  {
   "cell_type": "code",
   "execution_count": null,
   "metadata": {},
   "outputs": [],
   "source": [
    "# Also looping through the indexes of the list\n",
    "for idx, x in enumerate(list_numbers):\n",
    "    print(idx, x) # list_numbers[idx] also works here"
   ]
  },
  {
   "cell_type": "markdown",
   "metadata": {},
   "source": [
    "Conveniently, lists can be created using `for` loops:"
   ]
  },
  {
   "cell_type": "code",
   "execution_count": null,
   "metadata": {},
   "outputs": [],
   "source": [
    "magic_list = [1, 2, 3]\n",
    "l = []\n",
    "for x in magic_list:\n",
    "    l.append(x**2)\n",
    "print(magic_list, l)    "
   ]
  },
  {
   "cell_type": "markdown",
   "metadata": {},
   "source": [
    "<font color=red><div style=\"text-align: right\"> **Documentation for**  \n",
    "[**`for`**](https://wiki.python.org/moin/ForLoop)  \n",
    "[**`range`**](https://docs.python.org/3/library/functions.html#func-range)  \n",
    "[**`len`**](https://docs.python.org/3/library/functions.html#len)  \n",
    "[**`enumerate`**](https://docs.python.org/3/library/functions.html#enumerate)</div></font>"
   ]
  },
  {
   "cell_type": "markdown",
   "metadata": {},
   "source": [
    "### <font color=blue>2.4.3. while loops</font> "
   ]
  },
  {
   "cell_type": "code",
   "execution_count": null,
   "metadata": {},
   "outputs": [],
   "source": [
    "i = 0\n",
    "while i < 5:\n",
    "    print(i)\n",
    "    i += 1\n",
    "print('done')"
   ]
  },
  {
   "cell_type": "markdown",
   "metadata": {},
   "source": [
    "Note that the difference in indentation in the `print` statement makes it not part of the `while` loop."
   ]
  },
  {
   "cell_type": "markdown",
   "metadata": {},
   "source": [
    "<font color=red><div style=\"text-align: right\"> **Documentation for**  \n",
    "[**`while`**](https://wiki.python.org/moin/WhileLoop)</div></font>"
   ]
  },
  {
   "cell_type": "markdown",
   "metadata": {},
   "source": [
    "[Back to top](#back_to_top)"
   ]
  }
 ],
 "metadata": {
  "kernelspec": {
   "display_name": "Python 3 (ipykernel)",
   "language": "python",
   "name": "python3"
  },
  "language_info": {
   "codemirror_mode": {
    "name": "ipython",
    "version": 3
   },
   "file_extension": ".py",
   "mimetype": "text/x-python",
   "name": "python",
   "nbconvert_exporter": "python",
   "pygments_lexer": "ipython3",
   "version": "3.8.10"
  }
 },
 "nbformat": 4,
 "nbformat_minor": 2
}
