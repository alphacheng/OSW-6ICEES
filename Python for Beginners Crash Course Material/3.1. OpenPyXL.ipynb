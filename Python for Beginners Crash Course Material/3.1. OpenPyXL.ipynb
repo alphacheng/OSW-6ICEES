{
 "cells": [
  {
   "cell_type": "markdown",
   "metadata": {},
   "source": [
    "<a id='back_to_top'></a>"
   ]
  },
  {
   "cell_type": "markdown",
   "metadata": {},
   "source": [
    "<img src='img/_logo.JPG' alt='Drawing' style='width:2000px;'/>"
   ]
  },
  {
   "cell_type": "markdown",
   "metadata": {},
   "source": [
    "# <font color=blue>3. Libraries</font>\n",
    "## <font color=blue>3.3. OpenPyXL</font>\n",
    "| | |\n",
    "|-|-|\n",
    "| | |\n",
    "| <img src='https://cdn-images-1.medium.com/max/640/1*AitvNCyWGVh1WaTEzevsDA.png' alt='Drawing' style='height:100px;'/> |\n",
    "| | | |\n",
    "Excel workbooks are very powerful when it comes to working with spreadsheets, tables, charts, etc. However, repetitive tasks that repeatadly emply the same worksheet or workbook can be quite inefficient. Hence, a the advantage of using an external framework (e.g. Python's OpenPyXL) to automate such processes is immensely valuable.\n",
    "\n",
    "To use `openpyxl` you need to import the module, using for example:"
   ]
  },
  {
   "cell_type": "code",
   "execution_count": null,
   "metadata": {},
   "outputs": [],
   "source": [
    "import openpyxl"
   ]
  },
  {
   "cell_type": "markdown",
   "metadata": {},
   "source": [
    "<font color=red><div style=\"text-align: right\"> **Documentation for**  \n",
    "[**`openpyxl`**](https://openpyxl.readthedocs.io/en/stable/)</div></font>"
   ]
  },
  {
   "cell_type": "markdown",
   "metadata": {},
   "source": [
    "### <font color=blue>3.3.1. Opening an Excel workbook</font> \n",
    "The method we need in order to open the Excel document is `load_workbook()`. If you are wondering what is meant by a workbook, it is simply the Excel spreadsheet file or document. The script that we thus need to open an Excel document is as follows:"
   ]
  },
  {
   "cell_type": "code",
   "execution_count": null,
   "metadata": {},
   "outputs": [],
   "source": [
    "wb = openpyxl.load_workbook('tools\\EC8 Response Spectra.xlsx', data_only = True)"
   ]
  },
  {
   "cell_type": "markdown",
   "metadata": {},
   "source": [
    "### <font color=blue>3.3.2. Sheet names</font>\n",
    "Sheets in Excel consist of columns (with letters starting from A, B, C, etc.) and rows (starting from 1, 2, 3, etc.). In order to check what sheets we have in our Excel document, we use the `get_sheet_names()` method as follows:"
   ]
  },
  {
   "cell_type": "code",
   "execution_count": null,
   "metadata": {},
   "outputs": [],
   "source": [
    "sheet_names = wb.get_sheet_names()\n",
    "print(sheet_names)"
   ]
  },
  {
   "cell_type": "markdown",
   "metadata": {},
   "source": [
    "If you have multiple sheets, you can access a specific sheet by its name using the method `get_sheet_by_name()`:"
   ]
  },
  {
   "cell_type": "code",
   "execution_count": null,
   "metadata": {},
   "outputs": [],
   "source": [
    "ws = wb.get_sheet_by_name('EC8 Response Spectra')"
   ]
  },
  {
   "cell_type": "markdown",
   "metadata": {},
   "source": [
    "### <font color=blue>3.3.3. Accessing cells</font> \n",
    "Now that we have learned how to open an Excel file and get a specific sheet, let's see how easy it is to access a cell in that sheet. All you have to do is retrieve that sheet, and then determine the location (coordinate) of the cell. Let's say that we want to access column E row 8 in the Excel document we have, that is E8. This can be implemented as follows:"
   ]
  },
  {
   "cell_type": "code",
   "execution_count": null,
   "metadata": {},
   "outputs": [],
   "source": [
    "cell_value =  ws['E8'].value\n",
    "print('Cell E8 is: ' + str(cell_value))"
   ]
  },
  {
   "cell_type": "markdown",
   "metadata": {},
   "source": [
    "We can also use a row-column notation. For instance, if we want to access the same cell (E8), we type the eighth line and fifth column (notice that Python's default indexing starting at 0 is not followed in `openpyxl`):"
   ]
  },
  {
   "cell_type": "code",
   "execution_count": null,
   "metadata": {},
   "outputs": [],
   "source": [
    "cell_value = ws.cell(row = 8, column = 5).value\n",
    "print('Cell E8 (fifth column, eighth row) is: ' + str(cell_value))"
   ]
  },
  {
   "cell_type": "markdown",
   "metadata": {},
   "source": [
    "### <font color=blue>3.3.4. Accessing a range of cells</font> \n",
    "What if you were interested in accessing a range of cells rather than only one cell? Let's say we want to access the cells from D29 to D60:"
   ]
  },
  {
   "cell_type": "code",
   "execution_count": null,
   "metadata": {},
   "outputs": [],
   "source": [
    "range_value = [ws.cell(row = i, column = 4).value for i in range(29, 60)]\n",
    "print('Range D29:D60 is: ' + str(range_value))"
   ]
  },
  {
   "cell_type": "markdown",
   "metadata": {},
   "source": [
    "### <font color=blue>3.3.5. Modifying cell values and retrieving internal output</font>  \n",
    "Oftentimes, one may want to modify a cell (or range of cells) of an existing Excel worksheet, with interest in how a specific output cell is is changed, in accordance to the internal algorithms defined in the sheet (especially for complex workbooks with VBA coding behind it, in which replicating the procedures in Python may be time-consuming).\n",
    "\n",
    "In the following, a procedure to drive Excel files (even with macros), from Python is detailed:"
   ]
  },
  {
   "cell_type": "code",
   "execution_count": null,
   "metadata": {},
   "outputs": [],
   "source": [
    "# Relevant imports\n",
    "import os\n",
    "import win32com.client as win32\n",
    "\n",
    "# The path to the location of folder that contains the Excel file\n",
    "# Notice the use of \\\\ between each level, and at the end of the path string\n",
    "path = 'C:\\\\Users\\\\Antonio\\\\Desktop\\\\Curso Python\\\\tools\\\\'\n",
    "\n",
    "# Delete temporary Excel file (in case of leftover files)\n",
    "try:\n",
    "    os.remove(path + 'temp.xlsx')\n",
    "except OSError:\n",
    "    pass\n",
    "\n",
    "# Open Excel in memory\n",
    "excel = win32.gencache.EnsureDispatch('Excel.Application')\n",
    "\n",
    "# Open the Excel workbook and worksheet\n",
    "wb = excel.Workbooks.Open(path + 'EC8 Response Spectra.xlsx')\n",
    "ws = wb.Worksheets('EC8 Response Spectra')\n",
    "\n",
    "# Modify the worksheet cells (in this case, the behaviur factor q)\n",
    "new_q = 5\n",
    "ws.Cells(8, 5).Value = new_q\n",
    "\n",
    "# Save modified workbook to temporary Excel file\n",
    "wb.SaveAs(path + 'temp.xlsx')\n",
    "\n",
    "# Quit Excel in memory\n",
    "excel.Application.Quit()\n",
    "\n",
    "# Load temporary Excel file, and retrieve output cell value\n",
    "nwb = openpyxl.load_workbook(path + 'temp.xlsx', data_only = True)\n",
    "nws = nwb.get_sheet_by_name('EC8 Response Spectra')\n",
    "cell_value = nws.cell(row = 24, column = 5).value\n",
    "\n",
    "# Delete temporary Excel file\n",
    "try:\n",
    "    os.remove(path + 'temp.xlsx')\n",
    "except OSError:\n",
    "    pass\n",
    "\n",
    "print('Sd(T1) for q = %d: %.4f m/s-2.' % (new_q, cell_value))"
   ]
  },
  {
   "cell_type": "markdown",
   "metadata": {},
   "source": [
    "[Back to top](#back_to_top)"
   ]
  }
 ],
 "metadata": {
  "kernelspec": {
   "display_name": "Python 3 (ipykernel)",
   "language": "python",
   "name": "python3"
  },
  "language_info": {
   "codemirror_mode": {
    "name": "ipython",
    "version": 3
   },
   "file_extension": ".py",
   "mimetype": "text/x-python",
   "name": "python",
   "nbconvert_exporter": "python",
   "pygments_lexer": "ipython3",
   "version": "3.8.10"
  }
 },
 "nbformat": 4,
 "nbformat_minor": 2
}
