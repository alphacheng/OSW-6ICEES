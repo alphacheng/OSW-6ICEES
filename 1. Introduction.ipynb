{
 "cells": [
  {
   "cell_type": "markdown",
   "metadata": {},
   "source": [
    "<img src='img/logo.png' alt='Drawing' style='width:2000px;'/>\n",
    "<img src='img/OSW_Logo.png' alt='Drawing' align='center' style='width:750px;'/>"
   ]
  },
  {
   "cell_type": "markdown",
   "metadata": {},
   "source": [
    "# <font color=blue>About the Course Module</font>\n",
    "\n",
    "| Module | Contents |\n",
    "|:-|:-|\n",
    "|[1. Introduction](./1.%20Introduction.ipynb) |Motivation for and structure of the course.|\n",
    "|[2. Python for Beginners](./2.%20Python.ipynb)|Main characteristics of the Python language (e.g. syntax, data types, operators, control flow and loops, functions, libraries).|\n",
    "|[3. SDOF Systems](./3.%20SDOF.ipynb)|Nonlinear static and dynamic analyses of single degree of freedom (SDOF) systems using OpenSeesPy.|\n",
    "|[4. 2D Frame Systems](./4.%20Frame.ipynb)|Response spectrum, nonlinear static and dynamic analyses of a 2D frame structure using OpenSeesPy.|\n",
    "|[5. Hackathon](./5.%20Hackathon.ipynb)|Modeling exercise using OpenSeesPy by participants.|\n",
    "\n",
    "\n",
    "\n",
    "This module aims to familiarize individuals from a non-programming background, namely coming from a Civil Engineering environment to the use of *OpenSeesPy*. It is a *Python* library for the *OpenSees* (the Open System for Earthquake Engineering Simulation) finite element framework. The topics covered in this notebook aim to provide some level of guidance to beginners in the aforementioned context, whilst anchoring them as best as possible to the Earthquake Engineering domain.\n",
    "\n",
    "Most of the python teaching material (*2. Python.ipynb*) presented here was originally prepared in the context of **Python for Beginners** course taught in *Eucentre* by [**Dr. António Silva**](https://www.linkedin.com/in/antonio-jose-silva/), and was modified later, hence his efforts are acknowledged herein. *OpenSeesPy* teaching material (*3. SDOF.ipynb* and *4. Frame.ipynb*) was prepared by [**Volkan Özsaraç**](https://www.linkedin.com/in/volkan-%C3%B6zsara%C3%A7-90509890/) with the aim of introducing *OpenSeesPy* library to the Civil Engineering community in Turkey. Hackathon exercise (*5. Hackathon.ipynb*) was prepared by [**Dr. Ahmet Anıl DİNDAR**](https://www.linkedin.com/in/adindar/).\n",
    "\n",
    "Official link of the course module is https://github.com/volkanozsarac/OSW-6ICEES. Any further discussion after with regards to the course content still can be carried out upon completing the module. Please feel free to open an issue concerning your question [here](https://github.com/volkanozsarac/OSW-6ICEES/issues) or send an email to the course instructors:\n",
    "\n",
    "- volkan.ozsarac@iusspavia.it\n",
    "\n",
    "- adindar@gtu.edu.tr\n"
   ]
  },
  {
   "cell_type": "markdown",
   "metadata": {},
   "source": [
    "# <font color=blue>1. Introduction</font>\n",
    "## <font color=blue>1.1. Why to use Python version instead of Tcl?</font>\n",
    "\n",
    "\n",
    "The commands are exactly the same, and essentially, nothing is different between tcl and python interpreters aside from the syntax if we think in terms of OpenSees only. \n",
    "\n",
    "OpenSees Tcl syntax: ```command Argument 1 Argument 2 ... Argument n```. \n",
    "\n",
    "For example: ``` node 3 168.0 0.0``` \n",
    "\n",
    "OpenSees Python syntax: ```command(Argument 1, Argument 2, ..., Argument n)```. \n",
    "\n",
    "For example: ``` node(3, 168.0,  0.0)``` \n",
    "\n",
    "<font color=red><div style=\"text-align: right\"> **Documentation for**  \n",
    "[**`OpenSeesPy`**](https://openseespydoc.readthedocs.io/en/latest/index.html) \n",
    "[**`OpenSees`**](https://opensees.berkeley.edu/wiki/index.php/Main_Page)</div></font>\n",
    "\n",
    "Yet, let's see what [Minjie et al. 2018](https://www.sciencedirect.com/science/article/pii/S2352711017300584/) says:\n",
    "\n",
    "\"*While Tcl is very flexible and has many strengths in string processing, it is not well-suited to scientific computing applications. Tcl’s use of strings as the only native data type and the resulting cumbersome syntax for mathematical expressions create a steep learning curve for users of OpenSees, many of whom learned MATLAB or Python as undergraduate engineering students.*\"\n",
    "\n",
    "\"*From its early use by researchers in PEER, OpenSees has grown to a large international user base. In 2016, there were over 1.5 million page views at its website http://opensees.berkeley.edu. OpenSees has been used as the primary simulation tool for numerous graduate theses in the United States and at major universities worldwide. The applications of OpenSees are cross platform (Windows, Linux, and OS X), range from simple serial applications through complicated parallel applications, and are widely used on a range of computing resources, including desktops, Amazon clusters, and high performance computing platforms. The finite element modules of OpenSees can also serve as the analysis engine for developing fragility functions that quantify the resilience of connected systems of civil infrastructure to a wide variety of natural hazards. To address research questions around community resilience, the IN-CORE multi-hazard decision framework uses Python as its glue language for linking structural fragilities generated by OpenSees to investment decisions for bridges, buildings, and electrical transmission systems.*\"\n",
    "\n",
    "\"*With its extension to Python, users of OpenSees gain access to the plotting library Matplotlib, numerical libraries Numpy and Scipy, interactive server Jupyter, 3-D visualization library Mayavi, statistics library pandas, web development library Flask, among others. In addition, OpenSees can now use the Visualization Toolkit (VTK), an open source, permissively licensed, cross-platform toolkit for scientific data processing, visualization, and data analysis, as one of its post-processing tools.*\"\n",
    "\n",
    "Indeed, *Tcl* is a rather difficult programming language to learn, and actually who learns it nowadays? It has a limited use. Yet, *Python* is widely used by many, and has some obvious advantages. Let me show you one of those advantages. Let's perform post-process the the results of static and dynamic analyses for Cingoli Bridge ([Ozsarac et al. 2021](https://doi.org/10.1080/15732479.2021.1956551)):"
   ]
  },
  {
   "cell_type": "code",
   "execution_count": null,
   "metadata": {},
   "outputs": [],
   "source": [
    "from IPython.display import Video\n",
    "\n",
    "Video(\"img/NSPA.mp4\", embed=True, width=1024, height=576)"
   ]
  },
  {
   "cell_type": "code",
   "execution_count": null,
   "metadata": {},
   "outputs": [],
   "source": [
    "Video(\"img/NRHA.mp4\", embed=True, width=1024, height=576)"
   ]
  },
  {
   "cell_type": "markdown",
   "metadata": {},
   "source": [
    "## <font color=blue>1.2. About Python</font> \n",
    "- **Open source language**, conceived in the late 80s and first released in 1991.\n",
    "- [**2<sup>nd</sup> most popular language as of October 2021**](https://www.tiobe.com/tiobe-index/), being consistently ranked within the top 10 most popular programming languages since 2003.\n",
    "- **Widely used** high-level programming language (shorter development time, slower executable file).\n",
    "- Emphasizes **code readability and flexibility** (e.g. use of whitespace indentation).\n",
    "- Python is an **interpreted language** which means that Python directly executes the code line by line. This makes debugging easier.\n",
    "- Python is **dynamically typed** language. It automatically assigns the data type during execution (no need to define data types)\n",
    "- **Large and comprehensive library available** (e.g. pandas, Matplotlib, NumPy). Python package index (PyPi) consists of over 200,000 packages.\n",
    "- Python versions: **Python 2.x** and **Python 3.x** (the former is legacy; the latter, introduced in 2008, is the present and future of the language).\n",
    "\n",
    "## <font color=blue>1.3. Popular uses</font> \n",
    "| | | | | |\n",
    "|-|-|-|-|-|\n",
    "| | | | | |\n",
    "| <img src='https://www.underconsideration.com/brandnew/archives/youtube_2017_logo_old_elements.png' alt='Drawing' style='width:100px;'/> | <img src='https://upload.wikimedia.org/wikipedia/commons/thumb/2/23/Dropbox_Logo_01.svg/2000px-Dropbox_Logo_01.svg.png' alt='Drawing' style='width:100px;'/> | <img src='https://upload.wikimedia.org/wikipedia/commons/thumb/2/2f/Google_2015_logo.svg/1920px-Google_2015_logo.svg.png' alt='Drawing' style='width:100px;'/> | <img src='https://upload.wikimedia.org/wikipedia/commons/thumb/e/e7/Instagram_logo_2016.svg/800px-Instagram_logo_2016.svg.png' alt='Drawing' style='width:100px;'/> |\n",
    "| | | | | |\n",
    "| <img src='https://encrypted-tbn0.gstatic.com/images?q=tbn:ANd9GcTtY3Anony8Qf-J8V8FRGc6HpdXxCq1oxBU_fF0mG--vcPS4ISZyg' alt='Drawing' style='width:100px;'/> | <img src='https://logodownload.org/wp-content/uploads/2018/02/reddit-logo.png' alt='Drawing' style='width:100px;'/> | <img src='https://s3.amazonaws.com/freebiesupply/large/2x/quora-logo-transparent.png' alt='Drawing' style='width:100px;'/> | <img src='https://s3.amazonaws.com/cdn.freshdesk.com/data/helpdesk/attachments/production/4030082980/original/Bittorrent_7.2_Logo.png?1472494821' alt='Drawing' style='width:100px;'/> \n",
    "| | | | | | |\n",
    "\n",
    "## <font color=blue>1.4. Python References</font>\n",
    "- [The Python Tutorial](https://docs.python.org/3.8/tutorial/index.html) *by* Python Software Foundation\n",
    "- [Python Basic Tutorial](https://www.tutorialspoint.com/python/index.htm) *by* tutorialspoint\n",
    "- [Python for DS 101](https://notebooks.azure.com/rheartpython/libraries/PythonDS101) *by* Jeremy D. Jackson\n",
    "- [Scientific Python Lectures](https://github.com/jrjohansson/scientific-python-lectures) *by* Robert Johansson\n",
    "- [How to Work With Excel Documents Using Python](https://code.tutsplus.com/tutorials/how-to-work-with-excel-documents-using-python--cms-25698) *by* Abder-Rahman Ali\n",
    "- [Python pandas Q&A video series](https://github.com/justmarkham/pandas-videos) *by* Kevin Markham\n",
    "- [Matplotlib tutorial](http://www.labri.fr/perso/nrougier/teaching/matplotlib/matplotlib.html) *by* Nicolas P. Rougier\n",
    "- [Python Data Science Handbook](https://jakevdp.github.io/PythonDataScienceHandbook/) *by* Jake VanderPlas\n",
    "\n",
    "\n",
    "## <font color=blue>1.5. First steps</font> \n",
    "- The stable version Python is located [here](https://www.python.org/downloads/).\n",
    "- Python can be used in a development environment. For beginner level users one of the most popular software for development is [Spyder](https://www.spyder-ide.org/) (includes PyQT for development of Graphical User Interfaces, editor with syntax highlighting, Python console, etc). For MATLAB users who are willing to learn Python, Spyder is a perfect start.\n",
    "- Alternatively, one can make use of Python distributions, such as [Anaconda](https://www.anaconda.com/download/) (includes Spyder, jupyter - an open-source web application that allows to create and share live code, and a comprehensive set of libraries, etc).\n",
    "- Yet, many professional developers prefer to use [PyCharm](https://www.jetbrains.com/pycharm/) as a development environment.\n",
    "- Popular platforms such as [Colaboratory](https://research.google.com/colaboratory/faq.html) can also be used. It is a product from Google Research. Colab allows anybody to write and execute arbitrary python code through the browser, and is especially well suited to machine learning, data analysis and education. More technically, Colab is a hosted Jupyter notebook service that requires no setup to use, while providing free access to computing resources including GPUs.\n",
    "- Another alternative option to use [mybinder](https://mybinder.org/) which turns a Git repo into a collection of interactive jupyter notebooks. For example, if you are using the binder links provided in course module, the python envrionment has already been set for you, and notebooks are already available. \n",
    "\n",
    "## <font color=blue>1.6. Where to seek help</font> \n",
    "While coding remember this: most probably someone already had a similar issue, and they asked this somewhere. So it would be wise to search about your question with few basic keywords.\n",
    "\n",
    "| | | |\n",
    "|-|-|-|\n",
    "| | | |\n",
    "| <img src='https://upload.wikimedia.org/wikipedia/commons/thumb/2/2f/Google_2015_logo.svg/1920px-Google_2015_logo.svg.png' alt='Drawing' style='width:100px;'/> | <img src='https://cdn.sstatic.net/Sites/stackoverflow/company/img/logos/so/so-logo.png?v=9c558ec15d8a' alt='Drawing' style='width:100px;'/> | <img src='https://logos-world.net/wp-content/uploads/2020/11/GitHub-Emblem.png' alt='Drawing' style='width:100px;'/> |\n",
    "| | | |\n",
    "\n",
    "Lately, [OpenSees forum](https://opensees.berkeley.edu/community/index.php) has been quite active. If you would like to discuss any issue you have. You can share your code there to discuss your problem. Moreover, there is a very nice [blog](https://portwooddigital.com/) by Prof. Michael H. Scott from Oregon State Unversity. He is actively writing about use of OpenSees and typical issues you may have while performing numerical anaysis.\n",
    "\n",
    "## <font color=blue>1.7. Coder's life</font> \n",
    "\n",
    "If you have never coded before, get ready:\n",
    "\n",
    "| | | |\n",
    "|-|-|-|\n",
    "| | | |\n",
    "| <img src='https://i.pinimg.com/originals/17/5c/f2/175cf297fb7dfb28994dd60ffc433dbe.jpg' alt='Drawing' style='height:200px;'/> | <img src='https://i.pinimg.com/600x315/88/5b/7b/885b7b783181234c51ea17ec48a02506.jpg' alt='Drawing' style='height:200px;'/> | <img src='https://miro.medium.com/max/1400/1*maZKVLTM7q93Yh3k1zAn9Q.png' alt='Drawing' style='height:200px;'/> \n",
    "| | | | |"
   ]
  },
  {
   "cell_type": "markdown",
   "metadata": {},
   "source": [
    "[Jump to 2. Python for Beginners](./2.%20Python.ipynb)"
   ]
  }
 ],
 "metadata": {
  "kernelspec": {
   "display_name": "Python 3 (ipykernel)",
   "language": "python",
   "name": "python3"
  },
  "language_info": {
   "codemirror_mode": {
    "name": "ipython",
    "version": 3
   },
   "file_extension": ".py",
   "mimetype": "text/x-python",
   "name": "python",
   "nbconvert_exporter": "python",
   "pygments_lexer": "ipython3",
   "version": "3.8.10"
  },
  "latex_envs": {
   "LaTeX_envs_menu_present": true,
   "autoclose": false,
   "autocomplete": true,
   "bibliofile": "biblio.bib",
   "cite_by": "apalike",
   "current_citInitial": 1,
   "eqLabelWithNumbers": true,
   "eqNumInitial": 1,
   "hotkeys": {
    "equation": "Ctrl-E",
    "itemize": "Ctrl-I"
   },
   "labels_anchors": false,
   "latex_user_defs": false,
   "report_style_numbering": false,
   "user_envs_cfg": false
  }
 },
 "nbformat": 4,
 "nbformat_minor": 2
}
