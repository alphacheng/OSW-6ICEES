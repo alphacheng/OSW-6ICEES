{
 "cells": [
  {
   "cell_type": "markdown",
   "source": [
    "<img src='img/logo.png' alt='Drawing' style='width:2000px;'/>\r\n",
    "\r\n",
    "---\r\n",
    "\r\n",
    "# <font color=blue>5. Hackathon</font>\r\n",
    "## <font color=blue>5.1. What is hackathon?</font>\r\n",
    "<img src='https://d1ueyc5nx1it61.cloudfront.net/c1b15d4c16149160034.png' width=\"30%\">\r\n",
    "\r\n",
    "\r\n",
    "<font color=green> A **hackathon** (also known as a hack day, hackfest, datathon or codefest; a portmanteau of hacking marathon) is a design sprint-like event; often, in which computer programmers and others involved in software development, including graphic designers, interface designers, project managers, domain experts, and others collaborate intensively on software projects. </font>\r\n",
    "\r\n",
    "## <font color=blue>5.2. What is our challenge?</font>\r\n",
    "\r\n",
    "As a newbie in OpenSees(py), the best learning methodology is the practicing. You will practice a nice example of OpenSees modeling and Python programming. Please consider this hackathon not as challange but funny game to play. There is not any loser at the end.\r\n",
    "\r\n",
    "In this hackathon, please, complete the tasks given below;\r\n",
    "\r\n",
    "**Task 1.** Model the bridge pier in OpenSeesPy in Figure 1a. \r\n",
    "\r\n",
    "**Task 2.** Model the bridge pier in OpenSeesPy in the Figure.\r\n",
    "\r\n",
    "<img src='./img/aad_OSW-6ICEES-Hackathon.drawio.png' width=\"50%\">\r\n",
    "\r\n",
    "_Figure 1. Bridge pier model_\r\n",
    "\r\n",
    "<img src='./img/RSN126_GAZLI_GAZ090_SF_1.316.png' width=\"50%\">\r\n",
    "\r\n",
    "_Figure 2. Ground motion plot ( RSN126_GAZLI_GAZ090_SF_1.316.txt )_"
   ],
   "metadata": {}
  },
  {
   "cell_type": "markdown",
   "source": [],
   "metadata": {}
  }
 ],
 "metadata": {
  "kernelspec": {
   "display_name": "Python 3 (ipykernel)",
   "language": "python",
   "name": "python3"
  },
  "language_info": {
   "codemirror_mode": {
    "name": "ipython",
    "version": 3
   },
   "file_extension": ".py",
   "mimetype": "text/x-python",
   "name": "python",
   "nbconvert_exporter": "python",
   "pygments_lexer": "ipython3",
   "version": "3.8.10"
  },
  "latex_envs": {
   "LaTeX_envs_menu_present": true,
   "autoclose": false,
   "autocomplete": true,
   "bibliofile": "biblio.bib",
   "cite_by": "apalike",
   "current_citInitial": 1,
   "eqLabelWithNumbers": true,
   "eqNumInitial": 1,
   "hotkeys": {
    "equation": "Ctrl-E",
    "itemize": "Ctrl-I"
   },
   "labels_anchors": false,
   "latex_user_defs": false,
   "report_style_numbering": false,
   "user_envs_cfg": false
  }
 },
 "nbformat": 4,
 "nbformat_minor": 4
}