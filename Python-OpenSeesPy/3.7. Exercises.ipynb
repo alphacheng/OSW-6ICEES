{
 "cells": [
  {
   "cell_type": "markdown",
   "metadata": {},
   "source": [
    "<a id='back_to_top'></a>"
   ]
  },
  {
   "cell_type": "markdown",
   "metadata": {},
   "source": [
    "<img src='img/logo.png' alt='Drawing' style='width:2000px;'/>\n",
    "<img src='img/_logo.JPG' alt='Drawing' style='width:2000px;'/>"
   ]
  },
  {
   "cell_type": "markdown",
   "metadata": {},
   "source": [
    "# <font color=blue>3. Libraries</font>\n",
    "## <font color=blue>3.7. Exercises</font>"
   ]
  },
  {
   "cell_type": "markdown",
   "metadata": {
    "collapsed": true
   },
   "source": [
    "### <font color=blue>Exercise 1: Workbook manipulation</font>\n",
    "Making use of the *EC8 Response Spectra.xlsx* Excel workbook provided, perform a parametric study plotting the Period versus Elastic Spectral Acceleration (i.e. Elastic Response Spectra) curves, for seismic zones 1.1 to 1.6 of Type 1 seismic action. In simple terms, modify the locations based on the seismic zone you want, and plot the Elastic Response Spectra curves associated with each seismic zone. Generate the curves in a single plot.\n",
    "\n",
    "Here is an **example** of the output plots:\n",
    "<img src='img/1.png' alt='Drawing' style='width:500px;'/>\n",
    "\n",
    "Remember that the seismic zone is automatically defined within the Excel workbook based on the location provided as input. The following list of locations should cover all possible seismic zones: \n",
    "\n",
    "| Type 1.X | Location \n",
    "| :-: | :-: |\n",
    "| 1.1 | Aljezur |\n",
    "| 1.2 | Albufeira |\n",
    "| 1.3 | Alcoutim |\n",
    "| 1.4 | Alenquer |\n",
    "| 1.5 | Abrantes |\n",
    "| 1.6 | Almeida |\n",
    "\n",
    "The location is defined in cell 'E6' (row 6, column 5); Type 1 Elastic Response Spectra is calculated in cells B29:B60 (Period) and C29:C60 (Elastic Spectral Acceleration). Keep all remaining input variables with the default values (Importance Class: II; Ground Type: A; T1: 1.0; q: 4.0).\n",
    "\n",
    "(Note: The original Excel file should be opened -  `excel.Workbooks.Open` - each time you want to modify and save a temporary version of it)."
   ]
  },
  {
   "cell_type": "markdown",
   "metadata": {},
   "source": [
    "### <font color=blue>Exercise 2: Database filtering and data processing</font> \n",
    "Consider the *sections.txt* file containing a property database of European HEA, HEB, HEM and IPE steel sections, which looks like this:"
   ]
  },
  {
   "cell_type": "code",
   "execution_count": null,
   "metadata": {},
   "outputs": [],
   "source": [
    "import pandas as pd\n",
    "df = pd.read_csv('tools\\\\sections.txt', index_col = False)\n",
    "df.head()"
   ]
  },
  {
   "cell_type": "markdown",
   "metadata": {},
   "source": [
    "#### <font color=blue>2A</font> \n",
    "How many 'HEB' profiles have a cross-sectional area above 300cm<sup>2</sup>?"
   ]
  },
  {
   "cell_type": "code",
   "execution_count": null,
   "metadata": {},
   "outputs": [],
   "source": []
  },
  {
   "cell_type": "markdown",
   "metadata": {},
   "source": [
    "#### <font color=blue>2B</font>\n",
    "Which 'IPE' profiles weigh more than 100kg/m?"
   ]
  },
  {
   "cell_type": "code",
   "execution_count": null,
   "metadata": {},
   "outputs": [],
   "source": []
  },
  {
   "cell_type": "markdown",
   "metadata": {},
   "source": [
    "#### <font color=blue>2C</font>\n",
    "What's the lightest profile with a cross-sectional area above 300cm<sup>2</sup>?"
   ]
  },
  {
   "cell_type": "code",
   "execution_count": null,
   "metadata": {},
   "outputs": [],
   "source": []
  },
  {
   "cell_type": "markdown",
   "metadata": {},
   "source": [
    "#### <font color=blue>2D</font>\n",
    "Plot a scatter of cross-sectional area versus moment of inertia in y, with each steel section type being associated to different markers and colors.\n",
    "\n",
    "Here is an **example** of the output plots:\n",
    "\n",
    "<img src='img/2D.png' alt='Drawing' style='width:500px;'/>"
   ]
  },
  {
   "cell_type": "code",
   "execution_count": null,
   "metadata": {},
   "outputs": [],
   "source": []
  },
  {
   "cell_type": "markdown",
   "metadata": {},
   "source": [
    "#### <font color=blue>2E</font>\n",
    "Plot the relationship between the cross-sectional area of the different subtypes of HE profiles, in relation to the HEA base case (i.e. for each HE profile along X, plot in Y the increase in cross-sectional area of the HEB and HEM sections with the same nominal width). Do the same regarding the second-moment of inertia inertia in y. Put both plots as subplots of the same figure.\n",
    "\n",
    "Here is an **example** of the output plots:\n",
    "<img src='img/2E.png' alt='Drawing' style='width:500px;'/>"
   ]
  },
  {
   "cell_type": "code",
   "execution_count": null,
   "metadata": {},
   "outputs": [],
   "source": []
  },
  {
   "cell_type": "markdown",
   "metadata": {},
   "source": [
    "### <font color=blue>Exercise 3:  Database filtering and data processing</font> \n",
    "Consider the *imdb1001.xlsx* file containing a list of the top 1001 movies of IMDB until 2015, which looks like this:"
   ]
  },
  {
   "cell_type": "code",
   "execution_count": null,
   "metadata": {},
   "outputs": [],
   "source": [
    "import pandas as pd\n",
    "df = pd.read_excel('tools\\\\imdb1001.xlsx')\n",
    "df.head()"
   ]
  },
  {
   "cell_type": "markdown",
   "metadata": {},
   "source": [
    "#### <font color=blue>3A</font>\n",
    "What is the percentage of movies in the Top1001 that were released after (including) 1991?"
   ]
  },
  {
   "cell_type": "code",
   "execution_count": null,
   "metadata": {},
   "outputs": [],
   "source": []
  },
  {
   "cell_type": "markdown",
   "metadata": {},
   "source": [
    "#### <font color=blue>3B</font>\n",
    "What is the longest movie in the list?"
   ]
  },
  {
   "cell_type": "code",
   "execution_count": null,
   "metadata": {},
   "outputs": [],
   "source": []
  },
  {
   "cell_type": "markdown",
   "metadata": {},
   "source": [
    "#### <font color=blue>3C</font>\n",
    "Plot, along time, the minimum, mean and maximum of the ratings of movies released that year (use different linestyles and colors).\n",
    "\n",
    "Here is an **example** of the output plots:\n",
    "<img src='img/3C.png' alt='Drawing' style='width:500px;'/>"
   ]
  },
  {
   "cell_type": "code",
   "execution_count": null,
   "metadata": {},
   "outputs": [],
   "source": []
  },
  {
   "cell_type": "markdown",
   "metadata": {},
   "source": [
    "#### <font color=blue>3D</font>\n",
    "Plot the individual distribution of movie runtime along time, whilst also computing the amount of time it would take (weeks:days:hours:minutes) to watch them all consecutively.\n",
    "\n",
    "Here is an **example** of the output plots:\n",
    "<img src='img/3D.png' alt='Drawing' style='width:500px;'/>"
   ]
  },
  {
   "cell_type": "code",
   "execution_count": null,
   "metadata": {},
   "outputs": [],
   "source": []
  },
  {
   "cell_type": "markdown",
   "metadata": {},
   "source": [
    "#### <font color=blue>3E</font>\n",
    "Perform a 3D plot of year of release (X) versus runtime (Y) versus rating (Z).\n",
    "\n",
    "Here is an **example** of the output plots:\n",
    "<img src='img/3E.png' alt='Drawing' style='width:500px;'/>"
   ]
  },
  {
   "cell_type": "code",
   "execution_count": null,
   "metadata": {},
   "outputs": [],
   "source": []
  },
  {
   "cell_type": "markdown",
   "metadata": {},
   "source": [
    "### <font color=blue>Exercise 4: Database filtering and data processing</font> \n",
    "Consider the *SHAREver33raw_d8.csv* earthquake database provided, which includes an assortment of details of recorded earthquake events until 2006. The relevant database column you need is labelled 'year': "
   ]
  },
  {
   "cell_type": "code",
   "execution_count": null,
   "metadata": {},
   "outputs": [],
   "source": [
    "import pandas as pd\n",
    "df = pd.read_csv('tools\\\\SHAREver33raw_d8.csv')\n",
    "df.head()"
   ]
  },
  {
   "cell_type": "markdown",
   "metadata": {},
   "source": [
    "#### <font color=blue>4A</font>\n",
    "Analyse and plot the relationship between Year (X) vs. Magnitude (Y), with a scatter plot.\n",
    "\n",
    "Here is an **example** of the output plot:\n",
    "<img src='img/4A.png' alt='Drawing' style='width:500px;'/>\n",
    "\n",
    "Make use of the `pandas` module to read the database and extract the information to plot with `matplotlib`. Also, in the legend label of the catalogue (you may use label 'O' for *SHAREver33raw_d8.csv*), include the total number of recorded events in that specific database. "
   ]
  },
  {
   "cell_type": "code",
   "execution_count": null,
   "metadata": {},
   "outputs": [],
   "source": []
  },
  {
   "cell_type": "markdown",
   "metadata": {},
   "source": [
    "#### <font color=blue>4B</font>\n",
    "Compute the PDF and CDF (probability and cumulative density function, respectively) of the number of events across time. Assume bins of 50 years (each bin middle relates to the events 25 years before and after that year; be careful not to double acount events in bin edges), and put both curves in the same plot.\n",
    "\n",
    "Here is an **example** of the output plot:\n",
    "<img src='img/4B.png' alt='Drawing' style='width:500px;'/>"
   ]
  },
  {
   "cell_type": "code",
   "execution_count": null,
   "metadata": {},
   "outputs": [],
   "source": []
  },
  {
   "cell_type": "markdown",
   "metadata": {},
   "source": [
    "#### <font color=blue>4C</font>\n",
    "Compute a stacked histogram with the distributions of magnitude in each bin used in the previous question.\n",
    "\n",
    "Here is an **example** of the output plot:\n",
    "<img src='img/4C.png' alt='Drawing' style='width:500px;'/>"
   ]
  },
  {
   "cell_type": "code",
   "execution_count": null,
   "metadata": {},
   "outputs": [],
   "source": []
  },
  {
   "cell_type": "markdown",
   "metadata": {},
   "source": [
    "### <font color=blue>Exercise 5: Database filtering and data processing</font>\n",
    "Consider the *response_spectra.txt* file containing the Period vs. Spectral acceleration relationship of a set of 10 ground motion records, which looks like this:"
   ]
  },
  {
   "cell_type": "code",
   "execution_count": null,
   "metadata": {},
   "outputs": [],
   "source": [
    "import pandas as pd\n",
    "df = pd.read_csv('tools\\\\response_spectra.txt')\n",
    "df.head()"
   ]
  },
  {
   "cell_type": "markdown",
   "metadata": {},
   "source": [
    "Scaling each of the record spectra by a specific scaling factor (i.e. multiply all the spectral ordinates of that record by a given float number), calculate the average of the scaled spectra. Plot all the scaled spectra of the set of records, as well as the average spectrum. The scaling factors are as follows:\n",
    "\n",
    "| Record | Scaling factor     \n",
    "| :-: |:-:\n",
    "| 1-LomaPrieta | 0.97839\n",
    "| 2-WhittierNarrows-02 | 3.99999\n",
    "| 3-ImperialValley-06 | 2.85368\n",
    "| 4-DuzceTurkey | 0.3589\n",
    "| 5-Chi-ChiTaiwan | 3.56629\n",
    "| 6-VictoriaMexico | 3.12427\n",
    "| 7-Northridge-01 | 1.36256\n",
    "| 8-HectorMine | 2.79331\n",
    "| 9-Chi-ChiTaiwan-05 | 2.68739\n",
    "| 10-Chi-ChiTaiwan-06 | 2.15636\n",
    "Here is an **example** of the output plot:\n",
    "<img src='img/5.png' alt='Drawing' style='width:500px;'/>"
   ]
  },
  {
   "cell_type": "code",
   "execution_count": null,
   "metadata": {},
   "outputs": [],
   "source": []
  },
  {
   "cell_type": "markdown",
   "metadata": {},
   "source": [
    "### <font color=blue>Exercise 6: Database filtering and data processing</font>\n",
    "\n",
    "Consider the *pokemon.csv* database containing the characteristics of every Pokemon between generations 1 to 6, which looks like this:"
   ]
  },
  {
   "cell_type": "code",
   "execution_count": null,
   "metadata": {},
   "outputs": [],
   "source": [
    "import pandas as pd\n",
    "df = pd.read_csv('tools\\\\pokemon.csv', index_col = False)"
   ]
  },
  {
   "cell_type": "markdown",
   "metadata": {},
   "source": [
    "#### <font color=blue>6A</font>\n",
    "What's the total number of Pokémon in the database (ignoring duplicate individuals in field '#')?"
   ]
  },
  {
   "cell_type": "code",
   "execution_count": null,
   "metadata": {},
   "outputs": [],
   "source": []
  },
  {
   "cell_type": "markdown",
   "metadata": {},
   "source": [
    "#### <font color=blue>6B</font>\n",
    "What's the Pokémon with the highest 'Attack', and which 'Type 1' does it have (ignoring duplicates like before)?  "
   ]
  },
  {
   "cell_type": "code",
   "execution_count": null,
   "metadata": {},
   "outputs": [],
   "source": []
  },
  {
   "cell_type": "markdown",
   "metadata": {},
   "source": [
    "#### <font color=blue>6C</font>\n",
    "What's the Pokémon with the highest 'Total' from 'Generation' 1 (ignoring duplicates like before)? "
   ]
  },
  {
   "cell_type": "code",
   "execution_count": null,
   "metadata": {},
   "outputs": [],
   "source": []
  },
  {
   "cell_type": "markdown",
   "metadata": {},
   "source": [
    "#### <font color=blue>6D</font>\n",
    "Plot a bar representation of the distribution of number of Pokémon with a given 'Type 1' in each 'Generation'. Do a main subplot with stacked bars for every possible 'Type 1', stacking the total number of individuals of that 'Type 1' in each 'Generation'. Then, do other subplots for each of the 'Generation' values, where, with a bar for each 'Type 1', you represent how each 'Type 1' is distributed within that specific 'Generation' in terms of percentage of the total. Keep ignoring duplicates like before.\n",
    "\n",
    "Here is an **example** of the output plot:\n",
    "<img src='img/6D.png' alt='Drawing' style='width:500px;'/>"
   ]
  },
  {
   "cell_type": "code",
   "execution_count": null,
   "metadata": {},
   "outputs": [],
   "source": []
  },
  {
   "cell_type": "markdown",
   "metadata": {},
   "source": [
    "### <font color=blue>Exercise 7: Database filtering and data processing</font> \n",
    "Consider the *ufo.csv* dataset containing UFO sightings around the world between 1949 and 2013, which looks like this:"
   ]
  },
  {
   "cell_type": "code",
   "execution_count": null,
   "metadata": {},
   "outputs": [],
   "source": [
    "import pandas as pd\n",
    "df = pd.read_csv('tools\\\\ufo.csv', index_col = False)\n",
    "df.head()"
   ]
  },
  {
   "cell_type": "markdown",
   "metadata": {},
   "source": [
    "#### <font color=blue>7A</font>\n",
    "What's the total number of UFO sightings in the database?"
   ]
  },
  {
   "cell_type": "code",
   "execution_count": null,
   "metadata": {},
   "outputs": [],
   "source": []
  },
  {
   "cell_type": "markdown",
   "metadata": {},
   "source": [
    "#### <font color=blue>7B</font>\n",
    "What's the year with the most events recorded?"
   ]
  },
  {
   "cell_type": "code",
   "execution_count": null,
   "metadata": {},
   "outputs": [],
   "source": []
  },
  {
   "cell_type": "markdown",
   "metadata": {},
   "source": [
    "#### <font color=blue>7C</font>\n",
    "Compute a bar plot representation of 'year' versus total number of events in that year. Try to use a manually defined color scale to visualize bars that have more counts than others. Include in the plot a vertical line and some text around the year 1990, symbolizing the creation of Adobe Photoshop.\n",
    "\n",
    "Here is an **example** of the output plot:\n",
    "<img src='img/7C.png' alt='Drawing' style='width:500px;'/>"
   ]
  },
  {
   "cell_type": "code",
   "execution_count": null,
   "metadata": {},
   "outputs": [],
   "source": []
  },
  {
   "cell_type": "markdown",
   "metadata": {},
   "source": [
    "### <font color=blue>Exercise 8: Database filtering and data processing</font> \n",
    "Consider the *sections.txt* file containing aproperty database of European HEA, HEB, HEM and IPE steel sections, which looks like this:"
   ]
  },
  {
   "cell_type": "code",
   "execution_count": null,
   "metadata": {},
   "outputs": [],
   "source": [
    "import pandas as pd\n",
    "df = pd.read_csv('tools\\\\sections.txt', index_col = False)\n",
    "df.head()"
   ]
  },
  {
   "cell_type": "markdown",
   "metadata": {},
   "source": [
    "Assume that the cross-sectional resistances (axial, shear and flexural), can be calculated as (assume S275 steel class) $N_{Rd} = A \\times f_{y}$, $V_{Rd} = A_{vz} \\times f_{y}$ and $M_{Rd} = W_{pl,y} \\times f_{y}$. Furthermore, consider the following 4-storey frame (color tagging according to mandatory member section grouping):\n",
    "\n",
    "<img src='img/8_frame.png' alt='Drawing' style='width:400px;'/>\n",
    "\n",
    "and the internal (axial, shear and flexural) forces, for three load cases (G, Q and E) and ten points along each member, given in the *internal_forces.txt* file which looks like this:"
   ]
  },
  {
   "cell_type": "code",
   "execution_count": null,
   "metadata": {},
   "outputs": [],
   "source": [
    "import pandas as pd\n",
    "df = pd.read_csv('tools\\\\internal_forces.txt', index_col = False)\n",
    "df.head()"
   ]
  },
  {
   "cell_type": "markdown",
   "metadata": {},
   "source": [
    "Considering that the internal design forces can be calculated with the combination $G + 0.3Q + 6.0E$, and the mandatory member section grouping scheme shown before, obtain the optimum design solution of the frame, considering the following safety verifications:\n",
    "- $N_{Ed}/N_{Rd} + M_{Ed}/M_{Rd} \\leq 1.0$\n",
    "- $V_{Ed}/V_{Rd} \\leq 0.5$\n",
    "\n",
    "To start, you may assume that all columns will be 'HEB' and the beams 'IPE'. However, you may also consider that the type of section for columns and beams is individually given as input at the beginning of the code (only a single possible section type for the columns and another for the beams). Plot the obtained design solution, by annotating the final section obtained for each member (group). Include in the plot the total steel quantity of the design solution.\n",
    "\n",
    "Here is an **example** of the output plot:\n",
    "<img src='img/8.png' alt='Drawing' style='width:400px;'/>"
   ]
  },
  {
   "cell_type": "code",
   "execution_count": null,
   "metadata": {},
   "outputs": [],
   "source": []
  },
  {
   "cell_type": "markdown",
   "metadata": {},
   "source": [
    "[Back to top](#back_to_top)"
   ]
  }
 ],
 "metadata": {
  "kernelspec": {
   "display_name": "Python 3 (ipykernel)",
   "language": "python",
   "name": "python3"
  },
  "language_info": {
   "codemirror_mode": {
    "name": "ipython",
    "version": 3
   },
   "file_extension": ".py",
   "mimetype": "text/x-python",
   "name": "python",
   "nbconvert_exporter": "python",
   "pygments_lexer": "ipython3",
   "version": "3.8.10"
  }
 },
 "nbformat": 4,
 "nbformat_minor": 2
}
