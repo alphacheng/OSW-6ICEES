{
 "cells": [
  {
   "cell_type": "markdown",
   "metadata": {},
   "source": [
    "<img src='img/logo.png' alt='Drawing' style='width:2000px;'/>\n",
    "<img src='img/_logo.JPG' alt='Drawing' style='width:2000px;'/>"
   ]
  },
  {
   "cell_type": "markdown",
   "metadata": {},
   "source": [
    "# <font color=blue>About the Course Module</font>\n",
    "\n",
    "This module aims to familiarize individuals from a non-programming background, namely coming from a Civil Engineering environment to the use of Python. Its direct intent is to make up for the general lack of knowledge of valuable programming skills within the Civil Engineering community in Turkey, although this context may characterize other countries and/or fields of expertise as well. The topics covered in this set of notebooks are, by no means, comprehensive within the world of Python, rather aiming to provide some level of guidance to beginners in the aforementioned context, whilst anchoring them as best as possible to the Civil Engineering domain. Aside from these topics, the module has been extended to cover OpenSeesPy: Python library for the OpenSees finite element framework. The target audience for this part is considered to have a background in Earthquake Engineering.\n",
    "\n",
    "# <font color=blue>Contributors</font>\n",
    "\n",
    "The base course material presented here was originally prepared in the context of **Python for Beginners** course taught in *Eucentre* by *António Silva*, hence his efforts are greatly appreciated. The course material was extended by *Volkan Özsaraç* with the aim of introducing *OpenSeesPy* library to the Earthquake Engineering community."
   ]
  },
  {
   "cell_type": "markdown",
   "metadata": {},
   "source": [
    "| Module | Contents |\n",
    "|:-|:-|\n",
    "|<font color=blue>1. [Introduction](1. Introduction.ipynb)</font>|Motivation for and structure of the course.|\n",
    "|<font color=blue>2. [Getting Started]</font>||\n",
    "|<font color=blue>2.1. [Basic Syntax](2.1. Basic Syntax.ipynb)</font>|Main characteristics of the Python language syntax (e.g. identifiers, keywords, indentation, comments).|\n",
    "|<font color=blue>2.2. [Variable Types](2.2. Variable Types.ipynb)</font>|How to assign data to a variable, what types of variables exist in Python and what differentiates them.|\n",
    "|<font color=blue>2.3. [Basic Operators](2.3. Basic Operators.ipynb)</font>|Types of operations allowed in Python (e.g. arithmetic, comparison, assignment, logic, membership, identity).|\n",
    "|<font color=blue>2.4. [Control Flow and Loops](2.4. Control Flow and Loops.ipynb)</font>|What is the Python syntax for algorithms in flow (e.g. conditional statements, for, while).|\n",
    "|<font color=blue>2.5. [Functions](2.5. Functions.ipynb)</font>|How to define and use organized self-contained, reusable blocks of code.|\n",
    "|<font color=blue>2.6. [Packages and Modules](2.6. Packages and Modules.ipynb)</font>|How to import and use packages (e.g. advanced math operations, plotting library) into the code.|\n",
    "|<font color=blue>2.7. [Errors](2.7. Errors.ipynb)</font>|How to interpret Python tracebacks in debugging.|\n",
    "|<font color=blue>2.8. [Exercises](2.8. Exercises.ipynb)</font>|Simple exercises to practice contents.|\n",
    "|<font color=blue>2.9. [Solutions](2.9. Solutions.ipynb)</font>|Solutions of the exercises.|\n",
    "|<font color=blue>3. [Libraries]</font>||\n",
    "|<font color=blue>3.1. [OpenPyXL](3.1. OpenPyXL.ipynb)</font>|Data manipulation and extraction from Excel spreadsheets.|\n",
    "|<font color=blue>3.2. [os and shutil](3.2. os and shutil.ipynb)</font>|Miscellaneous operating system interfaces.|\n",
    "|<font color=blue>3.3. [NumPy](3.3. NumPy.ipynb)</font>|Low-level package for scientific computing (e.g. automatic array generation, linear algebra operations).|\n",
    "|<font color=blue>3.4. [SciPy](3.4. SciPy.ipynb)</font>|Advanced package for scientific computing (e.g. integration, interpolation, optimization).|\n",
    "|<font color=blue>3.5. [pandas](3.5. Pandas.ipynb)</font>|Data manipulation and analysis (e.g. reading tabular data, sorting, filtering).|\n",
    "|<font color=blue>3.6. [Matplotlib](3.6. Matplotlib.ipynb)</font>|Plotting library for the production of publication quality figures (e.g. lines, scatters, bars, 3D, subplots).|\n",
    "|<font color=blue>3.7. [Exercises](3.7. Exercises.ipynb)</font>|Advanced exercises to practice contents. |\n",
    "|<font color=blue>3.8. [Solutions](3.8. Solutions.ipynb)</font>|Solutions of the exercises.|\n",
    "|<font color=blue>4. [OpenSeesPy]</font>||\n",
    "|<font color=blue>4.1 [SDoF Analysis](4.1. SDoF Analysis.ipynb)</font>|Analyses of single degree of freedom (SDoF) systems.|\n",
    "|<font color=blue>4.2 [Moment Curvature Analysis](4.2. Moment Curvature Analysis.ipynb)</font>|Moment curvature analysis of a rectangular reinforced concrete section|\n",
    "|<font color=blue>4.3 [Frame  Analysis](4.3. Frame Analysis.ipynb)</font>|Modal analysis, response spectrum analyis, nonlinear static pushover analysis and nonlinear response history analysis of a 2D frame structure.|"
   ]
  },
  {
   "cell_type": "code",
   "execution_count": null,
   "metadata": {},
   "outputs": [],
   "source": []
  }
 ],
 "metadata": {
  "kernelspec": {
   "display_name": "Python 3 (ipykernel)",
   "language": "python",
   "name": "python3"
  },
  "language_info": {
   "codemirror_mode": {
    "name": "ipython",
    "version": 3
   },
   "file_extension": ".py",
   "mimetype": "text/x-python",
   "name": "python",
   "nbconvert_exporter": "python",
   "pygments_lexer": "ipython3",
   "version": "3.8.10"
  }
 },
 "nbformat": 4,
 "nbformat_minor": 2
}
