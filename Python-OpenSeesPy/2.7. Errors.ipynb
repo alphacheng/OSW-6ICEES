{
 "cells": [
  {
   "cell_type": "markdown",
   "metadata": {},
   "source": [
    "<a id='back_to_top'></a>"
   ]
  },
  {
   "cell_type": "markdown",
   "metadata": {},
   "source": [
    "<img src='img/_logo.jpg' alt='Drawing' style='width:2000px;'/>"
   ]
  },
  {
   "cell_type": "markdown",
   "metadata": {},
   "source": [
    "# <font color=blue>2. Getting Started</font>\n",
    "## <font color=blue>2.8. Errors</font>\n",
    "     \n",
    "Very likely, codes will have some sort of error, regardless of the amount of experience one has. Oftentimes, these are frustating aspects to deal with. However, understanding what the different types of errors are and when you are likely to encounter them can be very helpful. Errors in Python have a very specific form, called a `traceback`. In the following, some examples of common Python errors (and the `traceback` Python returns to the user) are detailed.\n",
    "\n",
    "### <font color=blue>2.8.1. String concatenation</font>\n",
    "When trying to concatenate strings from partial strings, one needs to make sure that the operation can be carried out. This means that every substring that will form the full string needs to have an `str` type. \n",
    "\n",
    "Example:"
   ]
  },
  {
   "cell_type": "code",
   "execution_count": null,
   "metadata": {},
   "outputs": [],
   "source": [
    "'a' + 1"
   ]
  },
  {
   "cell_type": "markdown",
   "metadata": {},
   "source": [
    "The `traceback` shown above contains all the necessary information regarding the error. Firstly, the line in which the problem exists is identified (in this case, line 1), and the issue (`TypeError`) as well. As mentioned before, one cannot concatenate a string with a number of any format (e.g. integer, float). The only way to join the substrings is to convert any non-string \"words\" to strings before concatenating.\n",
    "\n",
    "Furthermore, when concatenating largestring , one may forget to assign the `+` operator. In this case, the error is one related with syntax (`SyntaxError`), given that the interpreter realizes that something is missing. Not only is the line of the error given, the position along the code \"line\" where everything went wrong is also identified.\n",
    "\n",
    "Example:"
   ]
  },
  {
   "cell_type": "code",
   "execution_count": null,
   "metadata": {},
   "outputs": [],
   "source": [
    "'a' 1"
   ]
  },
  {
   "cell_type": "markdown",
   "metadata": {},
   "source": [
    "### <font color=blue>2.8.1. Numerical operations</font> \n",
    "In the same way one cannot concatenate non-string objects, trying to perform numerical operations on non-numerical objects will raise an error (`TypeError`).\n",
    "\n",
    "Example:"
   ]
  },
  {
   "cell_type": "code",
   "execution_count": null,
   "metadata": {},
   "outputs": [],
   "source": [
    "1 + '2'"
   ]
  },
  {
   "cell_type": "markdown",
   "metadata": {},
   "source": [
    "### <font color=blue>2.8.2. Range of list indexes</font>  \n",
    "Another common error pertains the available range of indexes within a list object (or tuple, array). When trying to access an index that does not exist in the object, Python will point out that it cannot do that with a `IndexError`.\n",
    "\n",
    "Example:"
   ]
  },
  {
   "cell_type": "code",
   "execution_count": null,
   "metadata": {},
   "outputs": [],
   "source": [
    "a = [0, 1, 2]\n",
    "print(a[3])"
   ]
  },
  {
   "cell_type": "markdown",
   "metadata": {},
   "source": [
    "### <font color=blue>2.8.3. Key not in dictionary</font>   \n",
    "Trying to use a non-existent key of a dictionary is also one of the error types Python reports back (with `KeyError`).\n",
    "\n",
    "Example:"
   ]
  },
  {
   "cell_type": "code",
   "execution_count": null,
   "metadata": {},
   "outputs": [],
   "source": [
    "a = {'A': 0, 'B': 1, 'C': 2}\n",
    "print(a['D'])"
   ]
  },
  {
   "cell_type": "markdown",
   "metadata": {},
   "source": [
    "### <font color=blue>2.8.4. Variable not defined</font>   \n",
    "Whenever an operation is attempted with a given variable that is not defined within the namespace, Python reports back a `NameError`.\n",
    "\n",
    "Example:"
   ]
  },
  {
   "cell_type": "code",
   "execution_count": null,
   "metadata": {},
   "outputs": [],
   "source": [
    "b"
   ]
  },
  {
   "cell_type": "markdown",
   "metadata": {},
   "source": [
    "### <font color=blue>2.8.5. Flow sintax</font>    \n",
    "When initiating any sort of flow in Python (e.g. `for` or `while` loofs, `if` statements, `functions`, `classes`), it is very important to use the colon character ( `:` ) when the flow starts. Not doing so will raise a `SyntaxError`.\n",
    "\n",
    "Example:"
   ]
  },
  {
   "cell_type": "code",
   "execution_count": null,
   "metadata": {},
   "outputs": [],
   "source": [
    "for i in range(3)\n",
    "    print(i)"
   ]
  },
  {
   "cell_type": "markdown",
   "metadata": {},
   "source": [
    "### <font color=blue>2.8.6. Indentation</font>\n",
    "In Python, flows are interpreted on the basis of the colon character ( `:` ), in conjuntion with  indentation. If Python notices that something is indented and it shouldn't be, an `IndentationError` error will be given. \n",
    "\n",
    "Example:"
   ]
  },
  {
   "cell_type": "code",
   "execution_count": null,
   "metadata": {},
   "outputs": [],
   "source": [
    "for i in range(3):\n",
    "    print(i)\n",
    "j = i + 1\n",
    "    print(j)"
   ]
  },
  {
   "cell_type": "markdown",
   "metadata": {},
   "source": [
    "Notice that Python only recognized there was an issue because it was not expecting another indented line after `j = i + 1`, since this marked the end of the flow defined previously. Thus, if `print(j)` was not there, and `j = i + 1` was supposed to be part of the flow, Python would not report any error. In such cases, it is up to the user to make sure the flow and the indentations are defined as desired."
   ]
  },
  {
   "cell_type": "markdown",
   "metadata": {},
   "source": [
    "[Back to top](#back_to_top)"
   ]
  }
 ],
 "metadata": {
  "kernelspec": {
   "display_name": "Python 3",
   "language": "python",
   "name": "python3"
  },
  "language_info": {
   "codemirror_mode": {
    "name": "ipython",
    "version": 3
   },
   "file_extension": ".py",
   "mimetype": "text/x-python",
   "name": "python",
   "nbconvert_exporter": "python",
   "pygments_lexer": "ipython3",
   "version": "3.6.5"
  }
 },
 "nbformat": 4,
 "nbformat_minor": 2
}
